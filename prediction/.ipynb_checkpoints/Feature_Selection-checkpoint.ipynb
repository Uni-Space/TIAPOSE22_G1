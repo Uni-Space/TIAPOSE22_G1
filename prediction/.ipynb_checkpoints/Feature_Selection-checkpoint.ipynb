{
 "cells": [
  {
   "cell_type": "code",
   "execution_count": 48,
   "id": "171ec044",
   "metadata": {
    "scrolled": false
   },
   "outputs": [],
   "source": [
    "library(rminer)\n",
    "library(RSNNS) \n",
    "\n",
    "library(tictoc)\n",
    "\n",
    "library(lubridate)"
   ]
  },
  {
   "cell_type": "code",
   "execution_count": 49,
   "id": "604e8ee4",
   "metadata": {
    "scrolled": true
   },
   "outputs": [],
   "source": [
    "df = read.csv(\"../data/store.csv\", header = TRUE, sep=\";\")"
   ]
  },
  {
   "cell_type": "code",
   "execution_count": 50,
   "id": "cc877bb0",
   "metadata": {
    "scrolled": true
   },
   "outputs": [],
   "source": [
    "df$weather[df$weather==\"Rain\"]<-0\n",
    "df$weather[df$weather==\"Sunny\"]<-1\n",
    "df$weather <- sapply(df$weather, as.integer)"
   ]
  },
  {
   "cell_type": "code",
   "execution_count": 51,
   "id": "dce3b6ed",
   "metadata": {},
   "outputs": [],
   "source": [
    "df$date <- as.Date(df$date, format=\"%Y-%m-%d\")\n",
    "df$day <- wday(df$date, week_start=1)\n",
    "df$date <- NULL"
   ]
  },
  {
   "cell_type": "code",
   "execution_count": 52,
   "id": "e911141e",
   "metadata": {},
   "outputs": [],
   "source": [
    "#define Min-Max normalization function\n",
    "min_max_norm <- function(x) {\n",
    "    (x - min(x)) / (max(x) - min(x))\n",
    "  }"
   ]
  },
  {
   "cell_type": "code",
   "execution_count": 53,
   "id": "39b3ad10",
   "metadata": {},
   "outputs": [],
   "source": [
    "#apply Min-Max normalization to first four columns in iris dataset\n",
    "df[7:9] <- as.data.frame(lapply(df[7:9], min_max_norm))"
   ]
  },
  {
   "cell_type": "code",
   "execution_count": 54,
   "id": "2f8bebfa",
   "metadata": {},
   "outputs": [],
   "source": [
    "df[,1] <- round(df[,1], 0)"
   ]
  },
  {
   "cell_type": "code",
   "execution_count": 55,
   "id": "908dc8ad",
   "metadata": {},
   "outputs": [
    {
     "data": {
      "text/html": [
       "<style>\n",
       ".dl-inline {width: auto; margin:0; padding: 0}\n",
       ".dl-inline>dt, .dl-inline>dd {float: none; width: auto; display: inline-block}\n",
       ".dl-inline>dt::after {content: \":\\0020\"; padding-right: .5ex}\n",
       ".dl-inline>dt:not(:first-of-type) {padding-left: .5ex}\n",
       "</style><dl class=dl-inline><dt>all</dt><dd>'integer'</dd><dt>female</dt><dd>'numeric'</dd><dt>male</dt><dd>'integer'</dd><dt>young</dt><dd>'integer'</dd><dt>adult</dt><dd>'numeric'</dd><dt>weather</dt><dd>'integer'</dd><dt>maxtemp</dt><dd>'numeric'</dd><dt>RH</dt><dd>'numeric'</dd><dt>maxwind</dt><dd>'numeric'</dd><dt>day</dt><dd>'numeric'</dd></dl>\n"
      ],
      "text/latex": [
       "\\begin{description*}\n",
       "\\item[all] 'integer'\n",
       "\\item[female] 'numeric'\n",
       "\\item[male] 'integer'\n",
       "\\item[young] 'integer'\n",
       "\\item[adult] 'numeric'\n",
       "\\item[weather] 'integer'\n",
       "\\item[maxtemp] 'numeric'\n",
       "\\item[RH] 'numeric'\n",
       "\\item[maxwind] 'numeric'\n",
       "\\item[day] 'numeric'\n",
       "\\end{description*}\n"
      ],
      "text/markdown": [
       "all\n",
       ":   'integer'female\n",
       ":   'numeric'male\n",
       ":   'integer'young\n",
       ":   'integer'adult\n",
       ":   'numeric'weather\n",
       ":   'integer'maxtemp\n",
       ":   'numeric'RH\n",
       ":   'numeric'maxwind\n",
       ":   'numeric'day\n",
       ":   'numeric'\n",
       "\n"
      ],
      "text/plain": [
       "      all    female      male     young     adult   weather   maxtemp        RH \n",
       "\"integer\" \"numeric\" \"integer\" \"integer\" \"numeric\" \"integer\" \"numeric\" \"numeric\" \n",
       "  maxwind       day \n",
       "\"numeric\" \"numeric\" "
      ]
     },
     "metadata": {},
     "output_type": "display_data"
    }
   ],
   "source": [
    "df$all <- sapply(df$all, as.integer)\n",
    "sapply(df, class)"
   ]
  },
  {
   "cell_type": "code",
   "execution_count": 56,
   "id": "e0f3d82a",
   "metadata": {
    "scrolled": false
   },
   "outputs": [
    {
     "data": {
      "text/html": [
       "<table class=\"dataframe\">\n",
       "<caption>A data.frame: 6 × 10</caption>\n",
       "<thead>\n",
       "\t<tr><th></th><th scope=col>all</th><th scope=col>female</th><th scope=col>male</th><th scope=col>young</th><th scope=col>adult</th><th scope=col>weather</th><th scope=col>maxtemp</th><th scope=col>RH</th><th scope=col>maxwind</th><th scope=col>day</th></tr>\n",
       "\t<tr><th></th><th scope=col>&lt;int&gt;</th><th scope=col>&lt;dbl&gt;</th><th scope=col>&lt;int&gt;</th><th scope=col>&lt;int&gt;</th><th scope=col>&lt;dbl&gt;</th><th scope=col>&lt;int&gt;</th><th scope=col>&lt;dbl&gt;</th><th scope=col>&lt;dbl&gt;</th><th scope=col>&lt;dbl&gt;</th><th scope=col>&lt;dbl&gt;</th></tr>\n",
       "</thead>\n",
       "<tbody>\n",
       "\t<tr><th scope=row>1</th><td>2332</td><td>1115</td><td>1108</td><td>1122</td><td>1210</td><td>0</td><td>0.24</td><td>0.8400000</td><td>0.0000000</td><td>2</td></tr>\n",
       "\t<tr><th scope=row>2</th><td>2801</td><td>1217</td><td>1459</td><td>1239</td><td>1562</td><td>0</td><td>0.28</td><td>0.9333333</td><td>0.6081081</td><td>3</td></tr>\n",
       "\t<tr><th scope=row>3</th><td>2375</td><td>1168</td><td>1099</td><td>1059</td><td>1316</td><td>0</td><td>0.28</td><td>0.7733333</td><td>0.7432432</td><td>4</td></tr>\n",
       "\t<tr><th scope=row>4</th><td>3447</td><td>1617</td><td>1651</td><td>1606</td><td>1841</td><td>1</td><td>0.24</td><td>0.7200000</td><td>0.0000000</td><td>5</td></tr>\n",
       "\t<tr><th scope=row>5</th><td>4823</td><td>2469</td><td>2117</td><td>2318</td><td>2505</td><td>0</td><td>0.36</td><td>0.7600000</td><td>0.5000000</td><td>6</td></tr>\n",
       "\t<tr><th scope=row>6</th><td>4978</td><td>2564</td><td>2223</td><td>2289</td><td>2689</td><td>0</td><td>0.36</td><td>0.6533333</td><td>0.0000000</td><td>7</td></tr>\n",
       "</tbody>\n",
       "</table>\n"
      ],
      "text/latex": [
       "A data.frame: 6 × 10\n",
       "\\begin{tabular}{r|llllllllll}\n",
       "  & all & female & male & young & adult & weather & maxtemp & RH & maxwind & day\\\\\n",
       "  & <int> & <dbl> & <int> & <int> & <dbl> & <int> & <dbl> & <dbl> & <dbl> & <dbl>\\\\\n",
       "\\hline\n",
       "\t1 & 2332 & 1115 & 1108 & 1122 & 1210 & 0 & 0.24 & 0.8400000 & 0.0000000 & 2\\\\\n",
       "\t2 & 2801 & 1217 & 1459 & 1239 & 1562 & 0 & 0.28 & 0.9333333 & 0.6081081 & 3\\\\\n",
       "\t3 & 2375 & 1168 & 1099 & 1059 & 1316 & 0 & 0.28 & 0.7733333 & 0.7432432 & 4\\\\\n",
       "\t4 & 3447 & 1617 & 1651 & 1606 & 1841 & 1 & 0.24 & 0.7200000 & 0.0000000 & 5\\\\\n",
       "\t5 & 4823 & 2469 & 2117 & 2318 & 2505 & 0 & 0.36 & 0.7600000 & 0.5000000 & 6\\\\\n",
       "\t6 & 4978 & 2564 & 2223 & 2289 & 2689 & 0 & 0.36 & 0.6533333 & 0.0000000 & 7\\\\\n",
       "\\end{tabular}\n"
      ],
      "text/markdown": [
       "\n",
       "A data.frame: 6 × 10\n",
       "\n",
       "| <!--/--> | all &lt;int&gt; | female &lt;dbl&gt; | male &lt;int&gt; | young &lt;int&gt; | adult &lt;dbl&gt; | weather &lt;int&gt; | maxtemp &lt;dbl&gt; | RH &lt;dbl&gt; | maxwind &lt;dbl&gt; | day &lt;dbl&gt; |\n",
       "|---|---|---|---|---|---|---|---|---|---|---|\n",
       "| 1 | 2332 | 1115 | 1108 | 1122 | 1210 | 0 | 0.24 | 0.8400000 | 0.0000000 | 2 |\n",
       "| 2 | 2801 | 1217 | 1459 | 1239 | 1562 | 0 | 0.28 | 0.9333333 | 0.6081081 | 3 |\n",
       "| 3 | 2375 | 1168 | 1099 | 1059 | 1316 | 0 | 0.28 | 0.7733333 | 0.7432432 | 4 |\n",
       "| 4 | 3447 | 1617 | 1651 | 1606 | 1841 | 1 | 0.24 | 0.7200000 | 0.0000000 | 5 |\n",
       "| 5 | 4823 | 2469 | 2117 | 2318 | 2505 | 0 | 0.36 | 0.7600000 | 0.5000000 | 6 |\n",
       "| 6 | 4978 | 2564 | 2223 | 2289 | 2689 | 0 | 0.36 | 0.6533333 | 0.0000000 | 7 |\n",
       "\n"
      ],
      "text/plain": [
       "  all  female male young adult weather maxtemp RH        maxwind   day\n",
       "1 2332 1115   1108 1122  1210  0       0.24    0.8400000 0.0000000 2  \n",
       "2 2801 1217   1459 1239  1562  0       0.28    0.9333333 0.6081081 3  \n",
       "3 2375 1168   1099 1059  1316  0       0.28    0.7733333 0.7432432 4  \n",
       "4 3447 1617   1651 1606  1841  1       0.24    0.7200000 0.0000000 5  \n",
       "5 4823 2469   2117 2318  2505  0       0.36    0.7600000 0.5000000 6  \n",
       "6 4978 2564   2223 2289  2689  0       0.36    0.6533333 0.0000000 7  "
      ]
     },
     "metadata": {},
     "output_type": "display_data"
    }
   ],
   "source": [
    "head(df)"
   ]
  },
  {
   "cell_type": "code",
   "execution_count": 57,
   "id": "74e45b6d",
   "metadata": {},
   "outputs": [],
   "source": [
    "NPRED = 7"
   ]
  },
  {
   "cell_type": "code",
   "execution_count": 58,
   "id": "39b63d2a",
   "metadata": {},
   "outputs": [
    {
     "data": {
      "text/html": [
       "<style>\n",
       ".list-inline {list-style: none; margin:0; padding: 0}\n",
       ".list-inline>li {display: inline-block}\n",
       ".list-inline>li:not(:last-child)::after {content: \"\\00b7\"; padding: 0 .5ex}\n",
       "</style>\n",
       "<ol class=list-inline><li>2332</li><li>2801</li><li>2375</li><li>3447</li><li>4823</li><li>4978</li></ol>\n"
      ],
      "text/latex": [
       "\\begin{enumerate*}\n",
       "\\item 2332\n",
       "\\item 2801\n",
       "\\item 2375\n",
       "\\item 3447\n",
       "\\item 4823\n",
       "\\item 4978\n",
       "\\end{enumerate*}\n"
      ],
      "text/markdown": [
       "1. 2332\n",
       "2. 2801\n",
       "3. 2375\n",
       "4. 3447\n",
       "5. 4823\n",
       "6. 4978\n",
       "\n",
       "\n"
      ],
      "text/plain": [
       "[1] 2332 2801 2375 3447 4823 4978"
      ]
     },
     "metadata": {},
     "output_type": "display_data"
    }
   ],
   "source": [
    "s <- df[, 1] # feature all\n",
    "head(s)"
   ]
  },
  {
   "cell_type": "code",
   "execution_count": 59,
   "id": "ac0573fe",
   "metadata": {
    "scrolled": true
   },
   "outputs": [
    {
     "data": {
      "text/html": [
       "<table class=\"dataframe\">\n",
       "<caption>A data.frame: 10 × 10</caption>\n",
       "<thead>\n",
       "\t<tr><th></th><th scope=col>all</th><th scope=col>female</th><th scope=col>male</th><th scope=col>young</th><th scope=col>adult</th><th scope=col>weather</th><th scope=col>maxtemp</th><th scope=col>RH</th><th scope=col>maxwind</th><th scope=col>day</th></tr>\n",
       "\t<tr><th></th><th scope=col>&lt;int&gt;</th><th scope=col>&lt;dbl&gt;</th><th scope=col>&lt;int&gt;</th><th scope=col>&lt;int&gt;</th><th scope=col>&lt;dbl&gt;</th><th scope=col>&lt;int&gt;</th><th scope=col>&lt;dbl&gt;</th><th scope=col>&lt;dbl&gt;</th><th scope=col>&lt;dbl&gt;</th><th scope=col>&lt;dbl&gt;</th></tr>\n",
       "</thead>\n",
       "<tbody>\n",
       "\t<tr><th scope=row>1</th><td>2332</td><td>1115</td><td>1108</td><td>1122</td><td>1210</td><td>0</td><td>0.24</td><td>0.8400000</td><td>0.0000000</td><td>2</td></tr>\n",
       "\t<tr><th scope=row>2</th><td>2801</td><td>1217</td><td>1459</td><td>1239</td><td>1562</td><td>0</td><td>0.28</td><td>0.9333333</td><td>0.6081081</td><td>3</td></tr>\n",
       "\t<tr><th scope=row>3</th><td>2375</td><td>1168</td><td>1099</td><td>1059</td><td>1316</td><td>0</td><td>0.28</td><td>0.7733333</td><td>0.7432432</td><td>4</td></tr>\n",
       "\t<tr><th scope=row>4</th><td>3447</td><td>1617</td><td>1651</td><td>1606</td><td>1841</td><td>1</td><td>0.24</td><td>0.7200000</td><td>0.0000000</td><td>5</td></tr>\n",
       "\t<tr><th scope=row>5</th><td>4823</td><td>2469</td><td>2117</td><td>2318</td><td>2505</td><td>0</td><td>0.36</td><td>0.7600000</td><td>0.5000000</td><td>6</td></tr>\n",
       "\t<tr><th scope=row>6</th><td>4978</td><td>2564</td><td>2223</td><td>2289</td><td>2689</td><td>0</td><td>0.36</td><td>0.6533333</td><td>0.0000000</td><td>7</td></tr>\n",
       "\t<tr><th scope=row>7</th><td>2706</td><td>1192</td><td>1401</td><td>1148</td><td>1558</td><td>1</td><td>0.40</td><td>0.7466667</td><td>0.0000000</td><td>1</td></tr>\n",
       "\t<tr><th scope=row>8</th><td>2639</td><td>1220</td><td>1308</td><td>1110</td><td>1529</td><td>1</td><td>0.40</td><td>0.6133333</td><td>0.4324324</td><td>2</td></tr>\n",
       "\t<tr><th scope=row>9</th><td>2647</td><td>1178</td><td>1329</td><td>1152</td><td>1495</td><td>1</td><td>0.36</td><td>0.6400000</td><td>0.0000000</td><td>3</td></tr>\n",
       "\t<tr><th scope=row>10</th><td>2612</td><td>1257</td><td>1228</td><td>1064</td><td>1548</td><td>1</td><td>0.36</td><td>0.6400000</td><td>0.7162162</td><td>4</td></tr>\n",
       "</tbody>\n",
       "</table>\n"
      ],
      "text/latex": [
       "A data.frame: 10 × 10\n",
       "\\begin{tabular}{r|llllllllll}\n",
       "  & all & female & male & young & adult & weather & maxtemp & RH & maxwind & day\\\\\n",
       "  & <int> & <dbl> & <int> & <int> & <dbl> & <int> & <dbl> & <dbl> & <dbl> & <dbl>\\\\\n",
       "\\hline\n",
       "\t1 & 2332 & 1115 & 1108 & 1122 & 1210 & 0 & 0.24 & 0.8400000 & 0.0000000 & 2\\\\\n",
       "\t2 & 2801 & 1217 & 1459 & 1239 & 1562 & 0 & 0.28 & 0.9333333 & 0.6081081 & 3\\\\\n",
       "\t3 & 2375 & 1168 & 1099 & 1059 & 1316 & 0 & 0.28 & 0.7733333 & 0.7432432 & 4\\\\\n",
       "\t4 & 3447 & 1617 & 1651 & 1606 & 1841 & 1 & 0.24 & 0.7200000 & 0.0000000 & 5\\\\\n",
       "\t5 & 4823 & 2469 & 2117 & 2318 & 2505 & 0 & 0.36 & 0.7600000 & 0.5000000 & 6\\\\\n",
       "\t6 & 4978 & 2564 & 2223 & 2289 & 2689 & 0 & 0.36 & 0.6533333 & 0.0000000 & 7\\\\\n",
       "\t7 & 2706 & 1192 & 1401 & 1148 & 1558 & 1 & 0.40 & 0.7466667 & 0.0000000 & 1\\\\\n",
       "\t8 & 2639 & 1220 & 1308 & 1110 & 1529 & 1 & 0.40 & 0.6133333 & 0.4324324 & 2\\\\\n",
       "\t9 & 2647 & 1178 & 1329 & 1152 & 1495 & 1 & 0.36 & 0.6400000 & 0.0000000 & 3\\\\\n",
       "\t10 & 2612 & 1257 & 1228 & 1064 & 1548 & 1 & 0.36 & 0.6400000 & 0.7162162 & 4\\\\\n",
       "\\end{tabular}\n"
      ],
      "text/markdown": [
       "\n",
       "A data.frame: 10 × 10\n",
       "\n",
       "| <!--/--> | all &lt;int&gt; | female &lt;dbl&gt; | male &lt;int&gt; | young &lt;int&gt; | adult &lt;dbl&gt; | weather &lt;int&gt; | maxtemp &lt;dbl&gt; | RH &lt;dbl&gt; | maxwind &lt;dbl&gt; | day &lt;dbl&gt; |\n",
       "|---|---|---|---|---|---|---|---|---|---|---|\n",
       "| 1 | 2332 | 1115 | 1108 | 1122 | 1210 | 0 | 0.24 | 0.8400000 | 0.0000000 | 2 |\n",
       "| 2 | 2801 | 1217 | 1459 | 1239 | 1562 | 0 | 0.28 | 0.9333333 | 0.6081081 | 3 |\n",
       "| 3 | 2375 | 1168 | 1099 | 1059 | 1316 | 0 | 0.28 | 0.7733333 | 0.7432432 | 4 |\n",
       "| 4 | 3447 | 1617 | 1651 | 1606 | 1841 | 1 | 0.24 | 0.7200000 | 0.0000000 | 5 |\n",
       "| 5 | 4823 | 2469 | 2117 | 2318 | 2505 | 0 | 0.36 | 0.7600000 | 0.5000000 | 6 |\n",
       "| 6 | 4978 | 2564 | 2223 | 2289 | 2689 | 0 | 0.36 | 0.6533333 | 0.0000000 | 7 |\n",
       "| 7 | 2706 | 1192 | 1401 | 1148 | 1558 | 1 | 0.40 | 0.7466667 | 0.0000000 | 1 |\n",
       "| 8 | 2639 | 1220 | 1308 | 1110 | 1529 | 1 | 0.40 | 0.6133333 | 0.4324324 | 2 |\n",
       "| 9 | 2647 | 1178 | 1329 | 1152 | 1495 | 1 | 0.36 | 0.6400000 | 0.0000000 | 3 |\n",
       "| 10 | 2612 | 1257 | 1228 | 1064 | 1548 | 1 | 0.36 | 0.6400000 | 0.7162162 | 4 |\n",
       "\n"
      ],
      "text/plain": [
       "   all  female male young adult weather maxtemp RH        maxwind   day\n",
       "1  2332 1115   1108 1122  1210  0       0.24    0.8400000 0.0000000 2  \n",
       "2  2801 1217   1459 1239  1562  0       0.28    0.9333333 0.6081081 3  \n",
       "3  2375 1168   1099 1059  1316  0       0.28    0.7733333 0.7432432 4  \n",
       "4  3447 1617   1651 1606  1841  1       0.24    0.7200000 0.0000000 5  \n",
       "5  4823 2469   2117 2318  2505  0       0.36    0.7600000 0.5000000 6  \n",
       "6  4978 2564   2223 2289  2689  0       0.36    0.6533333 0.0000000 7  \n",
       "7  2706 1192   1401 1148  1558  1       0.40    0.7466667 0.0000000 1  \n",
       "8  2639 1220   1308 1110  1529  1       0.40    0.6133333 0.4324324 2  \n",
       "9  2647 1178   1329 1152  1495  1       0.36    0.6400000 0.0000000 3  \n",
       "10 2612 1257   1228 1064  1548  1       0.36    0.6400000 0.7162162 4  "
      ]
     },
     "metadata": {},
     "output_type": "display_data"
    }
   ],
   "source": [
    "head(df, 10)"
   ]
  },
  {
   "cell_type": "code",
   "execution_count": 60,
   "id": "a8f62347",
   "metadata": {
    "scrolled": true
   },
   "outputs": [],
   "source": [
    "hd=holdout(df[,1],ratio=NPRED,mode=\"order\")"
   ]
  },
  {
   "cell_type": "code",
   "execution_count": 61,
   "id": "55cb8454",
   "metadata": {
    "scrolled": true
   },
   "outputs": [
    {
     "data": {
      "text/html": [
       "<dl>\n",
       "\t<dt>$tr</dt>\n",
       "\t\t<dd><style>\n",
       ".list-inline {list-style: none; margin:0; padding: 0}\n",
       ".list-inline>li {display: inline-block}\n",
       ".list-inline>li:not(:last-child)::after {content: \"\\00b7\"; padding: 0 .5ex}\n",
       "</style>\n",
       "<ol class=list-inline><li>1</li><li>2</li><li>3</li><li>4</li><li>5</li><li>6</li><li>7</li><li>8</li><li>9</li><li>10</li><li>11</li><li>12</li><li>13</li><li>14</li><li>15</li><li>16</li><li>17</li><li>18</li><li>19</li><li>20</li><li>21</li><li>22</li><li>23</li><li>24</li><li>25</li><li>26</li><li>27</li><li>28</li><li>29</li><li>30</li><li>31</li><li>32</li><li>33</li><li>34</li><li>35</li><li>36</li><li>37</li><li>38</li><li>39</li><li>40</li><li>41</li><li>42</li><li>43</li><li>44</li><li>45</li><li>46</li><li>47</li><li>48</li><li>49</li><li>50</li><li>51</li><li>52</li><li>53</li><li>54</li><li>55</li><li>56</li><li>57</li><li>58</li><li>59</li><li>60</li><li>61</li><li>62</li><li>63</li><li>64</li><li>65</li><li>66</li><li>67</li><li>68</li><li>69</li><li>70</li><li>71</li><li>72</li><li>73</li><li>74</li><li>75</li><li>76</li><li>77</li><li>78</li><li>79</li><li>80</li><li>81</li><li>82</li><li>83</li><li>84</li><li>85</li><li>86</li><li>87</li><li>88</li><li>89</li><li>90</li><li>91</li><li>92</li><li>93</li><li>94</li><li>95</li><li>96</li><li>97</li><li>98</li><li>99</li><li>100</li><li>101</li><li>102</li><li>103</li><li>104</li><li>105</li><li>106</li><li>107</li><li>108</li><li>109</li><li>110</li><li>111</li><li>112</li><li>113</li><li>114</li><li>115</li><li>116</li><li>117</li><li>118</li><li>119</li><li>120</li><li>121</li><li>122</li><li>123</li><li>124</li><li>125</li><li>126</li><li>127</li><li>128</li><li>129</li><li>130</li><li>131</li><li>132</li><li>133</li><li>134</li><li>135</li><li>136</li><li>137</li><li>138</li><li>139</li><li>140</li><li>141</li><li>142</li><li>143</li><li>144</li><li>145</li><li>146</li><li>147</li><li>148</li><li>149</li><li>150</li><li>151</li><li>152</li><li>153</li><li>154</li><li>155</li><li>156</li><li>157</li><li>158</li><li>159</li><li>160</li><li>161</li><li>162</li><li>163</li><li>164</li><li>165</li><li>166</li><li>167</li><li>168</li><li>169</li><li>170</li><li>171</li><li>172</li><li>173</li><li>174</li><li>175</li><li>176</li><li>177</li><li>178</li><li>179</li><li>180</li><li>181</li><li>182</li><li>183</li><li>184</li><li>185</li><li>186</li><li>187</li><li>188</li><li>189</li><li>190</li><li>191</li><li>192</li><li>193</li><li>194</li><li>195</li><li>196</li><li>197</li><li>198</li><li>199</li><li>200</li><li>201</li><li>202</li><li>203</li><li>204</li><li>205</li><li>206</li><li>207</li><li>208</li><li>209</li><li>210</li><li>211</li><li>212</li><li>213</li><li>214</li><li>215</li><li>216</li><li>217</li><li>218</li><li>219</li><li>220</li><li>221</li><li>222</li><li>223</li><li>224</li><li>225</li><li>226</li><li>227</li><li>228</li><li>229</li><li>230</li><li>231</li><li>232</li><li>233</li><li>234</li><li>235</li><li>236</li><li>237</li><li>238</li><li>239</li><li>240</li><li>241</li><li>242</li><li>243</li><li>244</li><li>245</li><li>246</li><li>247</li><li>248</li><li>249</li><li>250</li></ol>\n",
       "</dd>\n",
       "\t<dt>$itr</dt>\n",
       "\t\t<dd>NULL</dd>\n",
       "\t<dt>$val</dt>\n",
       "\t\t<dd>NULL</dd>\n",
       "\t<dt>$ts</dt>\n",
       "\t\t<dd><style>\n",
       ".list-inline {list-style: none; margin:0; padding: 0}\n",
       ".list-inline>li {display: inline-block}\n",
       ".list-inline>li:not(:last-child)::after {content: \"\\00b7\"; padding: 0 .5ex}\n",
       "</style>\n",
       "<ol class=list-inline><li>251</li><li>252</li><li>253</li><li>254</li><li>255</li><li>256</li><li>257</li></ol>\n",
       "</dd>\n",
       "</dl>\n"
      ],
      "text/latex": [
       "\\begin{description}\n",
       "\\item[\\$tr] \\begin{enumerate*}\n",
       "\\item 1\n",
       "\\item 2\n",
       "\\item 3\n",
       "\\item 4\n",
       "\\item 5\n",
       "\\item 6\n",
       "\\item 7\n",
       "\\item 8\n",
       "\\item 9\n",
       "\\item 10\n",
       "\\item 11\n",
       "\\item 12\n",
       "\\item 13\n",
       "\\item 14\n",
       "\\item 15\n",
       "\\item 16\n",
       "\\item 17\n",
       "\\item 18\n",
       "\\item 19\n",
       "\\item 20\n",
       "\\item 21\n",
       "\\item 22\n",
       "\\item 23\n",
       "\\item 24\n",
       "\\item 25\n",
       "\\item 26\n",
       "\\item 27\n",
       "\\item 28\n",
       "\\item 29\n",
       "\\item 30\n",
       "\\item 31\n",
       "\\item 32\n",
       "\\item 33\n",
       "\\item 34\n",
       "\\item 35\n",
       "\\item 36\n",
       "\\item 37\n",
       "\\item 38\n",
       "\\item 39\n",
       "\\item 40\n",
       "\\item 41\n",
       "\\item 42\n",
       "\\item 43\n",
       "\\item 44\n",
       "\\item 45\n",
       "\\item 46\n",
       "\\item 47\n",
       "\\item 48\n",
       "\\item 49\n",
       "\\item 50\n",
       "\\item 51\n",
       "\\item 52\n",
       "\\item 53\n",
       "\\item 54\n",
       "\\item 55\n",
       "\\item 56\n",
       "\\item 57\n",
       "\\item 58\n",
       "\\item 59\n",
       "\\item 60\n",
       "\\item 61\n",
       "\\item 62\n",
       "\\item 63\n",
       "\\item 64\n",
       "\\item 65\n",
       "\\item 66\n",
       "\\item 67\n",
       "\\item 68\n",
       "\\item 69\n",
       "\\item 70\n",
       "\\item 71\n",
       "\\item 72\n",
       "\\item 73\n",
       "\\item 74\n",
       "\\item 75\n",
       "\\item 76\n",
       "\\item 77\n",
       "\\item 78\n",
       "\\item 79\n",
       "\\item 80\n",
       "\\item 81\n",
       "\\item 82\n",
       "\\item 83\n",
       "\\item 84\n",
       "\\item 85\n",
       "\\item 86\n",
       "\\item 87\n",
       "\\item 88\n",
       "\\item 89\n",
       "\\item 90\n",
       "\\item 91\n",
       "\\item 92\n",
       "\\item 93\n",
       "\\item 94\n",
       "\\item 95\n",
       "\\item 96\n",
       "\\item 97\n",
       "\\item 98\n",
       "\\item 99\n",
       "\\item 100\n",
       "\\item 101\n",
       "\\item 102\n",
       "\\item 103\n",
       "\\item 104\n",
       "\\item 105\n",
       "\\item 106\n",
       "\\item 107\n",
       "\\item 108\n",
       "\\item 109\n",
       "\\item 110\n",
       "\\item 111\n",
       "\\item 112\n",
       "\\item 113\n",
       "\\item 114\n",
       "\\item 115\n",
       "\\item 116\n",
       "\\item 117\n",
       "\\item 118\n",
       "\\item 119\n",
       "\\item 120\n",
       "\\item 121\n",
       "\\item 122\n",
       "\\item 123\n",
       "\\item 124\n",
       "\\item 125\n",
       "\\item 126\n",
       "\\item 127\n",
       "\\item 128\n",
       "\\item 129\n",
       "\\item 130\n",
       "\\item 131\n",
       "\\item 132\n",
       "\\item 133\n",
       "\\item 134\n",
       "\\item 135\n",
       "\\item 136\n",
       "\\item 137\n",
       "\\item 138\n",
       "\\item 139\n",
       "\\item 140\n",
       "\\item 141\n",
       "\\item 142\n",
       "\\item 143\n",
       "\\item 144\n",
       "\\item 145\n",
       "\\item 146\n",
       "\\item 147\n",
       "\\item 148\n",
       "\\item 149\n",
       "\\item 150\n",
       "\\item 151\n",
       "\\item 152\n",
       "\\item 153\n",
       "\\item 154\n",
       "\\item 155\n",
       "\\item 156\n",
       "\\item 157\n",
       "\\item 158\n",
       "\\item 159\n",
       "\\item 160\n",
       "\\item 161\n",
       "\\item 162\n",
       "\\item 163\n",
       "\\item 164\n",
       "\\item 165\n",
       "\\item 166\n",
       "\\item 167\n",
       "\\item 168\n",
       "\\item 169\n",
       "\\item 170\n",
       "\\item 171\n",
       "\\item 172\n",
       "\\item 173\n",
       "\\item 174\n",
       "\\item 175\n",
       "\\item 176\n",
       "\\item 177\n",
       "\\item 178\n",
       "\\item 179\n",
       "\\item 180\n",
       "\\item 181\n",
       "\\item 182\n",
       "\\item 183\n",
       "\\item 184\n",
       "\\item 185\n",
       "\\item 186\n",
       "\\item 187\n",
       "\\item 188\n",
       "\\item 189\n",
       "\\item 190\n",
       "\\item 191\n",
       "\\item 192\n",
       "\\item 193\n",
       "\\item 194\n",
       "\\item 195\n",
       "\\item 196\n",
       "\\item 197\n",
       "\\item 198\n",
       "\\item 199\n",
       "\\item 200\n",
       "\\item 201\n",
       "\\item 202\n",
       "\\item 203\n",
       "\\item 204\n",
       "\\item 205\n",
       "\\item 206\n",
       "\\item 207\n",
       "\\item 208\n",
       "\\item 209\n",
       "\\item 210\n",
       "\\item 211\n",
       "\\item 212\n",
       "\\item 213\n",
       "\\item 214\n",
       "\\item 215\n",
       "\\item 216\n",
       "\\item 217\n",
       "\\item 218\n",
       "\\item 219\n",
       "\\item 220\n",
       "\\item 221\n",
       "\\item 222\n",
       "\\item 223\n",
       "\\item 224\n",
       "\\item 225\n",
       "\\item 226\n",
       "\\item 227\n",
       "\\item 228\n",
       "\\item 229\n",
       "\\item 230\n",
       "\\item 231\n",
       "\\item 232\n",
       "\\item 233\n",
       "\\item 234\n",
       "\\item 235\n",
       "\\item 236\n",
       "\\item 237\n",
       "\\item 238\n",
       "\\item 239\n",
       "\\item 240\n",
       "\\item 241\n",
       "\\item 242\n",
       "\\item 243\n",
       "\\item 244\n",
       "\\item 245\n",
       "\\item 246\n",
       "\\item 247\n",
       "\\item 248\n",
       "\\item 249\n",
       "\\item 250\n",
       "\\end{enumerate*}\n",
       "\n",
       "\\item[\\$itr] NULL\n",
       "\\item[\\$val] NULL\n",
       "\\item[\\$ts] \\begin{enumerate*}\n",
       "\\item 251\n",
       "\\item 252\n",
       "\\item 253\n",
       "\\item 254\n",
       "\\item 255\n",
       "\\item 256\n",
       "\\item 257\n",
       "\\end{enumerate*}\n",
       "\n",
       "\\end{description}\n"
      ],
      "text/markdown": [
       "$tr\n",
       ":   1. 1\n",
       "2. 2\n",
       "3. 3\n",
       "4. 4\n",
       "5. 5\n",
       "6. 6\n",
       "7. 7\n",
       "8. 8\n",
       "9. 9\n",
       "10. 10\n",
       "11. 11\n",
       "12. 12\n",
       "13. 13\n",
       "14. 14\n",
       "15. 15\n",
       "16. 16\n",
       "17. 17\n",
       "18. 18\n",
       "19. 19\n",
       "20. 20\n",
       "21. 21\n",
       "22. 22\n",
       "23. 23\n",
       "24. 24\n",
       "25. 25\n",
       "26. 26\n",
       "27. 27\n",
       "28. 28\n",
       "29. 29\n",
       "30. 30\n",
       "31. 31\n",
       "32. 32\n",
       "33. 33\n",
       "34. 34\n",
       "35. 35\n",
       "36. 36\n",
       "37. 37\n",
       "38. 38\n",
       "39. 39\n",
       "40. 40\n",
       "41. 41\n",
       "42. 42\n",
       "43. 43\n",
       "44. 44\n",
       "45. 45\n",
       "46. 46\n",
       "47. 47\n",
       "48. 48\n",
       "49. 49\n",
       "50. 50\n",
       "51. 51\n",
       "52. 52\n",
       "53. 53\n",
       "54. 54\n",
       "55. 55\n",
       "56. 56\n",
       "57. 57\n",
       "58. 58\n",
       "59. 59\n",
       "60. 60\n",
       "61. 61\n",
       "62. 62\n",
       "63. 63\n",
       "64. 64\n",
       "65. 65\n",
       "66. 66\n",
       "67. 67\n",
       "68. 68\n",
       "69. 69\n",
       "70. 70\n",
       "71. 71\n",
       "72. 72\n",
       "73. 73\n",
       "74. 74\n",
       "75. 75\n",
       "76. 76\n",
       "77. 77\n",
       "78. 78\n",
       "79. 79\n",
       "80. 80\n",
       "81. 81\n",
       "82. 82\n",
       "83. 83\n",
       "84. 84\n",
       "85. 85\n",
       "86. 86\n",
       "87. 87\n",
       "88. 88\n",
       "89. 89\n",
       "90. 90\n",
       "91. 91\n",
       "92. 92\n",
       "93. 93\n",
       "94. 94\n",
       "95. 95\n",
       "96. 96\n",
       "97. 97\n",
       "98. 98\n",
       "99. 99\n",
       "100. 100\n",
       "101. 101\n",
       "102. 102\n",
       "103. 103\n",
       "104. 104\n",
       "105. 105\n",
       "106. 106\n",
       "107. 107\n",
       "108. 108\n",
       "109. 109\n",
       "110. 110\n",
       "111. 111\n",
       "112. 112\n",
       "113. 113\n",
       "114. 114\n",
       "115. 115\n",
       "116. 116\n",
       "117. 117\n",
       "118. 118\n",
       "119. 119\n",
       "120. 120\n",
       "121. 121\n",
       "122. 122\n",
       "123. 123\n",
       "124. 124\n",
       "125. 125\n",
       "126. 126\n",
       "127. 127\n",
       "128. 128\n",
       "129. 129\n",
       "130. 130\n",
       "131. 131\n",
       "132. 132\n",
       "133. 133\n",
       "134. 134\n",
       "135. 135\n",
       "136. 136\n",
       "137. 137\n",
       "138. 138\n",
       "139. 139\n",
       "140. 140\n",
       "141. 141\n",
       "142. 142\n",
       "143. 143\n",
       "144. 144\n",
       "145. 145\n",
       "146. 146\n",
       "147. 147\n",
       "148. 148\n",
       "149. 149\n",
       "150. 150\n",
       "151. 151\n",
       "152. 152\n",
       "153. 153\n",
       "154. 154\n",
       "155. 155\n",
       "156. 156\n",
       "157. 157\n",
       "158. 158\n",
       "159. 159\n",
       "160. 160\n",
       "161. 161\n",
       "162. 162\n",
       "163. 163\n",
       "164. 164\n",
       "165. 165\n",
       "166. 166\n",
       "167. 167\n",
       "168. 168\n",
       "169. 169\n",
       "170. 170\n",
       "171. 171\n",
       "172. 172\n",
       "173. 173\n",
       "174. 174\n",
       "175. 175\n",
       "176. 176\n",
       "177. 177\n",
       "178. 178\n",
       "179. 179\n",
       "180. 180\n",
       "181. 181\n",
       "182. 182\n",
       "183. 183\n",
       "184. 184\n",
       "185. 185\n",
       "186. 186\n",
       "187. 187\n",
       "188. 188\n",
       "189. 189\n",
       "190. 190\n",
       "191. 191\n",
       "192. 192\n",
       "193. 193\n",
       "194. 194\n",
       "195. 195\n",
       "196. 196\n",
       "197. 197\n",
       "198. 198\n",
       "199. 199\n",
       "200. 200\n",
       "201. 201\n",
       "202. 202\n",
       "203. 203\n",
       "204. 204\n",
       "205. 205\n",
       "206. 206\n",
       "207. 207\n",
       "208. 208\n",
       "209. 209\n",
       "210. 210\n",
       "211. 211\n",
       "212. 212\n",
       "213. 213\n",
       "214. 214\n",
       "215. 215\n",
       "216. 216\n",
       "217. 217\n",
       "218. 218\n",
       "219. 219\n",
       "220. 220\n",
       "221. 221\n",
       "222. 222\n",
       "223. 223\n",
       "224. 224\n",
       "225. 225\n",
       "226. 226\n",
       "227. 227\n",
       "228. 228\n",
       "229. 229\n",
       "230. 230\n",
       "231. 231\n",
       "232. 232\n",
       "233. 233\n",
       "234. 234\n",
       "235. 235\n",
       "236. 236\n",
       "237. 237\n",
       "238. 238\n",
       "239. 239\n",
       "240. 240\n",
       "241. 241\n",
       "242. 242\n",
       "243. 243\n",
       "244. 244\n",
       "245. 245\n",
       "246. 246\n",
       "247. 247\n",
       "248. 248\n",
       "249. 249\n",
       "250. 250\n",
       "\n",
       "\n",
       "\n",
       "$itr\n",
       ":   NULL\n",
       "$val\n",
       ":   NULL\n",
       "$ts\n",
       ":   1. 251\n",
       "2. 252\n",
       "3. 253\n",
       "4. 254\n",
       "5. 255\n",
       "6. 256\n",
       "7. 257\n",
       "\n",
       "\n",
       "\n",
       "\n",
       "\n"
      ],
      "text/plain": [
       "$tr\n",
       "  [1]   1   2   3   4   5   6   7   8   9  10  11  12  13  14  15  16  17  18\n",
       " [19]  19  20  21  22  23  24  25  26  27  28  29  30  31  32  33  34  35  36\n",
       " [37]  37  38  39  40  41  42  43  44  45  46  47  48  49  50  51  52  53  54\n",
       " [55]  55  56  57  58  59  60  61  62  63  64  65  66  67  68  69  70  71  72\n",
       " [73]  73  74  75  76  77  78  79  80  81  82  83  84  85  86  87  88  89  90\n",
       " [91]  91  92  93  94  95  96  97  98  99 100 101 102 103 104 105 106 107 108\n",
       "[109] 109 110 111 112 113 114 115 116 117 118 119 120 121 122 123 124 125 126\n",
       "[127] 127 128 129 130 131 132 133 134 135 136 137 138 139 140 141 142 143 144\n",
       "[145] 145 146 147 148 149 150 151 152 153 154 155 156 157 158 159 160 161 162\n",
       "[163] 163 164 165 166 167 168 169 170 171 172 173 174 175 176 177 178 179 180\n",
       "[181] 181 182 183 184 185 186 187 188 189 190 191 192 193 194 195 196 197 198\n",
       "[199] 199 200 201 202 203 204 205 206 207 208 209 210 211 212 213 214 215 216\n",
       "[217] 217 218 219 220 221 222 223 224 225 226 227 228 229 230 231 232 233 234\n",
       "[235] 235 236 237 238 239 240 241 242 243 244 245 246 247 248 249 250\n",
       "\n",
       "$itr\n",
       "NULL\n",
       "\n",
       "$val\n",
       "NULL\n",
       "\n",
       "$ts\n",
       "[1] 251 252 253 254 255 256 257\n"
      ]
     },
     "metadata": {},
     "output_type": "display_data"
    }
   ],
   "source": [
    "hd"
   ]
  },
  {
   "cell_type": "code",
   "execution_count": 62,
   "id": "d94420d0",
   "metadata": {
    "scrolled": true
   },
   "outputs": [
    {
     "data": {
      "text/html": [
       "<table class=\"dataframe\">\n",
       "<caption>A data.frame: 250 × 10</caption>\n",
       "<thead>\n",
       "\t<tr><th></th><th scope=col>all</th><th scope=col>female</th><th scope=col>male</th><th scope=col>young</th><th scope=col>adult</th><th scope=col>weather</th><th scope=col>maxtemp</th><th scope=col>RH</th><th scope=col>maxwind</th><th scope=col>day</th></tr>\n",
       "\t<tr><th></th><th scope=col>&lt;int&gt;</th><th scope=col>&lt;dbl&gt;</th><th scope=col>&lt;int&gt;</th><th scope=col>&lt;int&gt;</th><th scope=col>&lt;dbl&gt;</th><th scope=col>&lt;int&gt;</th><th scope=col>&lt;dbl&gt;</th><th scope=col>&lt;dbl&gt;</th><th scope=col>&lt;dbl&gt;</th><th scope=col>&lt;dbl&gt;</th></tr>\n",
       "</thead>\n",
       "<tbody>\n",
       "\t<tr><th scope=row>8</th><td>2639</td><td>1220</td><td>1308</td><td>1110</td><td>1529</td><td>1</td><td>0.40</td><td>0.6133333</td><td>0.4324324</td><td>2</td></tr>\n",
       "\t<tr><th scope=row>9</th><td>2647</td><td>1178</td><td>1329</td><td>1152</td><td>1495</td><td>1</td><td>0.36</td><td>0.6400000</td><td>0.0000000</td><td>3</td></tr>\n",
       "\t<tr><th scope=row>10</th><td>2612</td><td>1257</td><td>1228</td><td>1064</td><td>1548</td><td>1</td><td>0.36</td><td>0.6400000</td><td>0.7162162</td><td>4</td></tr>\n",
       "\t<tr><th scope=row>11</th><td>3530</td><td>1749</td><td>1581</td><td>1546</td><td>1984</td><td>1</td><td>0.36</td><td>0.5066667</td><td>0.0000000</td><td>5</td></tr>\n",
       "\t<tr><th scope=row>12</th><td>4440</td><td>2256</td><td>1970</td><td>2082</td><td>2358</td><td>1</td><td>0.44</td><td>0.3066667</td><td>0.6756757</td><td>6</td></tr>\n",
       "\t<tr><th scope=row>13</th><td>3469</td><td>1695</td><td>1601</td><td>1594</td><td>1875</td><td>1</td><td>0.36</td><td>0.3333333</td><td>0.0000000</td><td>7</td></tr>\n",
       "\t<tr><th scope=row>14</th><td>2542</td><td>1154</td><td>1279</td><td>1042</td><td>1500</td><td>1</td><td>0.40</td><td>0.5733333</td><td>0.3918919</td><td>1</td></tr>\n",
       "\t<tr><th scope=row>15</th><td>2779</td><td>1324</td><td>1341</td><td>1159</td><td>1620</td><td>1</td><td>0.48</td><td>0.3600000</td><td>0.4729730</td><td>2</td></tr>\n",
       "\t<tr><th scope=row>16</th><td>4488</td><td>2603</td><td>1686</td><td>1752</td><td>2736</td><td>1</td><td>0.44</td><td>0.5066667</td><td>0.3648649</td><td>3</td></tr>\n",
       "\t<tr><th scope=row>17</th><td>5506</td><td>3095</td><td>2162</td><td>2298</td><td>3208</td><td>1</td><td>0.52</td><td>0.4000000</td><td>0.6486486</td><td>4</td></tr>\n",
       "\t<tr><th scope=row>18</th><td>2954</td><td>1269</td><td>1579</td><td>1268</td><td>1686</td><td>1</td><td>0.36</td><td>0.7466667</td><td>0.7432432</td><td>5</td></tr>\n",
       "\t<tr><th scope=row>19</th><td>2542</td><td>1187</td><td>1254</td><td>1099</td><td>1443</td><td>1</td><td>0.24</td><td>0.5200000</td><td>1.0000000</td><td>6</td></tr>\n",
       "\t<tr><th scope=row>20</th><td>2892</td><td>1246</td><td>1522</td><td>1274</td><td>1618</td><td>1</td><td>0.12</td><td>0.4133333</td><td>0.7432432</td><td>7</td></tr>\n",
       "\t<tr><th scope=row>21</th><td>2445</td><td> 942</td><td>1388</td><td>1021</td><td>1424</td><td>0</td><td>0.16</td><td>0.4800000</td><td>0.6756757</td><td>1</td></tr>\n",
       "\t<tr><th scope=row>22</th><td>2231</td><td> 896</td><td>1231</td><td> 906</td><td>1325</td><td>1</td><td>0.20</td><td>0.5600000</td><td>0.0000000</td><td>2</td></tr>\n",
       "\t<tr><th scope=row>23</th><td>3617</td><td>1589</td><td>1879</td><td>1670</td><td>1947</td><td>1</td><td>0.28</td><td>0.5866667</td><td>0.4594595</td><td>3</td></tr>\n",
       "\t<tr><th scope=row>24</th><td>2113</td><td> 885</td><td>1120</td><td> 897</td><td>1216</td><td>1</td><td>0.36</td><td>0.5333333</td><td>0.0000000</td><td>4</td></tr>\n",
       "\t<tr><th scope=row>25</th><td>2363</td><td> 932</td><td>1336</td><td> 973</td><td>1390</td><td>1</td><td>0.44</td><td>0.3866667</td><td>0.0000000</td><td>5</td></tr>\n",
       "\t<tr><th scope=row>26</th><td>3728</td><td>1690</td><td>1884</td><td>1612</td><td>2116</td><td>1</td><td>0.52</td><td>0.3200000</td><td>0.3648649</td><td>6</td></tr>\n",
       "\t<tr><th scope=row>27</th><td>3643</td><td>1718</td><td>1781</td><td>1620</td><td>2023</td><td>1</td><td>0.48</td><td>0.2400000</td><td>0.4324324</td><td>7</td></tr>\n",
       "\t<tr><th scope=row>28</th><td>2249</td><td> 917</td><td>1258</td><td> 888</td><td>1361</td><td>1</td><td>0.40</td><td>0.3866667</td><td>0.0000000</td><td>1</td></tr>\n",
       "\t<tr><th scope=row>29</th><td>2214</td><td> 834</td><td>1291</td><td> 879</td><td>1335</td><td>0</td><td>0.48</td><td>0.2933333</td><td>0.0000000</td><td>2</td></tr>\n",
       "\t<tr><th scope=row>30</th><td>1668</td><td> 902</td><td> 766</td><td> 711</td><td> 957</td><td>0</td><td>0.48</td><td>0.4266667</td><td>0.3918919</td><td>3</td></tr>\n",
       "\t<tr><th scope=row>31</th><td>1121</td><td> 497</td><td> 575</td><td> 532</td><td> 589</td><td>1</td><td>0.48</td><td>0.6400000</td><td>0.0000000</td><td>4</td></tr>\n",
       "\t<tr><th scope=row>32</th><td>2160</td><td> 939</td><td>1135</td><td> 966</td><td>1194</td><td>1</td><td>0.40</td><td>0.5866667</td><td>0.0000000</td><td>5</td></tr>\n",
       "\t<tr><th scope=row>33</th><td>2107</td><td>1004</td><td>1029</td><td>1034</td><td>1073</td><td>1</td><td>0.36</td><td>0.5466667</td><td>0.6486486</td><td>6</td></tr>\n",
       "\t<tr><th scope=row>34</th><td>2281</td><td> 975</td><td>1220</td><td>1045</td><td>1236</td><td>1</td><td>0.44</td><td>0.5200000</td><td>0.0000000</td><td>7</td></tr>\n",
       "\t<tr><th scope=row>35</th><td>1301</td><td> 538</td><td> 708</td><td> 569</td><td> 732</td><td>1</td><td>0.60</td><td>0.3600000</td><td>0.3918919</td><td>1</td></tr>\n",
       "\t<tr><th scope=row>36</th><td>1628</td><td> 641</td><td> 913</td><td> 708</td><td> 920</td><td>1</td><td>0.36</td><td>0.6666667</td><td>0.7027027</td><td>2</td></tr>\n",
       "\t<tr><th scope=row>37</th><td>1344</td><td> 580</td><td> 706</td><td> 655</td><td> 689</td><td>0</td><td>0.24</td><td>0.5866667</td><td>0.9594595</td><td>3</td></tr>\n",
       "\t<tr><th scope=row>...</th><td>...</td><td>...</td><td>...</td><td>...</td><td>...</td><td>...</td><td>...</td><td>...</td><td>...</td><td>...</td></tr>\n",
       "\t<tr><th scope=row>228</th><td> 3459</td><td>1377</td><td>1929</td><td>1584</td><td>1875</td><td>0</td><td>0.16</td><td>1.0000000</td><td>0.0000000</td><td>5</td></tr>\n",
       "\t<tr><th scope=row>229</th><td> 4860</td><td>2184</td><td>2400</td><td>2442</td><td>2418</td><td>1</td><td>0.12</td><td>0.8000000</td><td>0.0000000</td><td>6</td></tr>\n",
       "\t<tr><th scope=row>230</th><td> 5179</td><td>2317</td><td>2605</td><td>2661</td><td>2518</td><td>1</td><td>0.08</td><td>0.4533333</td><td>0.0000000</td><td>7</td></tr>\n",
       "\t<tr><th scope=row>231</th><td> 2642</td><td>1082</td><td>1401</td><td>1150</td><td>1492</td><td>1</td><td>0.12</td><td>0.4266667</td><td>0.0000000</td><td>1</td></tr>\n",
       "\t<tr><th scope=row>232</th><td> 2551</td><td>1015</td><td>1400</td><td>1246</td><td>1305</td><td>1</td><td>0.12</td><td>0.4400000</td><td>0.5000000</td><td>2</td></tr>\n",
       "\t<tr><th scope=row>233</th><td> 2347</td><td> 899</td><td>1327</td><td>1136</td><td>1211</td><td>1</td><td>0.08</td><td>0.4533333</td><td>0.0000000</td><td>3</td></tr>\n",
       "\t<tr><th scope=row>234</th><td> 2863</td><td>1238</td><td>1501</td><td>1430</td><td>1433</td><td>1</td><td>0.04</td><td>0.4800000</td><td>0.0000000</td><td>4</td></tr>\n",
       "\t<tr><th scope=row>235</th><td> 3875</td><td>1789</td><td>1891</td><td>1962</td><td>1913</td><td>1</td><td>0.16</td><td>0.5066667</td><td>0.0000000</td><td>5</td></tr>\n",
       "\t<tr><th scope=row>236</th><td> 6107</td><td>2854</td><td>2887</td><td>3214</td><td>2893</td><td>1</td><td>0.12</td><td>0.6000000</td><td>0.0000000</td><td>6</td></tr>\n",
       "\t<tr><th scope=row>237</th><td> 4857</td><td>2289</td><td>2305</td><td>2476</td><td>2381</td><td>1</td><td>0.12</td><td>0.4000000</td><td>0.6081081</td><td>7</td></tr>\n",
       "\t<tr><th scope=row>238</th><td> 3365</td><td>1705</td><td>1495</td><td>1594</td><td>1771</td><td>1</td><td>0.08</td><td>0.4533333</td><td>0.0000000</td><td>1</td></tr>\n",
       "\t<tr><th scope=row>239</th><td> 2938</td><td>1440</td><td>1348</td><td>1318</td><td>1620</td><td>1</td><td>0.08</td><td>0.4800000</td><td>0.4729730</td><td>2</td></tr>\n",
       "\t<tr><th scope=row>240</th><td> 3119</td><td>1540</td><td>1437</td><td>1405</td><td>1714</td><td>1</td><td>0.16</td><td>0.5066667</td><td>0.4594595</td><td>3</td></tr>\n",
       "\t<tr><th scope=row>241</th><td> 3436</td><td>1811</td><td>1484</td><td>1576</td><td>1860</td><td>1</td><td>0.20</td><td>0.6133333</td><td>0.4729730</td><td>4</td></tr>\n",
       "\t<tr><th scope=row>242</th><td> 2343</td><td>1409</td><td> 855</td><td>1150</td><td>1193</td><td>1</td><td>0.16</td><td>0.5733333</td><td>0.0000000</td><td>5</td></tr>\n",
       "\t<tr><th scope=row>243</th><td> 5579</td><td>2855</td><td>2429</td><td>2972</td><td>2607</td><td>1</td><td>0.08</td><td>0.6400000</td><td>0.4594595</td><td>6</td></tr>\n",
       "\t<tr><th scope=row>244</th><td> 4796</td><td>2235</td><td>2284</td><td>2489</td><td>2307</td><td>0</td><td>0.00</td><td>0.7866667</td><td>0.0000000</td><td>7</td></tr>\n",
       "\t<tr><th scope=row>245</th><td> 2620</td><td>1080</td><td>1376</td><td>1375</td><td>1245</td><td>0</td><td>0.04</td><td>0.7866667</td><td>0.5270270</td><td>1</td></tr>\n",
       "\t<tr><th scope=row>246</th><td> 2663</td><td>1153</td><td>1373</td><td>1284</td><td>1379</td><td>1</td><td>0.12</td><td>0.6800000</td><td>0.5000000</td><td>2</td></tr>\n",
       "\t<tr><th scope=row>247</th><td> 2817</td><td>1189</td><td>1466</td><td>1387</td><td>1430</td><td>0</td><td>0.20</td><td>0.7466667</td><td>0.0000000</td><td>3</td></tr>\n",
       "\t<tr><th scope=row>248</th><td> 3767</td><td>1708</td><td>1885</td><td>1933</td><td>1834</td><td>1</td><td>0.24</td><td>0.7600000</td><td>0.4324324</td><td>4</td></tr>\n",
       "\t<tr><th scope=row>249</th><td> 6804</td><td>3043</td><td>3399</td><td>3475</td><td>3329</td><td>0</td><td>0.24</td><td>0.9333333</td><td>0.3918919</td><td>5</td></tr>\n",
       "\t<tr><th scope=row>250</th><td>11110</td><td>5246</td><td>5259</td><td>5953</td><td>5157</td><td>0</td><td>0.24</td><td>0.7866667</td><td>0.6486486</td><td>6</td></tr>\n",
       "\t<tr><th scope=row>251</th><td> 4974</td><td>2299</td><td>2390</td><td>2680</td><td>2294</td><td>1</td><td>0.16</td><td>0.7866667</td><td>0.4729730</td><td>7</td></tr>\n",
       "\t<tr><th scope=row>252</th><td> 3228</td><td>1442</td><td>1606</td><td>1625</td><td>1603</td><td>1</td><td>0.12</td><td>0.8400000</td><td>0.4324324</td><td>1</td></tr>\n",
       "\t<tr><th scope=row>253</th><td> 3191</td><td>1427</td><td>1627</td><td>1688</td><td>1503</td><td>0</td><td>0.16</td><td>0.8800000</td><td>0.3243243</td><td>2</td></tr>\n",
       "\t<tr><th scope=row>254</th><td> 4153</td><td>2035</td><td>1880</td><td>2208</td><td>1945</td><td>0</td><td>0.12</td><td>0.9200000</td><td>0.0000000</td><td>3</td></tr>\n",
       "\t<tr><th scope=row>255</th><td> 4307</td><td>2043</td><td>2028</td><td>2282</td><td>2025</td><td>0</td><td>0.20</td><td>0.8266667</td><td>1.0000000</td><td>4</td></tr>\n",
       "\t<tr><th scope=row>256</th><td> 4660</td><td>2207</td><td>2227</td><td>2441</td><td>2219</td><td>1</td><td>0.08</td><td>0.6000000</td><td>0.0000000</td><td>5</td></tr>\n",
       "\t<tr><th scope=row>257</th><td> 6193</td><td>2894</td><td>2967</td><td>3115</td><td>3078</td><td>1</td><td>0.08</td><td>0.5866667</td><td>0.0000000</td><td>6</td></tr>\n",
       "</tbody>\n",
       "</table>\n"
      ],
      "text/latex": [
       "A data.frame: 250 × 10\n",
       "\\begin{tabular}{r|llllllllll}\n",
       "  & all & female & male & young & adult & weather & maxtemp & RH & maxwind & day\\\\\n",
       "  & <int> & <dbl> & <int> & <int> & <dbl> & <int> & <dbl> & <dbl> & <dbl> & <dbl>\\\\\n",
       "\\hline\n",
       "\t8 & 2639 & 1220 & 1308 & 1110 & 1529 & 1 & 0.40 & 0.6133333 & 0.4324324 & 2\\\\\n",
       "\t9 & 2647 & 1178 & 1329 & 1152 & 1495 & 1 & 0.36 & 0.6400000 & 0.0000000 & 3\\\\\n",
       "\t10 & 2612 & 1257 & 1228 & 1064 & 1548 & 1 & 0.36 & 0.6400000 & 0.7162162 & 4\\\\\n",
       "\t11 & 3530 & 1749 & 1581 & 1546 & 1984 & 1 & 0.36 & 0.5066667 & 0.0000000 & 5\\\\\n",
       "\t12 & 4440 & 2256 & 1970 & 2082 & 2358 & 1 & 0.44 & 0.3066667 & 0.6756757 & 6\\\\\n",
       "\t13 & 3469 & 1695 & 1601 & 1594 & 1875 & 1 & 0.36 & 0.3333333 & 0.0000000 & 7\\\\\n",
       "\t14 & 2542 & 1154 & 1279 & 1042 & 1500 & 1 & 0.40 & 0.5733333 & 0.3918919 & 1\\\\\n",
       "\t15 & 2779 & 1324 & 1341 & 1159 & 1620 & 1 & 0.48 & 0.3600000 & 0.4729730 & 2\\\\\n",
       "\t16 & 4488 & 2603 & 1686 & 1752 & 2736 & 1 & 0.44 & 0.5066667 & 0.3648649 & 3\\\\\n",
       "\t17 & 5506 & 3095 & 2162 & 2298 & 3208 & 1 & 0.52 & 0.4000000 & 0.6486486 & 4\\\\\n",
       "\t18 & 2954 & 1269 & 1579 & 1268 & 1686 & 1 & 0.36 & 0.7466667 & 0.7432432 & 5\\\\\n",
       "\t19 & 2542 & 1187 & 1254 & 1099 & 1443 & 1 & 0.24 & 0.5200000 & 1.0000000 & 6\\\\\n",
       "\t20 & 2892 & 1246 & 1522 & 1274 & 1618 & 1 & 0.12 & 0.4133333 & 0.7432432 & 7\\\\\n",
       "\t21 & 2445 &  942 & 1388 & 1021 & 1424 & 0 & 0.16 & 0.4800000 & 0.6756757 & 1\\\\\n",
       "\t22 & 2231 &  896 & 1231 &  906 & 1325 & 1 & 0.20 & 0.5600000 & 0.0000000 & 2\\\\\n",
       "\t23 & 3617 & 1589 & 1879 & 1670 & 1947 & 1 & 0.28 & 0.5866667 & 0.4594595 & 3\\\\\n",
       "\t24 & 2113 &  885 & 1120 &  897 & 1216 & 1 & 0.36 & 0.5333333 & 0.0000000 & 4\\\\\n",
       "\t25 & 2363 &  932 & 1336 &  973 & 1390 & 1 & 0.44 & 0.3866667 & 0.0000000 & 5\\\\\n",
       "\t26 & 3728 & 1690 & 1884 & 1612 & 2116 & 1 & 0.52 & 0.3200000 & 0.3648649 & 6\\\\\n",
       "\t27 & 3643 & 1718 & 1781 & 1620 & 2023 & 1 & 0.48 & 0.2400000 & 0.4324324 & 7\\\\\n",
       "\t28 & 2249 &  917 & 1258 &  888 & 1361 & 1 & 0.40 & 0.3866667 & 0.0000000 & 1\\\\\n",
       "\t29 & 2214 &  834 & 1291 &  879 & 1335 & 0 & 0.48 & 0.2933333 & 0.0000000 & 2\\\\\n",
       "\t30 & 1668 &  902 &  766 &  711 &  957 & 0 & 0.48 & 0.4266667 & 0.3918919 & 3\\\\\n",
       "\t31 & 1121 &  497 &  575 &  532 &  589 & 1 & 0.48 & 0.6400000 & 0.0000000 & 4\\\\\n",
       "\t32 & 2160 &  939 & 1135 &  966 & 1194 & 1 & 0.40 & 0.5866667 & 0.0000000 & 5\\\\\n",
       "\t33 & 2107 & 1004 & 1029 & 1034 & 1073 & 1 & 0.36 & 0.5466667 & 0.6486486 & 6\\\\\n",
       "\t34 & 2281 &  975 & 1220 & 1045 & 1236 & 1 & 0.44 & 0.5200000 & 0.0000000 & 7\\\\\n",
       "\t35 & 1301 &  538 &  708 &  569 &  732 & 1 & 0.60 & 0.3600000 & 0.3918919 & 1\\\\\n",
       "\t36 & 1628 &  641 &  913 &  708 &  920 & 1 & 0.36 & 0.6666667 & 0.7027027 & 2\\\\\n",
       "\t37 & 1344 &  580 &  706 &  655 &  689 & 0 & 0.24 & 0.5866667 & 0.9594595 & 3\\\\\n",
       "\t... & ... & ... & ... & ... & ... & ... & ... & ... & ... & ...\\\\\n",
       "\t228 &  3459 & 1377 & 1929 & 1584 & 1875 & 0 & 0.16 & 1.0000000 & 0.0000000 & 5\\\\\n",
       "\t229 &  4860 & 2184 & 2400 & 2442 & 2418 & 1 & 0.12 & 0.8000000 & 0.0000000 & 6\\\\\n",
       "\t230 &  5179 & 2317 & 2605 & 2661 & 2518 & 1 & 0.08 & 0.4533333 & 0.0000000 & 7\\\\\n",
       "\t231 &  2642 & 1082 & 1401 & 1150 & 1492 & 1 & 0.12 & 0.4266667 & 0.0000000 & 1\\\\\n",
       "\t232 &  2551 & 1015 & 1400 & 1246 & 1305 & 1 & 0.12 & 0.4400000 & 0.5000000 & 2\\\\\n",
       "\t233 &  2347 &  899 & 1327 & 1136 & 1211 & 1 & 0.08 & 0.4533333 & 0.0000000 & 3\\\\\n",
       "\t234 &  2863 & 1238 & 1501 & 1430 & 1433 & 1 & 0.04 & 0.4800000 & 0.0000000 & 4\\\\\n",
       "\t235 &  3875 & 1789 & 1891 & 1962 & 1913 & 1 & 0.16 & 0.5066667 & 0.0000000 & 5\\\\\n",
       "\t236 &  6107 & 2854 & 2887 & 3214 & 2893 & 1 & 0.12 & 0.6000000 & 0.0000000 & 6\\\\\n",
       "\t237 &  4857 & 2289 & 2305 & 2476 & 2381 & 1 & 0.12 & 0.4000000 & 0.6081081 & 7\\\\\n",
       "\t238 &  3365 & 1705 & 1495 & 1594 & 1771 & 1 & 0.08 & 0.4533333 & 0.0000000 & 1\\\\\n",
       "\t239 &  2938 & 1440 & 1348 & 1318 & 1620 & 1 & 0.08 & 0.4800000 & 0.4729730 & 2\\\\\n",
       "\t240 &  3119 & 1540 & 1437 & 1405 & 1714 & 1 & 0.16 & 0.5066667 & 0.4594595 & 3\\\\\n",
       "\t241 &  3436 & 1811 & 1484 & 1576 & 1860 & 1 & 0.20 & 0.6133333 & 0.4729730 & 4\\\\\n",
       "\t242 &  2343 & 1409 &  855 & 1150 & 1193 & 1 & 0.16 & 0.5733333 & 0.0000000 & 5\\\\\n",
       "\t243 &  5579 & 2855 & 2429 & 2972 & 2607 & 1 & 0.08 & 0.6400000 & 0.4594595 & 6\\\\\n",
       "\t244 &  4796 & 2235 & 2284 & 2489 & 2307 & 0 & 0.00 & 0.7866667 & 0.0000000 & 7\\\\\n",
       "\t245 &  2620 & 1080 & 1376 & 1375 & 1245 & 0 & 0.04 & 0.7866667 & 0.5270270 & 1\\\\\n",
       "\t246 &  2663 & 1153 & 1373 & 1284 & 1379 & 1 & 0.12 & 0.6800000 & 0.5000000 & 2\\\\\n",
       "\t247 &  2817 & 1189 & 1466 & 1387 & 1430 & 0 & 0.20 & 0.7466667 & 0.0000000 & 3\\\\\n",
       "\t248 &  3767 & 1708 & 1885 & 1933 & 1834 & 1 & 0.24 & 0.7600000 & 0.4324324 & 4\\\\\n",
       "\t249 &  6804 & 3043 & 3399 & 3475 & 3329 & 0 & 0.24 & 0.9333333 & 0.3918919 & 5\\\\\n",
       "\t250 & 11110 & 5246 & 5259 & 5953 & 5157 & 0 & 0.24 & 0.7866667 & 0.6486486 & 6\\\\\n",
       "\t251 &  4974 & 2299 & 2390 & 2680 & 2294 & 1 & 0.16 & 0.7866667 & 0.4729730 & 7\\\\\n",
       "\t252 &  3228 & 1442 & 1606 & 1625 & 1603 & 1 & 0.12 & 0.8400000 & 0.4324324 & 1\\\\\n",
       "\t253 &  3191 & 1427 & 1627 & 1688 & 1503 & 0 & 0.16 & 0.8800000 & 0.3243243 & 2\\\\\n",
       "\t254 &  4153 & 2035 & 1880 & 2208 & 1945 & 0 & 0.12 & 0.9200000 & 0.0000000 & 3\\\\\n",
       "\t255 &  4307 & 2043 & 2028 & 2282 & 2025 & 0 & 0.20 & 0.8266667 & 1.0000000 & 4\\\\\n",
       "\t256 &  4660 & 2207 & 2227 & 2441 & 2219 & 1 & 0.08 & 0.6000000 & 0.0000000 & 5\\\\\n",
       "\t257 &  6193 & 2894 & 2967 & 3115 & 3078 & 1 & 0.08 & 0.5866667 & 0.0000000 & 6\\\\\n",
       "\\end{tabular}\n"
      ],
      "text/markdown": [
       "\n",
       "A data.frame: 250 × 10\n",
       "\n",
       "| <!--/--> | all &lt;int&gt; | female &lt;dbl&gt; | male &lt;int&gt; | young &lt;int&gt; | adult &lt;dbl&gt; | weather &lt;int&gt; | maxtemp &lt;dbl&gt; | RH &lt;dbl&gt; | maxwind &lt;dbl&gt; | day &lt;dbl&gt; |\n",
       "|---|---|---|---|---|---|---|---|---|---|---|\n",
       "| 8 | 2639 | 1220 | 1308 | 1110 | 1529 | 1 | 0.40 | 0.6133333 | 0.4324324 | 2 |\n",
       "| 9 | 2647 | 1178 | 1329 | 1152 | 1495 | 1 | 0.36 | 0.6400000 | 0.0000000 | 3 |\n",
       "| 10 | 2612 | 1257 | 1228 | 1064 | 1548 | 1 | 0.36 | 0.6400000 | 0.7162162 | 4 |\n",
       "| 11 | 3530 | 1749 | 1581 | 1546 | 1984 | 1 | 0.36 | 0.5066667 | 0.0000000 | 5 |\n",
       "| 12 | 4440 | 2256 | 1970 | 2082 | 2358 | 1 | 0.44 | 0.3066667 | 0.6756757 | 6 |\n",
       "| 13 | 3469 | 1695 | 1601 | 1594 | 1875 | 1 | 0.36 | 0.3333333 | 0.0000000 | 7 |\n",
       "| 14 | 2542 | 1154 | 1279 | 1042 | 1500 | 1 | 0.40 | 0.5733333 | 0.3918919 | 1 |\n",
       "| 15 | 2779 | 1324 | 1341 | 1159 | 1620 | 1 | 0.48 | 0.3600000 | 0.4729730 | 2 |\n",
       "| 16 | 4488 | 2603 | 1686 | 1752 | 2736 | 1 | 0.44 | 0.5066667 | 0.3648649 | 3 |\n",
       "| 17 | 5506 | 3095 | 2162 | 2298 | 3208 | 1 | 0.52 | 0.4000000 | 0.6486486 | 4 |\n",
       "| 18 | 2954 | 1269 | 1579 | 1268 | 1686 | 1 | 0.36 | 0.7466667 | 0.7432432 | 5 |\n",
       "| 19 | 2542 | 1187 | 1254 | 1099 | 1443 | 1 | 0.24 | 0.5200000 | 1.0000000 | 6 |\n",
       "| 20 | 2892 | 1246 | 1522 | 1274 | 1618 | 1 | 0.12 | 0.4133333 | 0.7432432 | 7 |\n",
       "| 21 | 2445 |  942 | 1388 | 1021 | 1424 | 0 | 0.16 | 0.4800000 | 0.6756757 | 1 |\n",
       "| 22 | 2231 |  896 | 1231 |  906 | 1325 | 1 | 0.20 | 0.5600000 | 0.0000000 | 2 |\n",
       "| 23 | 3617 | 1589 | 1879 | 1670 | 1947 | 1 | 0.28 | 0.5866667 | 0.4594595 | 3 |\n",
       "| 24 | 2113 |  885 | 1120 |  897 | 1216 | 1 | 0.36 | 0.5333333 | 0.0000000 | 4 |\n",
       "| 25 | 2363 |  932 | 1336 |  973 | 1390 | 1 | 0.44 | 0.3866667 | 0.0000000 | 5 |\n",
       "| 26 | 3728 | 1690 | 1884 | 1612 | 2116 | 1 | 0.52 | 0.3200000 | 0.3648649 | 6 |\n",
       "| 27 | 3643 | 1718 | 1781 | 1620 | 2023 | 1 | 0.48 | 0.2400000 | 0.4324324 | 7 |\n",
       "| 28 | 2249 |  917 | 1258 |  888 | 1361 | 1 | 0.40 | 0.3866667 | 0.0000000 | 1 |\n",
       "| 29 | 2214 |  834 | 1291 |  879 | 1335 | 0 | 0.48 | 0.2933333 | 0.0000000 | 2 |\n",
       "| 30 | 1668 |  902 |  766 |  711 |  957 | 0 | 0.48 | 0.4266667 | 0.3918919 | 3 |\n",
       "| 31 | 1121 |  497 |  575 |  532 |  589 | 1 | 0.48 | 0.6400000 | 0.0000000 | 4 |\n",
       "| 32 | 2160 |  939 | 1135 |  966 | 1194 | 1 | 0.40 | 0.5866667 | 0.0000000 | 5 |\n",
       "| 33 | 2107 | 1004 | 1029 | 1034 | 1073 | 1 | 0.36 | 0.5466667 | 0.6486486 | 6 |\n",
       "| 34 | 2281 |  975 | 1220 | 1045 | 1236 | 1 | 0.44 | 0.5200000 | 0.0000000 | 7 |\n",
       "| 35 | 1301 |  538 |  708 |  569 |  732 | 1 | 0.60 | 0.3600000 | 0.3918919 | 1 |\n",
       "| 36 | 1628 |  641 |  913 |  708 |  920 | 1 | 0.36 | 0.6666667 | 0.7027027 | 2 |\n",
       "| 37 | 1344 |  580 |  706 |  655 |  689 | 0 | 0.24 | 0.5866667 | 0.9594595 | 3 |\n",
       "| ... | ... | ... | ... | ... | ... | ... | ... | ... | ... | ... |\n",
       "| 228 |  3459 | 1377 | 1929 | 1584 | 1875 | 0 | 0.16 | 1.0000000 | 0.0000000 | 5 |\n",
       "| 229 |  4860 | 2184 | 2400 | 2442 | 2418 | 1 | 0.12 | 0.8000000 | 0.0000000 | 6 |\n",
       "| 230 |  5179 | 2317 | 2605 | 2661 | 2518 | 1 | 0.08 | 0.4533333 | 0.0000000 | 7 |\n",
       "| 231 |  2642 | 1082 | 1401 | 1150 | 1492 | 1 | 0.12 | 0.4266667 | 0.0000000 | 1 |\n",
       "| 232 |  2551 | 1015 | 1400 | 1246 | 1305 | 1 | 0.12 | 0.4400000 | 0.5000000 | 2 |\n",
       "| 233 |  2347 |  899 | 1327 | 1136 | 1211 | 1 | 0.08 | 0.4533333 | 0.0000000 | 3 |\n",
       "| 234 |  2863 | 1238 | 1501 | 1430 | 1433 | 1 | 0.04 | 0.4800000 | 0.0000000 | 4 |\n",
       "| 235 |  3875 | 1789 | 1891 | 1962 | 1913 | 1 | 0.16 | 0.5066667 | 0.0000000 | 5 |\n",
       "| 236 |  6107 | 2854 | 2887 | 3214 | 2893 | 1 | 0.12 | 0.6000000 | 0.0000000 | 6 |\n",
       "| 237 |  4857 | 2289 | 2305 | 2476 | 2381 | 1 | 0.12 | 0.4000000 | 0.6081081 | 7 |\n",
       "| 238 |  3365 | 1705 | 1495 | 1594 | 1771 | 1 | 0.08 | 0.4533333 | 0.0000000 | 1 |\n",
       "| 239 |  2938 | 1440 | 1348 | 1318 | 1620 | 1 | 0.08 | 0.4800000 | 0.4729730 | 2 |\n",
       "| 240 |  3119 | 1540 | 1437 | 1405 | 1714 | 1 | 0.16 | 0.5066667 | 0.4594595 | 3 |\n",
       "| 241 |  3436 | 1811 | 1484 | 1576 | 1860 | 1 | 0.20 | 0.6133333 | 0.4729730 | 4 |\n",
       "| 242 |  2343 | 1409 |  855 | 1150 | 1193 | 1 | 0.16 | 0.5733333 | 0.0000000 | 5 |\n",
       "| 243 |  5579 | 2855 | 2429 | 2972 | 2607 | 1 | 0.08 | 0.6400000 | 0.4594595 | 6 |\n",
       "| 244 |  4796 | 2235 | 2284 | 2489 | 2307 | 0 | 0.00 | 0.7866667 | 0.0000000 | 7 |\n",
       "| 245 |  2620 | 1080 | 1376 | 1375 | 1245 | 0 | 0.04 | 0.7866667 | 0.5270270 | 1 |\n",
       "| 246 |  2663 | 1153 | 1373 | 1284 | 1379 | 1 | 0.12 | 0.6800000 | 0.5000000 | 2 |\n",
       "| 247 |  2817 | 1189 | 1466 | 1387 | 1430 | 0 | 0.20 | 0.7466667 | 0.0000000 | 3 |\n",
       "| 248 |  3767 | 1708 | 1885 | 1933 | 1834 | 1 | 0.24 | 0.7600000 | 0.4324324 | 4 |\n",
       "| 249 |  6804 | 3043 | 3399 | 3475 | 3329 | 0 | 0.24 | 0.9333333 | 0.3918919 | 5 |\n",
       "| 250 | 11110 | 5246 | 5259 | 5953 | 5157 | 0 | 0.24 | 0.7866667 | 0.6486486 | 6 |\n",
       "| 251 |  4974 | 2299 | 2390 | 2680 | 2294 | 1 | 0.16 | 0.7866667 | 0.4729730 | 7 |\n",
       "| 252 |  3228 | 1442 | 1606 | 1625 | 1603 | 1 | 0.12 | 0.8400000 | 0.4324324 | 1 |\n",
       "| 253 |  3191 | 1427 | 1627 | 1688 | 1503 | 0 | 0.16 | 0.8800000 | 0.3243243 | 2 |\n",
       "| 254 |  4153 | 2035 | 1880 | 2208 | 1945 | 0 | 0.12 | 0.9200000 | 0.0000000 | 3 |\n",
       "| 255 |  4307 | 2043 | 2028 | 2282 | 2025 | 0 | 0.20 | 0.8266667 | 1.0000000 | 4 |\n",
       "| 256 |  4660 | 2207 | 2227 | 2441 | 2219 | 1 | 0.08 | 0.6000000 | 0.0000000 | 5 |\n",
       "| 257 |  6193 | 2894 | 2967 | 3115 | 3078 | 1 | 0.08 | 0.5866667 | 0.0000000 | 6 |\n",
       "\n"
      ],
      "text/plain": [
       "    all   female male young adult weather maxtemp RH        maxwind   day\n",
       "8   2639  1220   1308 1110  1529  1       0.40    0.6133333 0.4324324 2  \n",
       "9   2647  1178   1329 1152  1495  1       0.36    0.6400000 0.0000000 3  \n",
       "10  2612  1257   1228 1064  1548  1       0.36    0.6400000 0.7162162 4  \n",
       "11  3530  1749   1581 1546  1984  1       0.36    0.5066667 0.0000000 5  \n",
       "12  4440  2256   1970 2082  2358  1       0.44    0.3066667 0.6756757 6  \n",
       "13  3469  1695   1601 1594  1875  1       0.36    0.3333333 0.0000000 7  \n",
       "14  2542  1154   1279 1042  1500  1       0.40    0.5733333 0.3918919 1  \n",
       "15  2779  1324   1341 1159  1620  1       0.48    0.3600000 0.4729730 2  \n",
       "16  4488  2603   1686 1752  2736  1       0.44    0.5066667 0.3648649 3  \n",
       "17  5506  3095   2162 2298  3208  1       0.52    0.4000000 0.6486486 4  \n",
       "18  2954  1269   1579 1268  1686  1       0.36    0.7466667 0.7432432 5  \n",
       "19  2542  1187   1254 1099  1443  1       0.24    0.5200000 1.0000000 6  \n",
       "20  2892  1246   1522 1274  1618  1       0.12    0.4133333 0.7432432 7  \n",
       "21  2445   942   1388 1021  1424  0       0.16    0.4800000 0.6756757 1  \n",
       "22  2231   896   1231  906  1325  1       0.20    0.5600000 0.0000000 2  \n",
       "23  3617  1589   1879 1670  1947  1       0.28    0.5866667 0.4594595 3  \n",
       "24  2113   885   1120  897  1216  1       0.36    0.5333333 0.0000000 4  \n",
       "25  2363   932   1336  973  1390  1       0.44    0.3866667 0.0000000 5  \n",
       "26  3728  1690   1884 1612  2116  1       0.52    0.3200000 0.3648649 6  \n",
       "27  3643  1718   1781 1620  2023  1       0.48    0.2400000 0.4324324 7  \n",
       "28  2249   917   1258  888  1361  1       0.40    0.3866667 0.0000000 1  \n",
       "29  2214   834   1291  879  1335  0       0.48    0.2933333 0.0000000 2  \n",
       "30  1668   902    766  711   957  0       0.48    0.4266667 0.3918919 3  \n",
       "31  1121   497    575  532   589  1       0.48    0.6400000 0.0000000 4  \n",
       "32  2160   939   1135  966  1194  1       0.40    0.5866667 0.0000000 5  \n",
       "33  2107  1004   1029 1034  1073  1       0.36    0.5466667 0.6486486 6  \n",
       "34  2281   975   1220 1045  1236  1       0.44    0.5200000 0.0000000 7  \n",
       "35  1301   538    708  569   732  1       0.60    0.3600000 0.3918919 1  \n",
       "36  1628   641    913  708   920  1       0.36    0.6666667 0.7027027 2  \n",
       "37  1344   580    706  655   689  0       0.24    0.5866667 0.9594595 3  \n",
       "... ...   ...    ...  ...   ...   ...     ...     ...       ...       ...\n",
       "228  3459 1377   1929 1584  1875  0       0.16    1.0000000 0.0000000 5  \n",
       "229  4860 2184   2400 2442  2418  1       0.12    0.8000000 0.0000000 6  \n",
       "230  5179 2317   2605 2661  2518  1       0.08    0.4533333 0.0000000 7  \n",
       "231  2642 1082   1401 1150  1492  1       0.12    0.4266667 0.0000000 1  \n",
       "232  2551 1015   1400 1246  1305  1       0.12    0.4400000 0.5000000 2  \n",
       "233  2347  899   1327 1136  1211  1       0.08    0.4533333 0.0000000 3  \n",
       "234  2863 1238   1501 1430  1433  1       0.04    0.4800000 0.0000000 4  \n",
       "235  3875 1789   1891 1962  1913  1       0.16    0.5066667 0.0000000 5  \n",
       "236  6107 2854   2887 3214  2893  1       0.12    0.6000000 0.0000000 6  \n",
       "237  4857 2289   2305 2476  2381  1       0.12    0.4000000 0.6081081 7  \n",
       "238  3365 1705   1495 1594  1771  1       0.08    0.4533333 0.0000000 1  \n",
       "239  2938 1440   1348 1318  1620  1       0.08    0.4800000 0.4729730 2  \n",
       "240  3119 1540   1437 1405  1714  1       0.16    0.5066667 0.4594595 3  \n",
       "241  3436 1811   1484 1576  1860  1       0.20    0.6133333 0.4729730 4  \n",
       "242  2343 1409    855 1150  1193  1       0.16    0.5733333 0.0000000 5  \n",
       "243  5579 2855   2429 2972  2607  1       0.08    0.6400000 0.4594595 6  \n",
       "244  4796 2235   2284 2489  2307  0       0.00    0.7866667 0.0000000 7  \n",
       "245  2620 1080   1376 1375  1245  0       0.04    0.7866667 0.5270270 1  \n",
       "246  2663 1153   1373 1284  1379  1       0.12    0.6800000 0.5000000 2  \n",
       "247  2817 1189   1466 1387  1430  0       0.20    0.7466667 0.0000000 3  \n",
       "248  3767 1708   1885 1933  1834  1       0.24    0.7600000 0.4324324 4  \n",
       "249  6804 3043   3399 3475  3329  0       0.24    0.9333333 0.3918919 5  \n",
       "250 11110 5246   5259 5953  5157  0       0.24    0.7866667 0.6486486 6  \n",
       "251  4974 2299   2390 2680  2294  1       0.16    0.7866667 0.4729730 7  \n",
       "252  3228 1442   1606 1625  1603  1       0.12    0.8400000 0.4324324 1  \n",
       "253  3191 1427   1627 1688  1503  0       0.16    0.8800000 0.3243243 2  \n",
       "254  4153 2035   1880 2208  1945  0       0.12    0.9200000 0.0000000 3  \n",
       "255  4307 2043   2028 2282  2025  0       0.20    0.8266667 1.0000000 4  \n",
       "256  4660 2207   2227 2441  2219  1       0.08    0.6000000 0.0000000 5  \n",
       "257  6193 2894   2967 3115  3078  1       0.08    0.5866667 0.0000000 6  "
      ]
     },
     "metadata": {},
     "output_type": "display_data"
    }
   ],
   "source": [
    "df[hd$tr + 7,]"
   ]
  },
  {
   "cell_type": "code",
   "execution_count": 63,
   "id": "b1f38a12",
   "metadata": {},
   "outputs": [
    {
     "data": {
      "text/html": [
       "<table class=\"dataframe\">\n",
       "<caption>A data.frame: 7 × 10</caption>\n",
       "<thead>\n",
       "\t<tr><th></th><th scope=col>all</th><th scope=col>female</th><th scope=col>male</th><th scope=col>young</th><th scope=col>adult</th><th scope=col>weather</th><th scope=col>maxtemp</th><th scope=col>RH</th><th scope=col>maxwind</th><th scope=col>day</th></tr>\n",
       "\t<tr><th></th><th scope=col>&lt;int&gt;</th><th scope=col>&lt;dbl&gt;</th><th scope=col>&lt;int&gt;</th><th scope=col>&lt;int&gt;</th><th scope=col>&lt;dbl&gt;</th><th scope=col>&lt;int&gt;</th><th scope=col>&lt;dbl&gt;</th><th scope=col>&lt;dbl&gt;</th><th scope=col>&lt;dbl&gt;</th><th scope=col>&lt;dbl&gt;</th></tr>\n",
       "</thead>\n",
       "<tbody>\n",
       "\t<tr><th scope=row>251</th><td>4974</td><td>2299</td><td>2390</td><td>2680</td><td>2294</td><td>1</td><td>0.16</td><td>0.7866667</td><td>0.4729730</td><td>7</td></tr>\n",
       "\t<tr><th scope=row>252</th><td>3228</td><td>1442</td><td>1606</td><td>1625</td><td>1603</td><td>1</td><td>0.12</td><td>0.8400000</td><td>0.4324324</td><td>1</td></tr>\n",
       "\t<tr><th scope=row>253</th><td>3191</td><td>1427</td><td>1627</td><td>1688</td><td>1503</td><td>0</td><td>0.16</td><td>0.8800000</td><td>0.3243243</td><td>2</td></tr>\n",
       "\t<tr><th scope=row>254</th><td>4153</td><td>2035</td><td>1880</td><td>2208</td><td>1945</td><td>0</td><td>0.12</td><td>0.9200000</td><td>0.0000000</td><td>3</td></tr>\n",
       "\t<tr><th scope=row>255</th><td>4307</td><td>2043</td><td>2028</td><td>2282</td><td>2025</td><td>0</td><td>0.20</td><td>0.8266667</td><td>1.0000000</td><td>4</td></tr>\n",
       "\t<tr><th scope=row>256</th><td>4660</td><td>2207</td><td>2227</td><td>2441</td><td>2219</td><td>1</td><td>0.08</td><td>0.6000000</td><td>0.0000000</td><td>5</td></tr>\n",
       "\t<tr><th scope=row>257</th><td>6193</td><td>2894</td><td>2967</td><td>3115</td><td>3078</td><td>1</td><td>0.08</td><td>0.5866667</td><td>0.0000000</td><td>6</td></tr>\n",
       "</tbody>\n",
       "</table>\n"
      ],
      "text/latex": [
       "A data.frame: 7 × 10\n",
       "\\begin{tabular}{r|llllllllll}\n",
       "  & all & female & male & young & adult & weather & maxtemp & RH & maxwind & day\\\\\n",
       "  & <int> & <dbl> & <int> & <int> & <dbl> & <int> & <dbl> & <dbl> & <dbl> & <dbl>\\\\\n",
       "\\hline\n",
       "\t251 & 4974 & 2299 & 2390 & 2680 & 2294 & 1 & 0.16 & 0.7866667 & 0.4729730 & 7\\\\\n",
       "\t252 & 3228 & 1442 & 1606 & 1625 & 1603 & 1 & 0.12 & 0.8400000 & 0.4324324 & 1\\\\\n",
       "\t253 & 3191 & 1427 & 1627 & 1688 & 1503 & 0 & 0.16 & 0.8800000 & 0.3243243 & 2\\\\\n",
       "\t254 & 4153 & 2035 & 1880 & 2208 & 1945 & 0 & 0.12 & 0.9200000 & 0.0000000 & 3\\\\\n",
       "\t255 & 4307 & 2043 & 2028 & 2282 & 2025 & 0 & 0.20 & 0.8266667 & 1.0000000 & 4\\\\\n",
       "\t256 & 4660 & 2207 & 2227 & 2441 & 2219 & 1 & 0.08 & 0.6000000 & 0.0000000 & 5\\\\\n",
       "\t257 & 6193 & 2894 & 2967 & 3115 & 3078 & 1 & 0.08 & 0.5866667 & 0.0000000 & 6\\\\\n",
       "\\end{tabular}\n"
      ],
      "text/markdown": [
       "\n",
       "A data.frame: 7 × 10\n",
       "\n",
       "| <!--/--> | all &lt;int&gt; | female &lt;dbl&gt; | male &lt;int&gt; | young &lt;int&gt; | adult &lt;dbl&gt; | weather &lt;int&gt; | maxtemp &lt;dbl&gt; | RH &lt;dbl&gt; | maxwind &lt;dbl&gt; | day &lt;dbl&gt; |\n",
       "|---|---|---|---|---|---|---|---|---|---|---|\n",
       "| 251 | 4974 | 2299 | 2390 | 2680 | 2294 | 1 | 0.16 | 0.7866667 | 0.4729730 | 7 |\n",
       "| 252 | 3228 | 1442 | 1606 | 1625 | 1603 | 1 | 0.12 | 0.8400000 | 0.4324324 | 1 |\n",
       "| 253 | 3191 | 1427 | 1627 | 1688 | 1503 | 0 | 0.16 | 0.8800000 | 0.3243243 | 2 |\n",
       "| 254 | 4153 | 2035 | 1880 | 2208 | 1945 | 0 | 0.12 | 0.9200000 | 0.0000000 | 3 |\n",
       "| 255 | 4307 | 2043 | 2028 | 2282 | 2025 | 0 | 0.20 | 0.8266667 | 1.0000000 | 4 |\n",
       "| 256 | 4660 | 2207 | 2227 | 2441 | 2219 | 1 | 0.08 | 0.6000000 | 0.0000000 | 5 |\n",
       "| 257 | 6193 | 2894 | 2967 | 3115 | 3078 | 1 | 0.08 | 0.5866667 | 0.0000000 | 6 |\n",
       "\n"
      ],
      "text/plain": [
       "    all  female male young adult weather maxtemp RH        maxwind   day\n",
       "251 4974 2299   2390 2680  2294  1       0.16    0.7866667 0.4729730 7  \n",
       "252 3228 1442   1606 1625  1603  1       0.12    0.8400000 0.4324324 1  \n",
       "253 3191 1427   1627 1688  1503  0       0.16    0.8800000 0.3243243 2  \n",
       "254 4153 2035   1880 2208  1945  0       0.12    0.9200000 0.0000000 3  \n",
       "255 4307 2043   2028 2282  2025  0       0.20    0.8266667 1.0000000 4  \n",
       "256 4660 2207   2227 2441  2219  1       0.08    0.6000000 0.0000000 5  \n",
       "257 6193 2894   2967 3115  3078  1       0.08    0.5866667 0.0000000 6  "
      ]
     },
     "metadata": {},
     "output_type": "display_data"
    }
   ],
   "source": [
    "df[hd$ts,]"
   ]
  },
  {
   "cell_type": "code",
   "execution_count": null,
   "id": "f8f6e4ce",
   "metadata": {},
   "outputs": [],
   "source": []
  },
  {
   "cell_type": "markdown",
   "id": "6e541772",
   "metadata": {},
   "source": [
    "# Feature Selection Technics"
   ]
  },
  {
   "cell_type": "code",
   "execution_count": 64,
   "id": "21a7bce2",
   "metadata": {
    "scrolled": true
   },
   "outputs": [],
   "source": [
    "library(mlbench)\n",
    "library(caret)\n",
    "library(Boruta)\n",
    "library(glmnet)\n",
    "library(relaimpo)"
   ]
  },
  {
   "cell_type": "code",
   "execution_count": 65,
   "id": "a87fd348",
   "metadata": {},
   "outputs": [],
   "source": [
    "hd1 = subset(df[hd$tr,], select=-c(adult,female,male,young))"
   ]
  },
  {
   "cell_type": "code",
   "execution_count": 66,
   "id": "2cbcef9a",
   "metadata": {
    "scrolled": true
   },
   "outputs": [
    {
     "data": {
      "text/html": [
       "<table class=\"dataframe\">\n",
       "<caption>A data.frame: 250 × 6</caption>\n",
       "<thead>\n",
       "\t<tr><th></th><th scope=col>all</th><th scope=col>weather</th><th scope=col>maxtemp</th><th scope=col>RH</th><th scope=col>maxwind</th><th scope=col>day</th></tr>\n",
       "\t<tr><th></th><th scope=col>&lt;int&gt;</th><th scope=col>&lt;int&gt;</th><th scope=col>&lt;dbl&gt;</th><th scope=col>&lt;dbl&gt;</th><th scope=col>&lt;dbl&gt;</th><th scope=col>&lt;dbl&gt;</th></tr>\n",
       "</thead>\n",
       "<tbody>\n",
       "\t<tr><th scope=row>1</th><td>2332</td><td>0</td><td>0.24</td><td>0.8400000</td><td>0.0000000</td><td>2</td></tr>\n",
       "\t<tr><th scope=row>2</th><td>2801</td><td>0</td><td>0.28</td><td>0.9333333</td><td>0.6081081</td><td>3</td></tr>\n",
       "\t<tr><th scope=row>3</th><td>2375</td><td>0</td><td>0.28</td><td>0.7733333</td><td>0.7432432</td><td>4</td></tr>\n",
       "\t<tr><th scope=row>4</th><td>3447</td><td>1</td><td>0.24</td><td>0.7200000</td><td>0.0000000</td><td>5</td></tr>\n",
       "\t<tr><th scope=row>5</th><td>4823</td><td>0</td><td>0.36</td><td>0.7600000</td><td>0.5000000</td><td>6</td></tr>\n",
       "\t<tr><th scope=row>6</th><td>4978</td><td>0</td><td>0.36</td><td>0.6533333</td><td>0.0000000</td><td>7</td></tr>\n",
       "\t<tr><th scope=row>7</th><td>2706</td><td>1</td><td>0.40</td><td>0.7466667</td><td>0.0000000</td><td>1</td></tr>\n",
       "\t<tr><th scope=row>8</th><td>2639</td><td>1</td><td>0.40</td><td>0.6133333</td><td>0.4324324</td><td>2</td></tr>\n",
       "\t<tr><th scope=row>9</th><td>2647</td><td>1</td><td>0.36</td><td>0.6400000</td><td>0.0000000</td><td>3</td></tr>\n",
       "\t<tr><th scope=row>10</th><td>2612</td><td>1</td><td>0.36</td><td>0.6400000</td><td>0.7162162</td><td>4</td></tr>\n",
       "\t<tr><th scope=row>11</th><td>3530</td><td>1</td><td>0.36</td><td>0.5066667</td><td>0.0000000</td><td>5</td></tr>\n",
       "\t<tr><th scope=row>12</th><td>4440</td><td>1</td><td>0.44</td><td>0.3066667</td><td>0.6756757</td><td>6</td></tr>\n",
       "\t<tr><th scope=row>13</th><td>3469</td><td>1</td><td>0.36</td><td>0.3333333</td><td>0.0000000</td><td>7</td></tr>\n",
       "\t<tr><th scope=row>14</th><td>2542</td><td>1</td><td>0.40</td><td>0.5733333</td><td>0.3918919</td><td>1</td></tr>\n",
       "\t<tr><th scope=row>15</th><td>2779</td><td>1</td><td>0.48</td><td>0.3600000</td><td>0.4729730</td><td>2</td></tr>\n",
       "\t<tr><th scope=row>16</th><td>4488</td><td>1</td><td>0.44</td><td>0.5066667</td><td>0.3648649</td><td>3</td></tr>\n",
       "\t<tr><th scope=row>17</th><td>5506</td><td>1</td><td>0.52</td><td>0.4000000</td><td>0.6486486</td><td>4</td></tr>\n",
       "\t<tr><th scope=row>18</th><td>2954</td><td>1</td><td>0.36</td><td>0.7466667</td><td>0.7432432</td><td>5</td></tr>\n",
       "\t<tr><th scope=row>19</th><td>2542</td><td>1</td><td>0.24</td><td>0.5200000</td><td>1.0000000</td><td>6</td></tr>\n",
       "\t<tr><th scope=row>20</th><td>2892</td><td>1</td><td>0.12</td><td>0.4133333</td><td>0.7432432</td><td>7</td></tr>\n",
       "\t<tr><th scope=row>21</th><td>2445</td><td>0</td><td>0.16</td><td>0.4800000</td><td>0.6756757</td><td>1</td></tr>\n",
       "\t<tr><th scope=row>22</th><td>2231</td><td>1</td><td>0.20</td><td>0.5600000</td><td>0.0000000</td><td>2</td></tr>\n",
       "\t<tr><th scope=row>23</th><td>3617</td><td>1</td><td>0.28</td><td>0.5866667</td><td>0.4594595</td><td>3</td></tr>\n",
       "\t<tr><th scope=row>24</th><td>2113</td><td>1</td><td>0.36</td><td>0.5333333</td><td>0.0000000</td><td>4</td></tr>\n",
       "\t<tr><th scope=row>25</th><td>2363</td><td>1</td><td>0.44</td><td>0.3866667</td><td>0.0000000</td><td>5</td></tr>\n",
       "\t<tr><th scope=row>26</th><td>3728</td><td>1</td><td>0.52</td><td>0.3200000</td><td>0.3648649</td><td>6</td></tr>\n",
       "\t<tr><th scope=row>27</th><td>3643</td><td>1</td><td>0.48</td><td>0.2400000</td><td>0.4324324</td><td>7</td></tr>\n",
       "\t<tr><th scope=row>28</th><td>2249</td><td>1</td><td>0.40</td><td>0.3866667</td><td>0.0000000</td><td>1</td></tr>\n",
       "\t<tr><th scope=row>29</th><td>2214</td><td>0</td><td>0.48</td><td>0.2933333</td><td>0.0000000</td><td>2</td></tr>\n",
       "\t<tr><th scope=row>30</th><td>1668</td><td>0</td><td>0.48</td><td>0.4266667</td><td>0.3918919</td><td>3</td></tr>\n",
       "\t<tr><th scope=row>...</th><td>...</td><td>...</td><td>...</td><td>...</td><td>...</td><td>...</td></tr>\n",
       "\t<tr><th scope=row>221</th><td> 3691</td><td>1</td><td>0.24</td><td>0.4266667</td><td>0.0000000</td><td>5</td></tr>\n",
       "\t<tr><th scope=row>222</th><td> 7719</td><td>1</td><td>0.12</td><td>0.5200000</td><td>0.6756757</td><td>6</td></tr>\n",
       "\t<tr><th scope=row>223</th><td> 6165</td><td>1</td><td>0.16</td><td>0.6000000</td><td>0.0000000</td><td>7</td></tr>\n",
       "\t<tr><th scope=row>224</th><td> 3469</td><td>0</td><td>0.24</td><td>0.6666667</td><td>0.0000000</td><td>1</td></tr>\n",
       "\t<tr><th scope=row>225</th><td> 2847</td><td>1</td><td>0.24</td><td>0.7200000</td><td>0.7027027</td><td>2</td></tr>\n",
       "\t<tr><th scope=row>226</th><td> 3295</td><td>1</td><td>0.12</td><td>0.5333333</td><td>0.3918919</td><td>3</td></tr>\n",
       "\t<tr><th scope=row>227</th><td> 2638</td><td>0</td><td>0.08</td><td>0.7333333</td><td>0.0000000</td><td>4</td></tr>\n",
       "\t<tr><th scope=row>228</th><td> 3459</td><td>0</td><td>0.16</td><td>1.0000000</td><td>0.0000000</td><td>5</td></tr>\n",
       "\t<tr><th scope=row>229</th><td> 4860</td><td>1</td><td>0.12</td><td>0.8000000</td><td>0.0000000</td><td>6</td></tr>\n",
       "\t<tr><th scope=row>230</th><td> 5179</td><td>1</td><td>0.08</td><td>0.4533333</td><td>0.0000000</td><td>7</td></tr>\n",
       "\t<tr><th scope=row>231</th><td> 2642</td><td>1</td><td>0.12</td><td>0.4266667</td><td>0.0000000</td><td>1</td></tr>\n",
       "\t<tr><th scope=row>232</th><td> 2551</td><td>1</td><td>0.12</td><td>0.4400000</td><td>0.5000000</td><td>2</td></tr>\n",
       "\t<tr><th scope=row>233</th><td> 2347</td><td>1</td><td>0.08</td><td>0.4533333</td><td>0.0000000</td><td>3</td></tr>\n",
       "\t<tr><th scope=row>234</th><td> 2863</td><td>1</td><td>0.04</td><td>0.4800000</td><td>0.0000000</td><td>4</td></tr>\n",
       "\t<tr><th scope=row>235</th><td> 3875</td><td>1</td><td>0.16</td><td>0.5066667</td><td>0.0000000</td><td>5</td></tr>\n",
       "\t<tr><th scope=row>236</th><td> 6107</td><td>1</td><td>0.12</td><td>0.6000000</td><td>0.0000000</td><td>6</td></tr>\n",
       "\t<tr><th scope=row>237</th><td> 4857</td><td>1</td><td>0.12</td><td>0.4000000</td><td>0.6081081</td><td>7</td></tr>\n",
       "\t<tr><th scope=row>238</th><td> 3365</td><td>1</td><td>0.08</td><td>0.4533333</td><td>0.0000000</td><td>1</td></tr>\n",
       "\t<tr><th scope=row>239</th><td> 2938</td><td>1</td><td>0.08</td><td>0.4800000</td><td>0.4729730</td><td>2</td></tr>\n",
       "\t<tr><th scope=row>240</th><td> 3119</td><td>1</td><td>0.16</td><td>0.5066667</td><td>0.4594595</td><td>3</td></tr>\n",
       "\t<tr><th scope=row>241</th><td> 3436</td><td>1</td><td>0.20</td><td>0.6133333</td><td>0.4729730</td><td>4</td></tr>\n",
       "\t<tr><th scope=row>242</th><td> 2343</td><td>1</td><td>0.16</td><td>0.5733333</td><td>0.0000000</td><td>5</td></tr>\n",
       "\t<tr><th scope=row>243</th><td> 5579</td><td>1</td><td>0.08</td><td>0.6400000</td><td>0.4594595</td><td>6</td></tr>\n",
       "\t<tr><th scope=row>244</th><td> 4796</td><td>0</td><td>0.00</td><td>0.7866667</td><td>0.0000000</td><td>7</td></tr>\n",
       "\t<tr><th scope=row>245</th><td> 2620</td><td>0</td><td>0.04</td><td>0.7866667</td><td>0.5270270</td><td>1</td></tr>\n",
       "\t<tr><th scope=row>246</th><td> 2663</td><td>1</td><td>0.12</td><td>0.6800000</td><td>0.5000000</td><td>2</td></tr>\n",
       "\t<tr><th scope=row>247</th><td> 2817</td><td>0</td><td>0.20</td><td>0.7466667</td><td>0.0000000</td><td>3</td></tr>\n",
       "\t<tr><th scope=row>248</th><td> 3767</td><td>1</td><td>0.24</td><td>0.7600000</td><td>0.4324324</td><td>4</td></tr>\n",
       "\t<tr><th scope=row>249</th><td> 6804</td><td>0</td><td>0.24</td><td>0.9333333</td><td>0.3918919</td><td>5</td></tr>\n",
       "\t<tr><th scope=row>250</th><td>11110</td><td>0</td><td>0.24</td><td>0.7866667</td><td>0.6486486</td><td>6</td></tr>\n",
       "</tbody>\n",
       "</table>\n"
      ],
      "text/latex": [
       "A data.frame: 250 × 6\n",
       "\\begin{tabular}{r|llllll}\n",
       "  & all & weather & maxtemp & RH & maxwind & day\\\\\n",
       "  & <int> & <int> & <dbl> & <dbl> & <dbl> & <dbl>\\\\\n",
       "\\hline\n",
       "\t1 & 2332 & 0 & 0.24 & 0.8400000 & 0.0000000 & 2\\\\\n",
       "\t2 & 2801 & 0 & 0.28 & 0.9333333 & 0.6081081 & 3\\\\\n",
       "\t3 & 2375 & 0 & 0.28 & 0.7733333 & 0.7432432 & 4\\\\\n",
       "\t4 & 3447 & 1 & 0.24 & 0.7200000 & 0.0000000 & 5\\\\\n",
       "\t5 & 4823 & 0 & 0.36 & 0.7600000 & 0.5000000 & 6\\\\\n",
       "\t6 & 4978 & 0 & 0.36 & 0.6533333 & 0.0000000 & 7\\\\\n",
       "\t7 & 2706 & 1 & 0.40 & 0.7466667 & 0.0000000 & 1\\\\\n",
       "\t8 & 2639 & 1 & 0.40 & 0.6133333 & 0.4324324 & 2\\\\\n",
       "\t9 & 2647 & 1 & 0.36 & 0.6400000 & 0.0000000 & 3\\\\\n",
       "\t10 & 2612 & 1 & 0.36 & 0.6400000 & 0.7162162 & 4\\\\\n",
       "\t11 & 3530 & 1 & 0.36 & 0.5066667 & 0.0000000 & 5\\\\\n",
       "\t12 & 4440 & 1 & 0.44 & 0.3066667 & 0.6756757 & 6\\\\\n",
       "\t13 & 3469 & 1 & 0.36 & 0.3333333 & 0.0000000 & 7\\\\\n",
       "\t14 & 2542 & 1 & 0.40 & 0.5733333 & 0.3918919 & 1\\\\\n",
       "\t15 & 2779 & 1 & 0.48 & 0.3600000 & 0.4729730 & 2\\\\\n",
       "\t16 & 4488 & 1 & 0.44 & 0.5066667 & 0.3648649 & 3\\\\\n",
       "\t17 & 5506 & 1 & 0.52 & 0.4000000 & 0.6486486 & 4\\\\\n",
       "\t18 & 2954 & 1 & 0.36 & 0.7466667 & 0.7432432 & 5\\\\\n",
       "\t19 & 2542 & 1 & 0.24 & 0.5200000 & 1.0000000 & 6\\\\\n",
       "\t20 & 2892 & 1 & 0.12 & 0.4133333 & 0.7432432 & 7\\\\\n",
       "\t21 & 2445 & 0 & 0.16 & 0.4800000 & 0.6756757 & 1\\\\\n",
       "\t22 & 2231 & 1 & 0.20 & 0.5600000 & 0.0000000 & 2\\\\\n",
       "\t23 & 3617 & 1 & 0.28 & 0.5866667 & 0.4594595 & 3\\\\\n",
       "\t24 & 2113 & 1 & 0.36 & 0.5333333 & 0.0000000 & 4\\\\\n",
       "\t25 & 2363 & 1 & 0.44 & 0.3866667 & 0.0000000 & 5\\\\\n",
       "\t26 & 3728 & 1 & 0.52 & 0.3200000 & 0.3648649 & 6\\\\\n",
       "\t27 & 3643 & 1 & 0.48 & 0.2400000 & 0.4324324 & 7\\\\\n",
       "\t28 & 2249 & 1 & 0.40 & 0.3866667 & 0.0000000 & 1\\\\\n",
       "\t29 & 2214 & 0 & 0.48 & 0.2933333 & 0.0000000 & 2\\\\\n",
       "\t30 & 1668 & 0 & 0.48 & 0.4266667 & 0.3918919 & 3\\\\\n",
       "\t... & ... & ... & ... & ... & ... & ...\\\\\n",
       "\t221 &  3691 & 1 & 0.24 & 0.4266667 & 0.0000000 & 5\\\\\n",
       "\t222 &  7719 & 1 & 0.12 & 0.5200000 & 0.6756757 & 6\\\\\n",
       "\t223 &  6165 & 1 & 0.16 & 0.6000000 & 0.0000000 & 7\\\\\n",
       "\t224 &  3469 & 0 & 0.24 & 0.6666667 & 0.0000000 & 1\\\\\n",
       "\t225 &  2847 & 1 & 0.24 & 0.7200000 & 0.7027027 & 2\\\\\n",
       "\t226 &  3295 & 1 & 0.12 & 0.5333333 & 0.3918919 & 3\\\\\n",
       "\t227 &  2638 & 0 & 0.08 & 0.7333333 & 0.0000000 & 4\\\\\n",
       "\t228 &  3459 & 0 & 0.16 & 1.0000000 & 0.0000000 & 5\\\\\n",
       "\t229 &  4860 & 1 & 0.12 & 0.8000000 & 0.0000000 & 6\\\\\n",
       "\t230 &  5179 & 1 & 0.08 & 0.4533333 & 0.0000000 & 7\\\\\n",
       "\t231 &  2642 & 1 & 0.12 & 0.4266667 & 0.0000000 & 1\\\\\n",
       "\t232 &  2551 & 1 & 0.12 & 0.4400000 & 0.5000000 & 2\\\\\n",
       "\t233 &  2347 & 1 & 0.08 & 0.4533333 & 0.0000000 & 3\\\\\n",
       "\t234 &  2863 & 1 & 0.04 & 0.4800000 & 0.0000000 & 4\\\\\n",
       "\t235 &  3875 & 1 & 0.16 & 0.5066667 & 0.0000000 & 5\\\\\n",
       "\t236 &  6107 & 1 & 0.12 & 0.6000000 & 0.0000000 & 6\\\\\n",
       "\t237 &  4857 & 1 & 0.12 & 0.4000000 & 0.6081081 & 7\\\\\n",
       "\t238 &  3365 & 1 & 0.08 & 0.4533333 & 0.0000000 & 1\\\\\n",
       "\t239 &  2938 & 1 & 0.08 & 0.4800000 & 0.4729730 & 2\\\\\n",
       "\t240 &  3119 & 1 & 0.16 & 0.5066667 & 0.4594595 & 3\\\\\n",
       "\t241 &  3436 & 1 & 0.20 & 0.6133333 & 0.4729730 & 4\\\\\n",
       "\t242 &  2343 & 1 & 0.16 & 0.5733333 & 0.0000000 & 5\\\\\n",
       "\t243 &  5579 & 1 & 0.08 & 0.6400000 & 0.4594595 & 6\\\\\n",
       "\t244 &  4796 & 0 & 0.00 & 0.7866667 & 0.0000000 & 7\\\\\n",
       "\t245 &  2620 & 0 & 0.04 & 0.7866667 & 0.5270270 & 1\\\\\n",
       "\t246 &  2663 & 1 & 0.12 & 0.6800000 & 0.5000000 & 2\\\\\n",
       "\t247 &  2817 & 0 & 0.20 & 0.7466667 & 0.0000000 & 3\\\\\n",
       "\t248 &  3767 & 1 & 0.24 & 0.7600000 & 0.4324324 & 4\\\\\n",
       "\t249 &  6804 & 0 & 0.24 & 0.9333333 & 0.3918919 & 5\\\\\n",
       "\t250 & 11110 & 0 & 0.24 & 0.7866667 & 0.6486486 & 6\\\\\n",
       "\\end{tabular}\n"
      ],
      "text/markdown": [
       "\n",
       "A data.frame: 250 × 6\n",
       "\n",
       "| <!--/--> | all &lt;int&gt; | weather &lt;int&gt; | maxtemp &lt;dbl&gt; | RH &lt;dbl&gt; | maxwind &lt;dbl&gt; | day &lt;dbl&gt; |\n",
       "|---|---|---|---|---|---|---|\n",
       "| 1 | 2332 | 0 | 0.24 | 0.8400000 | 0.0000000 | 2 |\n",
       "| 2 | 2801 | 0 | 0.28 | 0.9333333 | 0.6081081 | 3 |\n",
       "| 3 | 2375 | 0 | 0.28 | 0.7733333 | 0.7432432 | 4 |\n",
       "| 4 | 3447 | 1 | 0.24 | 0.7200000 | 0.0000000 | 5 |\n",
       "| 5 | 4823 | 0 | 0.36 | 0.7600000 | 0.5000000 | 6 |\n",
       "| 6 | 4978 | 0 | 0.36 | 0.6533333 | 0.0000000 | 7 |\n",
       "| 7 | 2706 | 1 | 0.40 | 0.7466667 | 0.0000000 | 1 |\n",
       "| 8 | 2639 | 1 | 0.40 | 0.6133333 | 0.4324324 | 2 |\n",
       "| 9 | 2647 | 1 | 0.36 | 0.6400000 | 0.0000000 | 3 |\n",
       "| 10 | 2612 | 1 | 0.36 | 0.6400000 | 0.7162162 | 4 |\n",
       "| 11 | 3530 | 1 | 0.36 | 0.5066667 | 0.0000000 | 5 |\n",
       "| 12 | 4440 | 1 | 0.44 | 0.3066667 | 0.6756757 | 6 |\n",
       "| 13 | 3469 | 1 | 0.36 | 0.3333333 | 0.0000000 | 7 |\n",
       "| 14 | 2542 | 1 | 0.40 | 0.5733333 | 0.3918919 | 1 |\n",
       "| 15 | 2779 | 1 | 0.48 | 0.3600000 | 0.4729730 | 2 |\n",
       "| 16 | 4488 | 1 | 0.44 | 0.5066667 | 0.3648649 | 3 |\n",
       "| 17 | 5506 | 1 | 0.52 | 0.4000000 | 0.6486486 | 4 |\n",
       "| 18 | 2954 | 1 | 0.36 | 0.7466667 | 0.7432432 | 5 |\n",
       "| 19 | 2542 | 1 | 0.24 | 0.5200000 | 1.0000000 | 6 |\n",
       "| 20 | 2892 | 1 | 0.12 | 0.4133333 | 0.7432432 | 7 |\n",
       "| 21 | 2445 | 0 | 0.16 | 0.4800000 | 0.6756757 | 1 |\n",
       "| 22 | 2231 | 1 | 0.20 | 0.5600000 | 0.0000000 | 2 |\n",
       "| 23 | 3617 | 1 | 0.28 | 0.5866667 | 0.4594595 | 3 |\n",
       "| 24 | 2113 | 1 | 0.36 | 0.5333333 | 0.0000000 | 4 |\n",
       "| 25 | 2363 | 1 | 0.44 | 0.3866667 | 0.0000000 | 5 |\n",
       "| 26 | 3728 | 1 | 0.52 | 0.3200000 | 0.3648649 | 6 |\n",
       "| 27 | 3643 | 1 | 0.48 | 0.2400000 | 0.4324324 | 7 |\n",
       "| 28 | 2249 | 1 | 0.40 | 0.3866667 | 0.0000000 | 1 |\n",
       "| 29 | 2214 | 0 | 0.48 | 0.2933333 | 0.0000000 | 2 |\n",
       "| 30 | 1668 | 0 | 0.48 | 0.4266667 | 0.3918919 | 3 |\n",
       "| ... | ... | ... | ... | ... | ... | ... |\n",
       "| 221 |  3691 | 1 | 0.24 | 0.4266667 | 0.0000000 | 5 |\n",
       "| 222 |  7719 | 1 | 0.12 | 0.5200000 | 0.6756757 | 6 |\n",
       "| 223 |  6165 | 1 | 0.16 | 0.6000000 | 0.0000000 | 7 |\n",
       "| 224 |  3469 | 0 | 0.24 | 0.6666667 | 0.0000000 | 1 |\n",
       "| 225 |  2847 | 1 | 0.24 | 0.7200000 | 0.7027027 | 2 |\n",
       "| 226 |  3295 | 1 | 0.12 | 0.5333333 | 0.3918919 | 3 |\n",
       "| 227 |  2638 | 0 | 0.08 | 0.7333333 | 0.0000000 | 4 |\n",
       "| 228 |  3459 | 0 | 0.16 | 1.0000000 | 0.0000000 | 5 |\n",
       "| 229 |  4860 | 1 | 0.12 | 0.8000000 | 0.0000000 | 6 |\n",
       "| 230 |  5179 | 1 | 0.08 | 0.4533333 | 0.0000000 | 7 |\n",
       "| 231 |  2642 | 1 | 0.12 | 0.4266667 | 0.0000000 | 1 |\n",
       "| 232 |  2551 | 1 | 0.12 | 0.4400000 | 0.5000000 | 2 |\n",
       "| 233 |  2347 | 1 | 0.08 | 0.4533333 | 0.0000000 | 3 |\n",
       "| 234 |  2863 | 1 | 0.04 | 0.4800000 | 0.0000000 | 4 |\n",
       "| 235 |  3875 | 1 | 0.16 | 0.5066667 | 0.0000000 | 5 |\n",
       "| 236 |  6107 | 1 | 0.12 | 0.6000000 | 0.0000000 | 6 |\n",
       "| 237 |  4857 | 1 | 0.12 | 0.4000000 | 0.6081081 | 7 |\n",
       "| 238 |  3365 | 1 | 0.08 | 0.4533333 | 0.0000000 | 1 |\n",
       "| 239 |  2938 | 1 | 0.08 | 0.4800000 | 0.4729730 | 2 |\n",
       "| 240 |  3119 | 1 | 0.16 | 0.5066667 | 0.4594595 | 3 |\n",
       "| 241 |  3436 | 1 | 0.20 | 0.6133333 | 0.4729730 | 4 |\n",
       "| 242 |  2343 | 1 | 0.16 | 0.5733333 | 0.0000000 | 5 |\n",
       "| 243 |  5579 | 1 | 0.08 | 0.6400000 | 0.4594595 | 6 |\n",
       "| 244 |  4796 | 0 | 0.00 | 0.7866667 | 0.0000000 | 7 |\n",
       "| 245 |  2620 | 0 | 0.04 | 0.7866667 | 0.5270270 | 1 |\n",
       "| 246 |  2663 | 1 | 0.12 | 0.6800000 | 0.5000000 | 2 |\n",
       "| 247 |  2817 | 0 | 0.20 | 0.7466667 | 0.0000000 | 3 |\n",
       "| 248 |  3767 | 1 | 0.24 | 0.7600000 | 0.4324324 | 4 |\n",
       "| 249 |  6804 | 0 | 0.24 | 0.9333333 | 0.3918919 | 5 |\n",
       "| 250 | 11110 | 0 | 0.24 | 0.7866667 | 0.6486486 | 6 |\n",
       "\n"
      ],
      "text/plain": [
       "    all   weather maxtemp RH        maxwind   day\n",
       "1   2332  0       0.24    0.8400000 0.0000000 2  \n",
       "2   2801  0       0.28    0.9333333 0.6081081 3  \n",
       "3   2375  0       0.28    0.7733333 0.7432432 4  \n",
       "4   3447  1       0.24    0.7200000 0.0000000 5  \n",
       "5   4823  0       0.36    0.7600000 0.5000000 6  \n",
       "6   4978  0       0.36    0.6533333 0.0000000 7  \n",
       "7   2706  1       0.40    0.7466667 0.0000000 1  \n",
       "8   2639  1       0.40    0.6133333 0.4324324 2  \n",
       "9   2647  1       0.36    0.6400000 0.0000000 3  \n",
       "10  2612  1       0.36    0.6400000 0.7162162 4  \n",
       "11  3530  1       0.36    0.5066667 0.0000000 5  \n",
       "12  4440  1       0.44    0.3066667 0.6756757 6  \n",
       "13  3469  1       0.36    0.3333333 0.0000000 7  \n",
       "14  2542  1       0.40    0.5733333 0.3918919 1  \n",
       "15  2779  1       0.48    0.3600000 0.4729730 2  \n",
       "16  4488  1       0.44    0.5066667 0.3648649 3  \n",
       "17  5506  1       0.52    0.4000000 0.6486486 4  \n",
       "18  2954  1       0.36    0.7466667 0.7432432 5  \n",
       "19  2542  1       0.24    0.5200000 1.0000000 6  \n",
       "20  2892  1       0.12    0.4133333 0.7432432 7  \n",
       "21  2445  0       0.16    0.4800000 0.6756757 1  \n",
       "22  2231  1       0.20    0.5600000 0.0000000 2  \n",
       "23  3617  1       0.28    0.5866667 0.4594595 3  \n",
       "24  2113  1       0.36    0.5333333 0.0000000 4  \n",
       "25  2363  1       0.44    0.3866667 0.0000000 5  \n",
       "26  3728  1       0.52    0.3200000 0.3648649 6  \n",
       "27  3643  1       0.48    0.2400000 0.4324324 7  \n",
       "28  2249  1       0.40    0.3866667 0.0000000 1  \n",
       "29  2214  0       0.48    0.2933333 0.0000000 2  \n",
       "30  1668  0       0.48    0.4266667 0.3918919 3  \n",
       "... ...   ...     ...     ...       ...       ...\n",
       "221  3691 1       0.24    0.4266667 0.0000000 5  \n",
       "222  7719 1       0.12    0.5200000 0.6756757 6  \n",
       "223  6165 1       0.16    0.6000000 0.0000000 7  \n",
       "224  3469 0       0.24    0.6666667 0.0000000 1  \n",
       "225  2847 1       0.24    0.7200000 0.7027027 2  \n",
       "226  3295 1       0.12    0.5333333 0.3918919 3  \n",
       "227  2638 0       0.08    0.7333333 0.0000000 4  \n",
       "228  3459 0       0.16    1.0000000 0.0000000 5  \n",
       "229  4860 1       0.12    0.8000000 0.0000000 6  \n",
       "230  5179 1       0.08    0.4533333 0.0000000 7  \n",
       "231  2642 1       0.12    0.4266667 0.0000000 1  \n",
       "232  2551 1       0.12    0.4400000 0.5000000 2  \n",
       "233  2347 1       0.08    0.4533333 0.0000000 3  \n",
       "234  2863 1       0.04    0.4800000 0.0000000 4  \n",
       "235  3875 1       0.16    0.5066667 0.0000000 5  \n",
       "236  6107 1       0.12    0.6000000 0.0000000 6  \n",
       "237  4857 1       0.12    0.4000000 0.6081081 7  \n",
       "238  3365 1       0.08    0.4533333 0.0000000 1  \n",
       "239  2938 1       0.08    0.4800000 0.4729730 2  \n",
       "240  3119 1       0.16    0.5066667 0.4594595 3  \n",
       "241  3436 1       0.20    0.6133333 0.4729730 4  \n",
       "242  2343 1       0.16    0.5733333 0.0000000 5  \n",
       "243  5579 1       0.08    0.6400000 0.4594595 6  \n",
       "244  4796 0       0.00    0.7866667 0.0000000 7  \n",
       "245  2620 0       0.04    0.7866667 0.5270270 1  \n",
       "246  2663 1       0.12    0.6800000 0.5000000 2  \n",
       "247  2817 0       0.20    0.7466667 0.0000000 3  \n",
       "248  3767 1       0.24    0.7600000 0.4324324 4  \n",
       "249  6804 0       0.24    0.9333333 0.3918919 5  \n",
       "250 11110 0       0.24    0.7866667 0.6486486 6  "
      ]
     },
     "metadata": {},
     "output_type": "display_data"
    }
   ],
   "source": [
    "hd1"
   ]
  },
  {
   "cell_type": "markdown",
   "id": "27ee18a7",
   "metadata": {},
   "source": [
    "## 1. Variable Importance from Machine Learning Algorithms"
   ]
  },
  {
   "cell_type": "markdown",
   "id": "c1cb0a6b",
   "metadata": {},
   "source": [
    "### 1.1. Recursive Partitioning (rpart) algorithm"
   ]
  },
  {
   "cell_type": "code",
   "execution_count": 73,
   "id": "6386aa3b",
   "metadata": {
    "scrolled": false
   },
   "outputs": [
    {
     "name": "stderr",
     "output_type": "stream",
     "text": [
      "Warning message in nominalTrainWorkflow(x = x, y = y, wts = weights, info = trainInfo, :\n",
      "\"There were missing values in resampled performance measures.\"\n"
     ]
    }
   ],
   "source": [
    "set.seed(100)\n",
    "rPartMod <- train(all ~ ., data=hd1, method=\"rpart\")\n",
    "rpartImp <- varImp(rPartMod)"
   ]
  },
  {
   "cell_type": "code",
   "execution_count": 74,
   "id": "f4cc1c62",
   "metadata": {},
   "outputs": [
    {
     "name": "stdout",
     "output_type": "stream",
     "text": [
      "rpart variable importance\n",
      "\n",
      "        Overall\n",
      "day     100.000\n",
      "maxtemp  61.098\n",
      "maxwind   8.849\n",
      "weather   1.541\n",
      "RH        0.000\n"
     ]
    }
   ],
   "source": [
    "print(rpartImp)"
   ]
  },
  {
   "cell_type": "markdown",
   "id": "3958062b",
   "metadata": {},
   "source": [
    "### 1.2. Regularized Random Forest (RRF) algorithm"
   ]
  },
  {
   "cell_type": "code",
   "execution_count": 70,
   "id": "ae641692",
   "metadata": {},
   "outputs": [],
   "source": [
    "set.seed(100)\n",
    "rrfMod <- train(all ~ ., data=hd1, method=\"RRF\", importance=T)\n",
    "rrfImp <- varImp(rrfMod, scale=F)"
   ]
  },
  {
   "cell_type": "code",
   "execution_count": 71,
   "id": "b8c90ece",
   "metadata": {},
   "outputs": [
    {
     "name": "stdout",
     "output_type": "stream",
     "text": [
      "RRF variable importance\n",
      "\n",
      "        Overall\n",
      "maxtemp 18.7140\n",
      "day     16.5447\n",
      "RH      10.9443\n",
      "weather  0.4178\n",
      "maxwind -1.0614\n"
     ]
    },
    {
     "data": {
      "image/png": "[encoded data removed]",
      "text/plain": [
       "plot without title"
      ]
     },
     "metadata": {
      "image/png": {
       "height": 420,
       "width": 420
      }
     },
     "output_type": "display_data"
    }
   ],
   "source": [
    "print(rrfImp)\n",
    "plot(rrfImp, top = 5, main='Variable Importance')"
   ]
  },
  {
   "cell_type": "markdown",
   "id": "bae404e2",
   "metadata": {},
   "source": [
    "## 2. Lasso Regression"
   ]
  },
  {
   "cell_type": "code",
   "execution_count": 75,
   "id": "8a3a395b",
   "metadata": {
    "scrolled": false
   },
   "outputs": [
    {
     "data": {
      "image/png": "[encoded data removed]",
      "text/plain": [
       "plot without title"
      ]
     },
     "metadata": {
      "image/png": {
       "height": 420,
       "width": 420
      }
     },
     "output_type": "display_data"
    }
   ],
   "source": [
    "# https://bookdown.org/tpinto_home/Regularisation/lasso-regression.html\n",
    "\n",
    "set.seed(100)\n",
    "\n",
    "#we need to define the model equation\n",
    "  X <- model.matrix(all ~  ., data=hd1)\n",
    "#and the outcome\n",
    "  Y <- hd1$all \n",
    "\n",
    "cv.lambda.lasso <- cv.glmnet(x=X, y=Y, alpha = 1) \n",
    "  plot(cv.lambda.lasso)"
   ]
  },
  {
   "cell_type": "code",
   "execution_count": 76,
   "id": "434d6595",
   "metadata": {
    "scrolled": false
   },
   "outputs": [
    {
     "data": {
      "text/plain": [
       "\n",
       "Call:  cv.glmnet(x = X, y = Y, alpha = 1) \n",
       "\n",
       "Measure: Mean-Squared Error \n",
       "\n",
       "    Lambda Index Measure     SE Nonzero\n",
       "min    4.0    55 2205836 489965       5\n",
       "1se  613.9     1 2672428 541678       0"
      ]
     },
     "metadata": {},
     "output_type": "display_data"
    },
    {
     "data": {
      "image/png": "[encoded data removed]",
      "text/plain": [
       "plot without title"
      ]
     },
     "metadata": {
      "image/png": {
       "height": 420,
       "width": 420
      }
     },
     "output_type": "display_data"
    }
   ],
   "source": [
    "cv.lambda.lasso\n",
    "\n",
    "#Lasso path\n",
    "plot(cv.lambda.lasso$glmnet.fit, \n",
    "     \"lambda\", label=FALSE)"
   ]
  },
  {
   "cell_type": "code",
   "execution_count": 77,
   "id": "24f20e61",
   "metadata": {},
   "outputs": [
    {
     "data": {
      "text/plain": [
       "6 x 1 sparse Matrix of class \"dgCMatrix\"\n",
       "                   s0\n",
       "(Intercept)    .     \n",
       "weather      374.0803\n",
       "maxtemp     2062.1865\n",
       "RH           810.9642\n",
       "maxwind     -328.4511\n",
       "day          306.7158"
      ]
     },
     "metadata": {},
     "output_type": "display_data"
    }
   ],
   "source": [
    "#now get the coefs with \n",
    "#the lambda found above\n",
    "l.lasso.min <- cv.lambda.lasso$lambda.min\n",
    "lasso.model <- glmnet(x=X, y=Y,\n",
    "                      alpha  = 1, \n",
    "                      lambda = l.lasso.min)\n",
    "lasso.model$beta"
   ]
  },
  {
   "cell_type": "code",
   "execution_count": 78,
   "id": "dedaad1f",
   "metadata": {},
   "outputs": [
    {
     "data": {
      "text/plain": [
       "\n",
       "Call:\n",
       "glm(formula = all ~ ., data = hd1)\n",
       "\n",
       "Deviance Residuals: \n",
       "    Min       1Q   Median       3Q      Max  \n",
       "-2780.5   -814.2   -140.3    569.3  10963.9  \n",
       "\n",
       "Coefficients:\n",
       "            Estimate Std. Error t value Pr(>|t|)    \n",
       "(Intercept)   713.89     631.22   1.131    0.259    \n",
       "weather       391.44     262.17   1.493    0.137    \n",
       "maxtemp      2101.03     524.75   4.004 8.27e-05 ***\n",
       "RH            863.86     565.97   1.526    0.128    \n",
       "maxwind      -338.59     318.23  -1.064    0.288    \n",
       "day           308.70      46.83   6.592 2.67e-10 ***\n",
       "---\n",
       "Signif. codes:  0 '***' 0.001 '**' 0.01 '*' 0.05 '.' 0.1 ' ' 1\n",
       "\n",
       "(Dispersion parameter for gaussian family taken to be 2157572)\n",
       "\n",
       "    Null deviance: 666055803  on 249  degrees of freedom\n",
       "Residual deviance: 526447539  on 244  degrees of freedom\n",
       "AIC: 4363.5\n",
       "\n",
       "Number of Fisher Scoring iterations: 2\n"
      ]
     },
     "metadata": {},
     "output_type": "display_data"
    }
   ],
   "source": [
    "ols.model <- glm(all ~  ., data=hd1)\n",
    "\n",
    "summary(ols.model)"
   ]
  },
  {
   "cell_type": "markdown",
   "id": "56ba6e73",
   "metadata": {},
   "source": [
    "## 3. Recursive Feature Elimination"
   ]
  },
  {
   "cell_type": "code",
   "execution_count": 79,
   "id": "83bbd44d",
   "metadata": {
    "scrolled": true
   },
   "outputs": [],
   "source": [
    "set.seed(100)\n",
    "\n",
    "control <- rfeControl(functions = rfFuncs, # random forest\n",
    "                      method = \"repeatedcv\", # repeated cv\n",
    "                      repeats = 5, # number of repeats\n",
    "                      number = 10) # number of folds\n",
    "\n",
    "result_rfe1 <- rfe(x = hd1[2:6], \n",
    "                   y = hd1$all, \n",
    "                   sizes = c(1:6),\n",
    "                   rfeControl = control)"
   ]
  },
  {
   "cell_type": "code",
   "execution_count": 80,
   "id": "71ed988c",
   "metadata": {},
   "outputs": [
    {
     "data": {
      "text/plain": [
       "\n",
       "Recursive feature selection\n",
       "\n",
       "Outer resampling method: Cross-Validated (10 fold, repeated 5 times) \n",
       "\n",
       "Resampling performance over subset size:\n",
       "\n",
       " Variables RMSE Rsquared    MAE RMSESD RsquaredSD MAESD Selected\n",
       "         1 1471   0.1666 1034.3  485.8     0.1400 201.8         \n",
       "         2 1401   0.2821  918.8  503.3     0.1808 218.6         \n",
       "         3 1338   0.3306  889.0  464.1     0.1652 199.2         \n",
       "         4 1334   0.3324  872.4  487.7     0.1646 189.3        *\n",
       "         5 1353   0.3181  881.6  499.6     0.1808 186.0         \n",
       "\n",
       "The top 4 variables (out of 4):\n",
       "   day, maxtemp, RH, weather\n"
      ]
     },
     "metadata": {},
     "output_type": "display_data"
    }
   ],
   "source": [
    "# Print the results\n",
    "result_rfe1"
   ]
  },
  {
   "cell_type": "code",
   "execution_count": 81,
   "id": "fa6f993e",
   "metadata": {},
   "outputs": [
    {
     "data": {
      "text/html": [
       "<style>\n",
       ".list-inline {list-style: none; margin:0; padding: 0}\n",
       ".list-inline>li {display: inline-block}\n",
       ".list-inline>li:not(:last-child)::after {content: \"\\00b7\"; padding: 0 .5ex}\n",
       "</style>\n",
       "<ol class=list-inline><li>'day'</li><li>'maxtemp'</li><li>'RH'</li><li>'weather'</li></ol>\n"
      ],
      "text/latex": [
       "\\begin{enumerate*}\n",
       "\\item 'day'\n",
       "\\item 'maxtemp'\n",
       "\\item 'RH'\n",
       "\\item 'weather'\n",
       "\\end{enumerate*}\n"
      ],
      "text/markdown": [
       "1. 'day'\n",
       "2. 'maxtemp'\n",
       "3. 'RH'\n",
       "4. 'weather'\n",
       "\n",
       "\n"
      ],
      "text/plain": [
       "[1] \"day\"     \"maxtemp\" \"RH\"      \"weather\""
      ]
     },
     "metadata": {},
     "output_type": "display_data"
    },
    {
     "data": {
      "image/png": "[encoded data removed]",
      "text/plain": [
       "plot without title"
      ]
     },
     "metadata": {
      "image/png": {
       "height": 420,
       "width": 420
      }
     },
     "output_type": "display_data"
    },
    {
     "data": {
      "image/png": "[encoded data removed]",
      "text/plain": [
       "plot without title"
      ]
     },
     "metadata": {
      "image/png": {
       "height": 420,
       "width": 420
      }
     },
     "output_type": "display_data"
    }
   ],
   "source": [
    "# Print the selected features\n",
    "predictors(result_rfe1)\n",
    "\n",
    "# Print the results visually\n",
    "ggplot(data = result_rfe1, metric = \"MAE\") + theme_bw()\n",
    "#ggplot(data = result_rfe1, metric = \"NMAE\") + theme_bw()\n",
    "ggplot(data = result_rfe1, metric = \"RMSE\") + theme_bw()\n",
    "#ggplot(data = result_rfe1, metric = \"RRSE\") + theme_bw()"
   ]
  },
  {
   "cell_type": "code",
   "execution_count": 82,
   "id": "3c4aba02",
   "metadata": {},
   "outputs": [
    {
     "data": {
      "image/png": "[encoded data removed]",
      "text/plain": [
       "plot without title"
      ]
     },
     "metadata": {
      "image/png": {
       "height": 420,
       "width": 420
      }
     },
     "output_type": "display_data"
    }
   ],
   "source": [
    "varimp_data <- data.frame(feature = row.names(varImp(result_rfe1))[1:4],\n",
    "                          importance = varImp(result_rfe1)[1:4, 1])\n",
    "\n",
    "ggplot(data = varimp_data, \n",
    "       aes(x = reorder(feature, -importance), y = importance, fill = feature)) +\n",
    "  geom_bar(stat=\"identity\") + labs(x = \"Features\", y = \"Variable Importance\") + \n",
    "  geom_text(aes(label = round(importance, 2)), vjust=1.6, color=\"white\", size=4) + \n",
    "  theme_bw() + theme(legend.position = \"none\")"
   ]
  },
  {
   "cell_type": "markdown",
   "id": "c9a79159",
   "metadata": {},
   "source": [
    "## 4. Step wise Forward and Backward Selection"
   ]
  },
  {
   "cell_type": "code",
   "execution_count": 83,
   "id": "092b52bd",
   "metadata": {},
   "outputs": [
    {
     "name": "stdout",
     "output_type": "stream",
     "text": [
      "[1] \"day\"     \"maxtemp\"\n"
     ]
    }
   ],
   "source": [
    "# Step 1: Define base intercept only model\n",
    "base.mod <- lm(all ~ 1 , data=hd1)  \n",
    "\n",
    "# Step 2: Full model with all predictors\n",
    "all.mod <- lm(all ~ . , data= hd1) \n",
    "\n",
    "# Step 3: Perform step-wise algorithm. direction='both' implies both forward and backward stepwise\n",
    "stepMod <- step(base.mod, scope = list(lower = base.mod, upper = all.mod), direction = \"both\", trace = 0, steps = 1000)  \n",
    "\n",
    "# Step 4: Get the shortlisted variable.\n",
    "shortlistedVars <- names(unlist(stepMod[[1]])) \n",
    "shortlistedVars <- shortlistedVars[!shortlistedVars %in% \"(Intercept)\"] # remove intercept\n",
    "\n",
    "# Show\n",
    "print(shortlistedVars)"
   ]
  },
  {
   "cell_type": "markdown",
   "id": "e34665a2",
   "metadata": {},
   "source": [
    "## 5. Boruta"
   ]
  },
  {
   "cell_type": "code",
   "execution_count": 84,
   "id": "be7bd3be",
   "metadata": {},
   "outputs": [
    {
     "name": "stdout",
     "output_type": "stream",
     "text": [
      "[1] \"weather\" \"maxtemp\" \"RH\"      \"day\"    \n"
     ]
    }
   ],
   "source": [
    "# Perform Boruta search\n",
    "boruta_output <- Boruta(all ~ ., data=na.omit(hd1), doTrace=0)\n",
    "\n",
    "# Get significant variables including tentatives\n",
    "boruta_signif <- getSelectedAttributes(boruta_output, withTentative = TRUE)\n",
    "print(boruta_signif)"
   ]
  },
  {
   "cell_type": "code",
   "execution_count": 85,
   "id": "a2e188e5",
   "metadata": {},
   "outputs": [
    {
     "name": "stdout",
     "output_type": "stream",
     "text": [
      "[1] \"maxtemp\" \"RH\"      \"day\"    \n"
     ]
    }
   ],
   "source": [
    "# Do a tentative rough fix\n",
    "roughFixMod <- TentativeRoughFix(boruta_output)\n",
    "boruta_signif <- getSelectedAttributes(roughFixMod)\n",
    "print(boruta_signif)"
   ]
  },
  {
   "cell_type": "code",
   "execution_count": 86,
   "id": "32b18665",
   "metadata": {},
   "outputs": [
    {
     "data": {
      "text/html": [
       "<table class=\"dataframe\">\n",
       "<caption>A data.frame: 3 × 2</caption>\n",
       "<thead>\n",
       "\t<tr><th></th><th scope=col>meanImp</th><th scope=col>decision</th></tr>\n",
       "\t<tr><th></th><th scope=col>&lt;dbl&gt;</th><th scope=col>&lt;fct&gt;</th></tr>\n",
       "</thead>\n",
       "<tbody>\n",
       "\t<tr><th scope=row>day</th><td>15.154809</td><td>Confirmed</td></tr>\n",
       "\t<tr><th scope=row>maxtemp</th><td>14.322986</td><td>Confirmed</td></tr>\n",
       "\t<tr><th scope=row>RH</th><td> 4.866792</td><td>Confirmed</td></tr>\n",
       "</tbody>\n",
       "</table>\n"
      ],
      "text/latex": [
       "A data.frame: 3 × 2\n",
       "\\begin{tabular}{r|ll}\n",
       "  & meanImp & decision\\\\\n",
       "  & <dbl> & <fct>\\\\\n",
       "\\hline\n",
       "\tday & 15.154809 & Confirmed\\\\\n",
       "\tmaxtemp & 14.322986 & Confirmed\\\\\n",
       "\tRH &  4.866792 & Confirmed\\\\\n",
       "\\end{tabular}\n"
      ],
      "text/markdown": [
       "\n",
       "A data.frame: 3 × 2\n",
       "\n",
       "| <!--/--> | meanImp &lt;dbl&gt; | decision &lt;fct&gt; |\n",
       "|---|---|---|\n",
       "| day | 15.154809 | Confirmed |\n",
       "| maxtemp | 14.322986 | Confirmed |\n",
       "| RH |  4.866792 | Confirmed |\n",
       "\n"
      ],
      "text/plain": [
       "        meanImp   decision \n",
       "day     15.154809 Confirmed\n",
       "maxtemp 14.322986 Confirmed\n",
       "RH       4.866792 Confirmed"
      ]
     },
     "metadata": {},
     "output_type": "display_data"
    }
   ],
   "source": [
    "# Variable Importance Scores\n",
    "imps <- attStats(roughFixMod)\n",
    "imps2 = imps[imps$decision != 'Rejected', c('meanImp', 'decision')]\n",
    "head(imps2[order(-imps2$meanImp), ])  # descending sort"
   ]
  },
  {
   "cell_type": "code",
   "execution_count": 87,
   "id": "83c9b488",
   "metadata": {},
   "outputs": [
    {
     "data": {
      "image/png": "[encoded data removed]",
      "text/plain": [
       "Plot with title \"Variable Importance\""
      ]
     },
     "metadata": {
      "image/png": {
       "height": 420,
       "width": 420
      }
     },
     "output_type": "display_data"
    }
   ],
   "source": [
    "# Plot variable importance\n",
    "plot(boruta_output, cex.axis=.7, las=2, xlab=\"\", main=\"Variable Importance\")\n",
    "\n",
    "# This plot reveals the importance of each of the features. The columns in green are ‘confirmed’ and the ones in red are not. There are couple of blue bars representing ShadowMax and ShadowMin. They are not actual features, but are used by the boruta algorithm to decide if a variable is important or not."
   ]
  },
  {
   "cell_type": "markdown",
   "id": "414958f5",
   "metadata": {},
   "source": [
    "## 6. Relative Importance from Linear Regression"
   ]
  },
  {
   "cell_type": "code",
   "execution_count": 88,
   "id": "ab3b0f57",
   "metadata": {},
   "outputs": [
    {
     "name": "stdout",
     "output_type": "stream",
     "text": [
      "Relative Importances: \n"
     ]
    },
    {
     "data": {
      "text/html": [
       "<style>\n",
       ".dl-inline {width: auto; margin:0; padding: 0}\n",
       ".dl-inline>dt, .dl-inline>dd {float: none; width: auto; display: inline-block}\n",
       ".dl-inline>dt::after {content: \":\\0020\"; padding-right: .5ex}\n",
       ".dl-inline>dt:not(:first-of-type) {padding-left: .5ex}\n",
       "</style><dl class=dl-inline><dt>day</dt><dd>0.141</dd><dt>maxtemp</dt><dd>0.049</dd><dt>weather</dt><dd>0.01</dd><dt>maxwind</dt><dd>0.005</dd><dt>RH</dt><dd>0.004</dd></dl>\n"
      ],
      "text/latex": [
       "\\begin{description*}\n",
       "\\item[day] 0.141\n",
       "\\item[maxtemp] 0.049\n",
       "\\item[weather] 0.01\n",
       "\\item[maxwind] 0.005\n",
       "\\item[RH] 0.004\n",
       "\\end{description*}\n"
      ],
      "text/markdown": [
       "day\n",
       ":   0.141maxtemp\n",
       ":   0.049weather\n",
       ":   0.01maxwind\n",
       ":   0.005RH\n",
       ":   0.004\n",
       "\n"
      ],
      "text/plain": [
       "    day maxtemp weather maxwind      RH \n",
       "  0.141   0.049   0.010   0.005   0.004 "
      ]
     },
     "metadata": {},
     "output_type": "display_data"
    }
   ],
   "source": [
    "# Build linear regression model\n",
    "model_formula = all ~ .\n",
    "lmMod <- lm(model_formula, data=hd1)\n",
    "\n",
    "# calculate relative importance\n",
    "relImportance <- calc.relimp(lmMod, type = \"lmg\", rela = F)\n",
    "\n",
    "# Sort\n",
    "cat('Relative Importances: \\n')\n",
    "sort(round(relImportance$lmg, 3), decreasing=TRUE)"
   ]
  },
  {
   "cell_type": "code",
   "execution_count": 89,
   "id": "a0c5d5d3",
   "metadata": {},
   "outputs": [
    {
     "data": {
      "image/png": "[encoded data removed]",
      "text/plain": [
       "Plot with title \"with 95% bootstrap confidence intervals\""
      ]
     },
     "metadata": {
      "image/png": {
       "height": 420,
       "width": 420
      }
     },
     "output_type": "display_data"
    }
   ],
   "source": [
    "bootsub <- boot.relimp(all ~ ., data=hd1,\n",
    "                       b = 1000, type = 'lmg', rank = TRUE, diff = TRUE)\n",
    "\n",
    "plot(booteval.relimp(bootsub, level=.95))"
   ]
  },
  {
   "cell_type": "markdown",
   "id": "28c6463d",
   "metadata": {},
   "source": [
    "## 7. Genetic Algorithm"
   ]
  },
  {
   "cell_type": "code",
   "execution_count": 91,
   "id": "71da98d9",
   "metadata": {},
   "outputs": [
    {
     "data": {
      "text/plain": [
       "\n",
       "Genetic Algorithm Feature Selection\n",
       "\n",
       "250 samples\n",
       "5 predictors\n",
       "\n",
       "Maximum generations: 3 \n",
       "Population per generation: 50 \n",
       "Crossover probability: 0.8 \n",
       "Mutation probability: 0.1 \n",
       "Elitism: 0 \n",
       "\n",
       "Internal performance values: RMSE, Rsquared\n",
       "Subset selection driven to minimize internal RMSE \n",
       "\n",
       "External performance values: RMSE, Rsquared, MAE\n",
       "Best iteration chose by minimizing external RMSE \n",
       "External resampling method: Cross-Validated (10 fold) \n",
       "\n",
       "During resampling:\n",
       "  * the top 4 selected variables (out of a possible 5):\n",
       "    day (100%), maxtemp (100%), RH (100%), weather (40%)\n",
       "  * on average, 3.4 variables were selected (min = 3, max = 4)\n",
       "\n",
       "In the final search using the entire training set:\n",
       "   * 3 features selected at iteration 2 including:\n",
       "     maxtemp, RH, day  \n",
       "   * external performance at this iteration is\n",
       "\n",
       "         RMSE      Rsquared           MAE \n",
       "     1346.442         0.317       879.721 \n"
      ]
     },
     "metadata": {},
     "output_type": "display_data"
    }
   ],
   "source": [
    "# Define control function\n",
    "ga_ctrl <- gafsControl(functions = rfGA,  # another option is `caretGA`.\n",
    "                        method = \"cv\",\n",
    "                        repeats = 3)\n",
    "\n",
    "# Genetic Algorithm feature selection\n",
    "set.seed(100)\n",
    "ga_obj <- gafs(x=hd1[2:6], \n",
    "               y=hd1$all, \n",
    "               iters = 3,   # normally much higher (100+)\n",
    "               gafsControl = ga_ctrl)\n",
    "\n",
    "ga_obj"
   ]
  },
  {
   "cell_type": "code",
   "execution_count": 92,
   "id": "ba0b5413",
   "metadata": {},
   "outputs": [
    {
     "data": {
      "text/html": [
       "<style>\n",
       ".list-inline {list-style: none; margin:0; padding: 0}\n",
       ".list-inline>li {display: inline-block}\n",
       ".list-inline>li:not(:last-child)::after {content: \"\\00b7\"; padding: 0 .5ex}\n",
       "</style>\n",
       "<ol class=list-inline><li>'maxtemp'</li><li>'RH'</li><li>'day'</li></ol>\n"
      ],
      "text/latex": [
       "\\begin{enumerate*}\n",
       "\\item 'maxtemp'\n",
       "\\item 'RH'\n",
       "\\item 'day'\n",
       "\\end{enumerate*}\n"
      ],
      "text/markdown": [
       "1. 'maxtemp'\n",
       "2. 'RH'\n",
       "3. 'day'\n",
       "\n",
       "\n"
      ],
      "text/plain": [
       "[1] \"maxtemp\" \"RH\"      \"day\"    "
      ]
     },
     "metadata": {},
     "output_type": "display_data"
    }
   ],
   "source": [
    "# Optimal variables\n",
    "ga_obj$optVariables"
   ]
  },
  {
   "cell_type": "markdown",
   "id": "fd591cba",
   "metadata": {},
   "source": [
    "## 8. Simulated Annealing"
   ]
  },
  {
   "cell_type": "code",
   "execution_count": 93,
   "id": "c86b8d28",
   "metadata": {},
   "outputs": [
    {
     "data": {
      "text/plain": [
       "\n",
       "Simulated Annealing Feature Selection\n",
       "\n",
       "250 samples\n",
       "5 predictors\n",
       "\n",
       "Maximum search iterations: 10 \n",
       "Restart after 5 iterations without improvement (0.5 restarts on average)\n",
       "\n",
       "Internal performance values: RMSE, Rsquared\n",
       "Subset selection driven to minimize internal RMSE \n",
       "\n",
       "External performance values: RMSE, Rsquared, MAE\n",
       "Best iteration chose by minimizing external RMSE \n",
       "External resampling method: Cross-Validated (10 fold, repeated 3 times) \n",
       "\n",
       "During resampling:\n",
       "  * the top 5 selected variables (out of a possible 5):\n",
       "    day (90%), maxtemp (86.7%), RH (76.7%), weather (43.3%), maxwind (30%)\n",
       "  * on average, 3.3 variables were selected (min = 2, max = 5)\n",
       "\n",
       "In the final search using the entire training set:\n",
       "   * 3 features selected at iteration 8 including:\n",
       "     weather, maxtemp, maxwind  \n",
       "   * external performance at this iteration is\n",
       "\n",
       "          RMSE       Rsquared            MAE \n",
       "     1382.2482         0.2706       932.6827 \n"
      ]
     },
     "metadata": {},
     "output_type": "display_data"
    }
   ],
   "source": [
    "# Define control function\n",
    "sa_ctrl <- safsControl(functions = rfSA,\n",
    "                        method = \"repeatedcv\",\n",
    "                        repeats = 3,\n",
    "                        improve = 5) # n iterations without improvement before a reset\n",
    "\n",
    "# Genetic Algorithm feature selection\n",
    "set.seed(100)\n",
    "sa_obj <- safs(x=hd1[2:6], \n",
    "               y=hd1$all,\n",
    "               safsControl = sa_ctrl)\n",
    "\n",
    "sa_obj"
   ]
  },
  {
   "cell_type": "code",
   "execution_count": 94,
   "id": "86b40e54",
   "metadata": {},
   "outputs": [
    {
     "name": "stdout",
     "output_type": "stream",
     "text": [
      "[1] \"weather\" \"maxtemp\" \"maxwind\"\n"
     ]
    }
   ],
   "source": [
    "# Optimal variables\n",
    "print(sa_obj$optVariables)"
   ]
  }
 ],
 "metadata": {
  "kernelspec": {
   "display_name": "R",
   "language": "R",
   "name": "ir"
  },
  "language_info": {
   "codemirror_mode": "r",
   "file_extension": ".r",
   "mimetype": "text/x-r-source",
   "name": "R",
   "pygments_lexer": "r",
   "version": "4.1.2"
  }
 },
 "nbformat": 4,
 "nbformat_minor": 5
}
