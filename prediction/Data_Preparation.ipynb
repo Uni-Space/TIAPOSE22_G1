{
 "cells": [
  {
   "cell_type": "code",
   "execution_count": 8,
   "id": "bcd5496e",
   "metadata": {},
   "outputs": [],
   "source": [
    "library(rminer)\n",
    "library(lubridate)\n",
    "library(rjson)"
   ]
  },
  {
   "cell_type": "code",
   "execution_count": 2,
   "id": "01a87eeb",
   "metadata": {},
   "outputs": [],
   "source": [
    "df = read.csv(\"../data/store.csv\", header = TRUE, sep=\";\")"
   ]
  },
  {
   "cell_type": "code",
   "execution_count": 3,
   "id": "0081ab60",
   "metadata": {},
   "outputs": [],
   "source": [
    "df$all <- round(df$all, 0)\n",
    "df$female <- round(df$female, 0)\n",
    "df$adult <- round(df$adult, 0)\n",
    "\n",
    "df$all <- sapply(df$all, as.integer)\n",
    "df$female <- sapply(df$female, as.integer)\n",
    "df$adult <- sapply(df$adult, as.integer)"
   ]
  },
  {
   "cell_type": "code",
   "execution_count": 4,
   "id": "db43f414",
   "metadata": {},
   "outputs": [],
   "source": [
    "df$weather[df$weather==\"Rain\"]<-0\n",
    "df$weather[df$weather==\"Sunny\"]<-1\n",
    "df$weather <- sapply(df$weather, as.integer)\n",
    "\n",
    "#define Min-Max normalization function\n",
    "#min_max_norm <- function(x) {\n",
    "#    (x - min(x)) / (max(x) - min(x))\n",
    "#}\n",
    "#apply Min-Max normalization to first four columns in iris dataset\n",
    "#df[8:10] <- as.data.frame(lapply(df[8:10], min_max_norm))\n",
    "\n",
    "df$date <- as.Date(df$date, format=\"%Y-%m-%d\")\n",
    "df$day <- wday(df$date, week_start=1)\n",
    "df$day <- sapply(df$day, as.integer)\n",
    "#df$date <- NULL"
   ]
  },
  {
   "cell_type": "code",
   "execution_count": 5,
   "id": "156d916d",
   "metadata": {},
   "outputs": [],
   "source": [
    "write.csv(df,file='../data/sanitizedData.csv', row.names=TRUE)"
   ]
  },
  {
   "cell_type": "code",
   "execution_count": 6,
   "id": "10dda172",
   "metadata": {},
   "outputs": [],
   "source": [
    "df = read.csv(\"../data/sanitizedData.csv\", header = TRUE, sep=\",\")"
   ]
  },
  {
   "cell_type": "code",
   "execution_count": 7,
   "id": "48c9e108",
   "metadata": {},
   "outputs": [
    {
     "data": {
      "text/html": [
       "<table class=\"dataframe\">\n",
       "<caption>A data.frame: 6 × 12</caption>\n",
       "<thead>\n",
       "\t<tr><th></th><th scope=col>X</th><th scope=col>date</th><th scope=col>all</th><th scope=col>female</th><th scope=col>male</th><th scope=col>young</th><th scope=col>adult</th><th scope=col>weather</th><th scope=col>maxtemp</th><th scope=col>RH</th><th scope=col>maxwind</th><th scope=col>day</th></tr>\n",
       "\t<tr><th></th><th scope=col>&lt;int&gt;</th><th scope=col>&lt;chr&gt;</th><th scope=col>&lt;int&gt;</th><th scope=col>&lt;int&gt;</th><th scope=col>&lt;int&gt;</th><th scope=col>&lt;int&gt;</th><th scope=col>&lt;int&gt;</th><th scope=col>&lt;int&gt;</th><th scope=col>&lt;int&gt;</th><th scope=col>&lt;int&gt;</th><th scope=col>&lt;int&gt;</th><th scope=col>&lt;int&gt;</th></tr>\n",
       "</thead>\n",
       "<tbody>\n",
       "\t<tr><th scope=row>1</th><td>1</td><td>2013-04-09</td><td>2332</td><td>1115</td><td>1108</td><td>1122</td><td>1210</td><td>0</td><td>13</td><td>87</td><td> 0</td><td>2</td></tr>\n",
       "\t<tr><th scope=row>2</th><td>2</td><td>2013-04-10</td><td>2801</td><td>1217</td><td>1459</td><td>1239</td><td>1562</td><td>0</td><td>14</td><td>94</td><td>45</td><td>3</td></tr>\n",
       "\t<tr><th scope=row>3</th><td>3</td><td>2013-04-11</td><td>2375</td><td>1168</td><td>1099</td><td>1059</td><td>1316</td><td>0</td><td>14</td><td>82</td><td>55</td><td>4</td></tr>\n",
       "\t<tr><th scope=row>4</th><td>4</td><td>2013-04-12</td><td>3447</td><td>1617</td><td>1651</td><td>1606</td><td>1841</td><td>1</td><td>13</td><td>78</td><td> 0</td><td>5</td></tr>\n",
       "\t<tr><th scope=row>5</th><td>5</td><td>2013-04-13</td><td>4823</td><td>2469</td><td>2117</td><td>2318</td><td>2505</td><td>0</td><td>16</td><td>81</td><td>37</td><td>6</td></tr>\n",
       "\t<tr><th scope=row>6</th><td>6</td><td>2013-04-14</td><td>4978</td><td>2564</td><td>2223</td><td>2289</td><td>2689</td><td>0</td><td>16</td><td>73</td><td> 0</td><td>7</td></tr>\n",
       "</tbody>\n",
       "</table>\n"
      ],
      "text/latex": [
       "A data.frame: 6 × 12\n",
       "\\begin{tabular}{r|llllllllllll}\n",
       "  & X & date & all & female & male & young & adult & weather & maxtemp & RH & maxwind & day\\\\\n",
       "  & <int> & <chr> & <int> & <int> & <int> & <int> & <int> & <int> & <int> & <int> & <int> & <int>\\\\\n",
       "\\hline\n",
       "\t1 & 1 & 2013-04-09 & 2332 & 1115 & 1108 & 1122 & 1210 & 0 & 13 & 87 &  0 & 2\\\\\n",
       "\t2 & 2 & 2013-04-10 & 2801 & 1217 & 1459 & 1239 & 1562 & 0 & 14 & 94 & 45 & 3\\\\\n",
       "\t3 & 3 & 2013-04-11 & 2375 & 1168 & 1099 & 1059 & 1316 & 0 & 14 & 82 & 55 & 4\\\\\n",
       "\t4 & 4 & 2013-04-12 & 3447 & 1617 & 1651 & 1606 & 1841 & 1 & 13 & 78 &  0 & 5\\\\\n",
       "\t5 & 5 & 2013-04-13 & 4823 & 2469 & 2117 & 2318 & 2505 & 0 & 16 & 81 & 37 & 6\\\\\n",
       "\t6 & 6 & 2013-04-14 & 4978 & 2564 & 2223 & 2289 & 2689 & 0 & 16 & 73 &  0 & 7\\\\\n",
       "\\end{tabular}\n"
      ],
      "text/markdown": [
       "\n",
       "A data.frame: 6 × 12\n",
       "\n",
       "| <!--/--> | X &lt;int&gt; | date &lt;chr&gt; | all &lt;int&gt; | female &lt;int&gt; | male &lt;int&gt; | young &lt;int&gt; | adult &lt;int&gt; | weather &lt;int&gt; | maxtemp &lt;int&gt; | RH &lt;int&gt; | maxwind &lt;int&gt; | day &lt;int&gt; |\n",
       "|---|---|---|---|---|---|---|---|---|---|---|---|---|\n",
       "| 1 | 1 | 2013-04-09 | 2332 | 1115 | 1108 | 1122 | 1210 | 0 | 13 | 87 |  0 | 2 |\n",
       "| 2 | 2 | 2013-04-10 | 2801 | 1217 | 1459 | 1239 | 1562 | 0 | 14 | 94 | 45 | 3 |\n",
       "| 3 | 3 | 2013-04-11 | 2375 | 1168 | 1099 | 1059 | 1316 | 0 | 14 | 82 | 55 | 4 |\n",
       "| 4 | 4 | 2013-04-12 | 3447 | 1617 | 1651 | 1606 | 1841 | 1 | 13 | 78 |  0 | 5 |\n",
       "| 5 | 5 | 2013-04-13 | 4823 | 2469 | 2117 | 2318 | 2505 | 0 | 16 | 81 | 37 | 6 |\n",
       "| 6 | 6 | 2013-04-14 | 4978 | 2564 | 2223 | 2289 | 2689 | 0 | 16 | 73 |  0 | 7 |\n",
       "\n"
      ],
      "text/plain": [
       "  X date       all  female male young adult weather maxtemp RH maxwind day\n",
       "1 1 2013-04-09 2332 1115   1108 1122  1210  0       13      87  0      2  \n",
       "2 2 2013-04-10 2801 1217   1459 1239  1562  0       14      94 45      3  \n",
       "3 3 2013-04-11 2375 1168   1099 1059  1316  0       14      82 55      4  \n",
       "4 4 2013-04-12 3447 1617   1651 1606  1841  1       13      78  0      5  \n",
       "5 5 2013-04-13 4823 2469   2117 2318  2505  0       16      81 37      6  \n",
       "6 6 2013-04-14 4978 2564   2223 2289  2689  0       16      73  0      7  "
      ]
     },
     "metadata": {},
     "output_type": "display_data"
    }
   ],
   "source": [
    "head(df)"
   ]
  },
  {
   "cell_type": "code",
   "execution_count": null,
   "id": "67c61824",
   "metadata": {},
   "outputs": [],
   "source": []
  }
 ],
 "metadata": {
  "kernelspec": {
   "display_name": "R",
   "language": "R",
   "name": "ir"
  },
  "language_info": {
   "codemirror_mode": "r",
   "file_extension": ".r",
   "mimetype": "text/x-r-source",
   "name": "R",
   "pygments_lexer": "r",
   "version": "4.1.2"
  }
 },
 "nbformat": 4,
 "nbformat_minor": 5
}
