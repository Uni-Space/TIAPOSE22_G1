{
 "cells": [
  {
   "cell_type": "code",
   "execution_count": 10,
   "id": "8d875969",
   "metadata": {},
   "outputs": [],
   "source": [
    "library(mco)\n",
    "library(\"IRdisplay\")\n",
    "set.seed(125)"
   ]
  },
  {
   "cell_type": "code",
   "execution_count": 2,
   "id": "98865d92",
   "metadata": {},
   "outputs": [],
   "source": [
    "df = read.csv(\"../../data/store.csv\", header = TRUE, sep=\";\")\n",
    "days = weekdays(as.Date(df[251:257,1]))\n",
    "all = df[251:257,2]\n",
    "female = df[251:257,3]\n",
    "male = df[251:257,4]\n",
    "young = df[251:257,5]\n",
    "adult = df[251:257,6]"
   ]
  },
  {
   "cell_type": "code",
   "execution_count": 3,
   "id": "55918f06",
   "metadata": {},
   "outputs": [
    {
     "data": {
      "text/html": [
       "<table class=\"dataframe\">\n",
       "<caption>A data.frame: 7 × 10</caption>\n",
       "<thead>\n",
       "\t<tr><th></th><th scope=col>date</th><th scope=col>all</th><th scope=col>female</th><th scope=col>male</th><th scope=col>young</th><th scope=col>adult</th><th scope=col>weather</th><th scope=col>maxtemp</th><th scope=col>RH</th><th scope=col>maxwind</th></tr>\n",
       "\t<tr><th></th><th scope=col>&lt;chr&gt;</th><th scope=col>&lt;dbl&gt;</th><th scope=col>&lt;dbl&gt;</th><th scope=col>&lt;int&gt;</th><th scope=col>&lt;int&gt;</th><th scope=col>&lt;dbl&gt;</th><th scope=col>&lt;chr&gt;</th><th scope=col>&lt;int&gt;</th><th scope=col>&lt;int&gt;</th><th scope=col>&lt;int&gt;</th></tr>\n",
       "</thead>\n",
       "<tbody>\n",
       "\t<tr><th scope=row>251</th><td>2013-12-15</td><td>4974</td><td>2299</td><td>2390</td><td>2680</td><td>2294</td><td>Sunny</td><td>11</td><td>83</td><td>35</td></tr>\n",
       "\t<tr><th scope=row>252</th><td>2013-12-16</td><td>3228</td><td>1442</td><td>1606</td><td>1625</td><td>1603</td><td>Sunny</td><td>10</td><td>87</td><td>32</td></tr>\n",
       "\t<tr><th scope=row>253</th><td>2013-12-17</td><td>3191</td><td>1427</td><td>1627</td><td>1688</td><td>1503</td><td>Rain </td><td>11</td><td>90</td><td>24</td></tr>\n",
       "\t<tr><th scope=row>254</th><td>2013-12-18</td><td>4153</td><td>2035</td><td>1880</td><td>2208</td><td>1945</td><td>Rain </td><td>10</td><td>93</td><td> 0</td></tr>\n",
       "\t<tr><th scope=row>255</th><td>2013-12-19</td><td>4307</td><td>2043</td><td>2028</td><td>2282</td><td>2025</td><td>Rain </td><td>12</td><td>86</td><td>74</td></tr>\n",
       "\t<tr><th scope=row>256</th><td>2013-12-20</td><td>4660</td><td>2207</td><td>2227</td><td>2441</td><td>2219</td><td>Sunny</td><td> 9</td><td>69</td><td> 0</td></tr>\n",
       "\t<tr><th scope=row>257</th><td>2013-12-21</td><td>6193</td><td>2894</td><td>2967</td><td>3115</td><td>3078</td><td>Sunny</td><td> 9</td><td>68</td><td> 0</td></tr>\n",
       "</tbody>\n",
       "</table>\n"
      ],
      "text/latex": [
       "A data.frame: 7 × 10\n",
       "\\begin{tabular}{r|llllllllll}\n",
       "  & date & all & female & male & young & adult & weather & maxtemp & RH & maxwind\\\\\n",
       "  & <chr> & <dbl> & <dbl> & <int> & <int> & <dbl> & <chr> & <int> & <int> & <int>\\\\\n",
       "\\hline\n",
       "\t251 & 2013-12-15 & 4974 & 2299 & 2390 & 2680 & 2294 & Sunny & 11 & 83 & 35\\\\\n",
       "\t252 & 2013-12-16 & 3228 & 1442 & 1606 & 1625 & 1603 & Sunny & 10 & 87 & 32\\\\\n",
       "\t253 & 2013-12-17 & 3191 & 1427 & 1627 & 1688 & 1503 & Rain  & 11 & 90 & 24\\\\\n",
       "\t254 & 2013-12-18 & 4153 & 2035 & 1880 & 2208 & 1945 & Rain  & 10 & 93 &  0\\\\\n",
       "\t255 & 2013-12-19 & 4307 & 2043 & 2028 & 2282 & 2025 & Rain  & 12 & 86 & 74\\\\\n",
       "\t256 & 2013-12-20 & 4660 & 2207 & 2227 & 2441 & 2219 & Sunny &  9 & 69 &  0\\\\\n",
       "\t257 & 2013-12-21 & 6193 & 2894 & 2967 & 3115 & 3078 & Sunny &  9 & 68 &  0\\\\\n",
       "\\end{tabular}\n"
      ],
      "text/markdown": [
       "\n",
       "A data.frame: 7 × 10\n",
       "\n",
       "| <!--/--> | date &lt;chr&gt; | all &lt;dbl&gt; | female &lt;dbl&gt; | male &lt;int&gt; | young &lt;int&gt; | adult &lt;dbl&gt; | weather &lt;chr&gt; | maxtemp &lt;int&gt; | RH &lt;int&gt; | maxwind &lt;int&gt; |\n",
       "|---|---|---|---|---|---|---|---|---|---|---|\n",
       "| 251 | 2013-12-15 | 4974 | 2299 | 2390 | 2680 | 2294 | Sunny | 11 | 83 | 35 |\n",
       "| 252 | 2013-12-16 | 3228 | 1442 | 1606 | 1625 | 1603 | Sunny | 10 | 87 | 32 |\n",
       "| 253 | 2013-12-17 | 3191 | 1427 | 1627 | 1688 | 1503 | Rain  | 11 | 90 | 24 |\n",
       "| 254 | 2013-12-18 | 4153 | 2035 | 1880 | 2208 | 1945 | Rain  | 10 | 93 |  0 |\n",
       "| 255 | 2013-12-19 | 4307 | 2043 | 2028 | 2282 | 2025 | Rain  | 12 | 86 | 74 |\n",
       "| 256 | 2013-12-20 | 4660 | 2207 | 2227 | 2441 | 2219 | Sunny |  9 | 69 |  0 |\n",
       "| 257 | 2013-12-21 | 6193 | 2894 | 2967 | 3115 | 3078 | Sunny |  9 | 68 |  0 |\n",
       "\n"
      ],
      "text/plain": [
       "    date       all  female male young adult weather maxtemp RH maxwind\n",
       "251 2013-12-15 4974 2299   2390 2680  2294  Sunny   11      83 35     \n",
       "252 2013-12-16 3228 1442   1606 1625  1603  Sunny   10      87 32     \n",
       "253 2013-12-17 3191 1427   1627 1688  1503  Rain    11      90 24     \n",
       "254 2013-12-18 4153 2035   1880 2208  1945  Rain    10      93  0     \n",
       "255 2013-12-19 4307 2043   2028 2282  2025  Rain    12      86 74     \n",
       "256 2013-12-20 4660 2207   2227 2441  2219  Sunny    9      69  0     \n",
       "257 2013-12-21 6193 2894   2967 3115  3078  Sunny    9      68  0     "
      ]
     },
     "metadata": {},
     "output_type": "display_data"
    }
   ],
   "source": [
    "tail(df,7)"
   ]
  },
  {
   "cell_type": "code",
   "execution_count": 4,
   "id": "f5068b7c",
   "metadata": {},
   "outputs": [],
   "source": [
    "pred=list(all=all, female=female, male=male, young=young, adult=adult) # pred \n",
    "D = length(pred$all) + length(pred$female) + length(pred$male) + length(pred$young) + length(pred$adult) # size of the solution"
   ]
  },
  {
   "cell_type": "code",
   "execution_count": 5,
   "id": "22aa5918",
   "metadata": {},
   "outputs": [],
   "source": [
    "# Evaluation Functions and Report Function: ------------------------------\n",
    "source(\"../eval_functions.R\", encoding=\"UTF-8\")"
   ]
  },
  {
   "cell_type": "code",
   "execution_count": 6,
   "id": "91e122f8",
   "metadata": {},
   "outputs": [],
   "source": [
    "# nsga2 Initial Settings: -------------------------\n",
    "lower=rep(0,D) # lower bounds\n",
    "upper=rep(1,D) #  upper bounds\n",
    "  \n",
    "m=2 # there are 2 objectives\n",
    "popSize=20\n",
    "maxGen=100\n",
    "\n",
    "output=\"image\" # Pareto Graph"
   ]
  },
  {
   "cell_type": "markdown",
   "id": "e7a7e744",
   "metadata": {},
   "source": [
    "## Objetivo 3"
   ]
  },
  {
   "cell_type": "code",
   "execution_count": 7,
   "id": "fcf0ead1",
   "metadata": {},
   "outputs": [
    {
     "name": "stdout",
     "output_type": "stream",
     "text": [
      "0 0 0 0 0 0 1 0 0 0 0 0 0 1 0 0 0 0 0 0 0 0 0 0 0 0 0 0 0 0 0 0 0 0 1 f=(3,682.95)\n",
      "0 0 0 0 0 0 1 1 0 0 1 1 1 1 1 0 0 0 1 0 1 1 0 0 0 0 0 0 1 1 1 1 1 1 1 f=(17,2093.7)\n",
      "0 0 0 0 0 0 1 1 0 0 1 1 1 1 1 0 0 0 0 0 1 0 0 0 0 0 0 0 1 1 1 1 1 1 1 f=(15,2044.54)\n",
      "0 0 0 0 0 0 1 1 0 0 0 0 1 1 0 0 0 0 0 0 0 0 0 0 0 0 0 0 1 0 0 0 1 1 1 f=(8,1393.29)\n",
      "0 0 0 0 0 0 1 1 0 0 1 1 1 1 0 0 0 0 0 0 0 0 0 0 0 0 0 0 1 0 0 0 1 1 1 f=(10,1623.43)\n",
      "0 0 0 0 0 0 1 1 0 0 1 1 1 1 0 0 0 0 0 0 1 0 0 0 0 0 0 0 1 1 0 1 1 1 1 f=(13,1916.88)\n",
      "0 0 0 0 0 0 1 0 0 0 0 0 0 1 0 0 0 0 0 0 0 0 0 0 0 0 0 0 1 0 0 0 0 0 1 f=(4,838.23)\n",
      "0 0 0 0 0 0 1 0 0 0 0 0 0 1 0 0 0 0 0 0 0 0 0 0 0 0 0 0 1 0 0 0 0 0 1 f=(4,838.23)\n",
      "0 0 0 0 0 0 1 1 0 0 0 0 0 1 0 0 0 0 0 0 0 0 0 0 0 0 0 0 1 0 0 0 0 0 1 f=(5,987.1)\n",
      "0 0 0 0 0 0 1 1 0 0 0 0 0 1 0 0 0 0 0 0 0 0 0 0 0 0 0 0 1 0 0 0 0 0 1 f=(5,987.1)\n",
      "0 0 0 0 0 0 1 1 0 0 0 0 0 1 0 0 0 0 0 0 0 0 0 0 0 0 0 0 1 0 0 0 0 1 1 f=(6,1133.38)\n",
      "0 0 0 0 0 0 1 1 0 0 0 0 1 1 0 0 0 0 0 0 0 0 0 0 0 0 0 0 1 0 0 0 0 1 1 f=(7,1270.29)\n",
      "0 0 0 0 0 0 1 1 0 0 0 0 0 1 0 0 0 0 0 0 0 0 0 0 0 0 0 0 1 0 0 0 0 1 1 f=(6,1133.38)\n",
      "0 0 0 0 0 0 1 1 0 0 0 0 1 1 0 0 0 0 0 0 0 0 0 0 0 0 0 0 1 0 0 0 0 1 1 f=(7,1270.29)\n",
      "0 0 0 0 0 0 1 1 0 0 0 1 1 1 0 0 0 0 0 0 0 0 0 0 0 0 0 0 1 0 0 0 1 1 1 f=(9,1508.88)\n",
      "0 0 0 0 0 0 1 1 0 0 0 1 1 1 0 0 0 0 0 0 0 0 0 0 0 0 0 0 1 0 0 0 1 1 1 f=(9,1508.88)\n",
      "0 0 0 0 0 0 1 1 0 0 1 1 1 1 0 0 0 0 0 0 0 0 0 0 0 0 0 0 1 0 0 1 1 1 1 f=(11,1736.83)\n",
      "0 0 0 0 0 0 1 1 0 0 1 1 1 1 0 0 0 0 0 0 1 0 0 0 0 0 0 0 1 0 0 1 1 1 1 f=(12,1844.52)\n",
      "0 0 0 0 0 0 1 1 0 0 1 1 1 1 0 0 0 0 0 0 0 0 0 0 0 0 0 0 1 0 0 1 1 1 1 f=(11,1736.83)\n",
      "0 0 0 0 0 0 1 1 0 0 1 1 1 1 0 0 0 0 0 0 1 0 0 0 0 0 0 0 1 0 0 1 1 1 1 f=(12,1844.52)\n"
     ]
    },
    {
     "data": {
      "text/html": [
       "<strong>png:</strong> 2"
      ],
      "text/latex": [
       "\\textbf{png:} 2"
      ],
      "text/markdown": [
       "**png:** 2"
      ],
      "text/plain": [
       "png \n",
       "  2 "
      ]
     },
     "metadata": {},
     "output_type": "display_data"
    }
   ],
   "source": [
    "# nsga2 Objective 3: -------------------------\n",
    "evalM=function(x) c(sum(round(x)), -profitObj1(round(x)))\n",
    "\n",
    "G=nsga2(fn=evalM,idim=D,odim=m, lower.bounds=lower,upper.bounds=upper,popsize=popSize,generations=1:maxGen)\n",
    "  \n",
    "# show best individuals:\n",
    "I=which(G[[maxGen]]$pareto.optimal)\n",
    "for(i in I) {\n",
    "    x=round(G[[maxGen]]$par[i,],digits=0); cat(x)\n",
    "    cat(\" f=(\",round(evalM(x)[1],2),\",\",abs(round(evalM(x)[2],2)),\")\", \"\\n\",sep=\"\")\n",
    "}\n",
    "  \n",
    "# create file with Pareto front evolution:\n",
    "if (output == \"pdf\") {\n",
    "    filePath = \"nsga_pareto_graph.pdf\"\n",
    "    pdf(file=filePath,paper=\"special\",height=5,width=5)\n",
    "} else {\n",
    "    filePath = \"nsga_pareto_graph.jpg\"\n",
    "    jpeg(filePath, width = 600, height = 600)\n",
    "}\n",
    "  \n",
    "par(mar=c(4.0,4.0,0.1,0.1))\n",
    "I=1:maxGen\n",
    "for(i in I){ \n",
    "    G[[i]]$value[,2] <- abs(G[[i]]$value[,2])\n",
    "    P=G[[i]]$value # objectives f1 and f2\n",
    "    \n",
    "    #color from light gray (75) to dark (1):\n",
    "    COL=paste(\"gray\",round(76-i*0.75),sep=\"\")\n",
    "    if(i==1) plot(P,xlim=c(0,35),ylim=c(0,3000), xlab=\"Campaigns\",ylab=\"Profit\",cex=1,col=COL)\n",
    "    Pareto=P[G[[i]]$pareto.optimal,]\n",
    "    \n",
    "    # sort Pareto according to x axis:\n",
    "    points(P,type=\"p\",pch=1,cex=1,col=COL)\n",
    "    if(is.matrix(Pareto)){ # if Pareto has more than 1 point\n",
    "        I=sort.int(Pareto[,1],index.return=TRUE)\n",
    "        Pareto=Pareto[I$ix,]\n",
    "        lines(Pareto,type=\"l\",cex=1,col=COL)\n",
    "    }\n",
    "}\n",
    "dev.off()\n",
    "  \n",
    "lastGen <- G[[maxGen]]\n",
    "index <- which.max(lastGen$value[,2])\n",
    "sol <- round(lastGen$par[index,],digits=0)"
   ]
  },
  {
   "cell_type": "code",
   "execution_count": 8,
   "id": "2dc14c69",
   "metadata": {},
   "outputs": [
    {
     "data": {
      "image/png": "[encoded data removed]"
     },
     "metadata": {},
     "output_type": "display_data"
    }
   ],
   "source": [
    "display_png(file=filePath)  "
   ]
  },
  {
   "cell_type": "code",
   "execution_count": 9,
   "id": "0a3667c3",
   "metadata": {},
   "outputs": [
    {
     "data": {
      "text/html": [
       "<table class=\"dataframe\">\n",
       "<caption>A data.frame: 5 × 8</caption>\n",
       "<thead>\n",
       "\t<tr><th></th><th scope=col>campaign</th><th scope=col>domingo</th><th scope=col>segunda-feira</th><th scope=col>terça-feira</th><th scope=col>quarta-feira</th><th scope=col>quinta-feira</th><th scope=col>sexta-feira</th><th scope=col>sábado</th></tr>\n",
       "\t<tr><th></th><th scope=col>&lt;chr&gt;</th><th scope=col>&lt;chr&gt;</th><th scope=col>&lt;chr&gt;</th><th scope=col>&lt;chr&gt;</th><th scope=col>&lt;chr&gt;</th><th scope=col>&lt;chr&gt;</th><th scope=col>&lt;chr&gt;</th><th scope=col>&lt;chr&gt;</th></tr>\n",
       "</thead>\n",
       "<tbody>\n",
       "\t<tr><th scope=row>1</th><td>all   </td><td>N/A       </td><td>N/A      </td><td>N/A      </td><td>N/A       </td><td>N/A       </td><td>N/A       </td><td>+ 207.37 €</td></tr>\n",
       "\t<tr><th scope=row>2</th><td>female</td><td>+ 148.87 €</td><td>N/A      </td><td>N/A      </td><td>+ 114.55 €</td><td>+ 115.59 €</td><td>+ 136.91 €</td><td>+ 226.22 €</td></tr>\n",
       "\t<tr><th scope=row>3</th><td>male  </td><td>+ 67.3 €  </td><td>N/A      </td><td>N/A      </td><td>N/A       </td><td>+ 41.96 € </td><td>N/A       </td><td>+ 107.69 €</td></tr>\n",
       "\t<tr><th scope=row>4</th><td>young </td><td>+ 7.2 €   </td><td>N/A      </td><td>N/A      </td><td>N/A       </td><td>N/A       </td><td>N/A       </td><td>N/A       </td></tr>\n",
       "\t<tr><th scope=row>5</th><td>adult </td><td>+ 155.28 €</td><td>+ 72.36 €</td><td>+ 60.36 €</td><td>+ 113.4 € </td><td>+ 123 €   </td><td>+ 146.28 €</td><td>+ 249.36 €</td></tr>\n",
       "</tbody>\n",
       "</table>\n"
      ],
      "text/latex": [
       "A data.frame: 5 × 8\n",
       "\\begin{tabular}{r|llllllll}\n",
       "  & campaign & domingo & segunda-feira & terça-feira & quarta-feira & quinta-feira & sexta-feira & sábado\\\\\n",
       "  & <chr> & <chr> & <chr> & <chr> & <chr> & <chr> & <chr> & <chr>\\\\\n",
       "\\hline\n",
       "\t1 & all    & N/A        & N/A       & N/A       & N/A        & N/A        & N/A        & + 207.37 €\\\\\n",
       "\t2 & female & + 148.87 € & N/A       & N/A       & + 114.55 € & + 115.59 € & + 136.91 € & + 226.22 €\\\\\n",
       "\t3 & male   & + 67.3 €   & N/A       & N/A       & N/A        & + 41.96 €  & N/A        & + 107.69 €\\\\\n",
       "\t4 & young  & + 7.2 €    & N/A       & N/A       & N/A        & N/A        & N/A        & N/A       \\\\\n",
       "\t5 & adult  & + 155.28 € & + 72.36 € & + 60.36 € & + 113.4 €  & + 123 €    & + 146.28 € & + 249.36 €\\\\\n",
       "\\end{tabular}\n"
      ],
      "text/markdown": [
       "\n",
       "A data.frame: 5 × 8\n",
       "\n",
       "| <!--/--> | campaign &lt;chr&gt; | domingo &lt;chr&gt; | segunda-feira &lt;chr&gt; | terça-feira &lt;chr&gt; | quarta-feira &lt;chr&gt; | quinta-feira &lt;chr&gt; | sexta-feira &lt;chr&gt; | sábado &lt;chr&gt; |\n",
       "|---|---|---|---|---|---|---|---|---|\n",
       "| 1 | all    | N/A        | N/A       | N/A       | N/A        | N/A        | N/A        | + 207.37 € |\n",
       "| 2 | female | + 148.87 € | N/A       | N/A       | + 114.55 € | + 115.59 € | + 136.91 € | + 226.22 € |\n",
       "| 3 | male   | + 67.3 €   | N/A       | N/A       | N/A        | + 41.96 €  | N/A        | + 107.69 € |\n",
       "| 4 | young  | + 7.2 €    | N/A       | N/A       | N/A        | N/A        | N/A        | N/A        |\n",
       "| 5 | adult  | + 155.28 € | + 72.36 € | + 60.36 € | + 113.4 €  | + 123 €    | + 146.28 € | + 249.36 € |\n",
       "\n"
      ],
      "text/plain": [
       "  campaign domingo    segunda-feira terça-feira quarta-feira quinta-feira\n",
       "1 all      N/A        N/A           N/A         N/A          N/A         \n",
       "2 female   + 148.87 \\200 N/A           N/A         + 114.55 \\200   + 115.59 \\200  \n",
       "3 male     + 67.3 \\200   N/A           N/A         N/A          + 41.96 \\200   \n",
       "4 young    + 7.2 \\200    N/A           N/A         N/A          N/A         \n",
       "5 adult    + 155.28 \\200 + 72.36 \\200     + 60.36 \\200   + 113.4 \\200    + 123 \\200     \n",
       "  sexta-feira sábado    \n",
       "1 N/A         + 207.37 \\200\n",
       "2 + 136.91 \\200  + 226.22 \\200\n",
       "3 N/A         + 107.69 \\200\n",
       "4 N/A         N/A       \n",
       "5 + 146.28 \\200  + 249.36 \\200"
      ]
     },
     "metadata": {},
     "output_type": "display_data"
    },
    {
     "name": "stdout",
     "output_type": "stream",
     "text": [
      "Result with the highest profit: -------------------------\n",
      "Total Sales: 4433.7 €\n",
      "Total Costs: - 2340 €\n",
      "Total Profit: 2093.7 €"
     ]
    }
   ],
   "source": [
    "formatCampaigns(pred, sol, days)\n",
    "totalSales <- sum(sales(pred, sol))\n",
    "totalCosts <- sum(costs(pred, sol))\n",
    "cat(\"Result with the highest profit: -------------------------\\n\")\n",
    "cat(\"Total Sales:\", totalSales, \"€\\n\")\n",
    "cat(\"Total Costs: -\", totalCosts, \"€\\n\")\n",
    "cat(\"Total Profit:\", totalSales - totalCosts, \"€\")"
   ]
  }
 ],
 "metadata": {
  "kernelspec": {
   "display_name": "R",
   "language": "R",
   "name": "ir"
  },
  "language_info": {
   "codemirror_mode": "r",
   "file_extension": ".r",
   "mimetype": "text/x-r-source",
   "name": "R",
   "pygments_lexer": "r",
   "version": "4.1.2"
  }
 },
 "nbformat": 4,
 "nbformat_minor": 5
}
