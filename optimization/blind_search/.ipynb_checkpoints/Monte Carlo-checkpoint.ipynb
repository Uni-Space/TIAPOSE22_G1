{
 "cells": [
  {
   "cell_type": "code",
   "execution_count": 2,
   "id": "8d875969",
   "metadata": {},
   "outputs": [],
   "source": [
    "source(\"../0.models/blind.R\") # fsearch is defined here\n",
    "source(\"../0.models/montecarlo.R\")\n",
    "set.seed(125)"
   ]
  },
  {
   "cell_type": "code",
   "execution_count": 3,
   "id": "98865d92",
   "metadata": {},
   "outputs": [],
   "source": [
    "df = read.csv(\"../../data/store.csv\", header = TRUE, sep=\";\")"
   ]
  },
  {
   "cell_type": "code",
   "execution_count": 4,
   "id": "55918f06",
   "metadata": {},
   "outputs": [
    {
     "data": {
      "text/html": [
       "<table class=\"dataframe\">\n",
       "<caption>A data.frame: 7 × 10</caption>\n",
       "<thead>\n",
       "\t<tr><th></th><th scope=col>date</th><th scope=col>all</th><th scope=col>female</th><th scope=col>male</th><th scope=col>young</th><th scope=col>adult</th><th scope=col>weather</th><th scope=col>maxtemp</th><th scope=col>RH</th><th scope=col>maxwind</th></tr>\n",
       "\t<tr><th></th><th scope=col>&lt;chr&gt;</th><th scope=col>&lt;dbl&gt;</th><th scope=col>&lt;dbl&gt;</th><th scope=col>&lt;int&gt;</th><th scope=col>&lt;int&gt;</th><th scope=col>&lt;dbl&gt;</th><th scope=col>&lt;chr&gt;</th><th scope=col>&lt;int&gt;</th><th scope=col>&lt;int&gt;</th><th scope=col>&lt;int&gt;</th></tr>\n",
       "</thead>\n",
       "<tbody>\n",
       "\t<tr><th scope=row>251</th><td>2013-12-15</td><td>4974</td><td>2299</td><td>2390</td><td>2680</td><td>2294</td><td>Sunny</td><td>11</td><td>83</td><td>35</td></tr>\n",
       "\t<tr><th scope=row>252</th><td>2013-12-16</td><td>3228</td><td>1442</td><td>1606</td><td>1625</td><td>1603</td><td>Sunny</td><td>10</td><td>87</td><td>32</td></tr>\n",
       "\t<tr><th scope=row>253</th><td>2013-12-17</td><td>3191</td><td>1427</td><td>1627</td><td>1688</td><td>1503</td><td>Rain </td><td>11</td><td>90</td><td>24</td></tr>\n",
       "\t<tr><th scope=row>254</th><td>2013-12-18</td><td>4153</td><td>2035</td><td>1880</td><td>2208</td><td>1945</td><td>Rain </td><td>10</td><td>93</td><td> 0</td></tr>\n",
       "\t<tr><th scope=row>255</th><td>2013-12-19</td><td>4307</td><td>2043</td><td>2028</td><td>2282</td><td>2025</td><td>Rain </td><td>12</td><td>86</td><td>74</td></tr>\n",
       "\t<tr><th scope=row>256</th><td>2013-12-20</td><td>4660</td><td>2207</td><td>2227</td><td>2441</td><td>2219</td><td>Sunny</td><td> 9</td><td>69</td><td> 0</td></tr>\n",
       "\t<tr><th scope=row>257</th><td>2013-12-21</td><td>6193</td><td>2894</td><td>2967</td><td>3115</td><td>3078</td><td>Sunny</td><td> 9</td><td>68</td><td> 0</td></tr>\n",
       "</tbody>\n",
       "</table>\n"
      ],
      "text/latex": [
       "A data.frame: 7 × 10\n",
       "\\begin{tabular}{r|llllllllll}\n",
       "  & date & all & female & male & young & adult & weather & maxtemp & RH & maxwind\\\\\n",
       "  & <chr> & <dbl> & <dbl> & <int> & <int> & <dbl> & <chr> & <int> & <int> & <int>\\\\\n",
       "\\hline\n",
       "\t251 & 2013-12-15 & 4974 & 2299 & 2390 & 2680 & 2294 & Sunny & 11 & 83 & 35\\\\\n",
       "\t252 & 2013-12-16 & 3228 & 1442 & 1606 & 1625 & 1603 & Sunny & 10 & 87 & 32\\\\\n",
       "\t253 & 2013-12-17 & 3191 & 1427 & 1627 & 1688 & 1503 & Rain  & 11 & 90 & 24\\\\\n",
       "\t254 & 2013-12-18 & 4153 & 2035 & 1880 & 2208 & 1945 & Rain  & 10 & 93 &  0\\\\\n",
       "\t255 & 2013-12-19 & 4307 & 2043 & 2028 & 2282 & 2025 & Rain  & 12 & 86 & 74\\\\\n",
       "\t256 & 2013-12-20 & 4660 & 2207 & 2227 & 2441 & 2219 & Sunny &  9 & 69 &  0\\\\\n",
       "\t257 & 2013-12-21 & 6193 & 2894 & 2967 & 3115 & 3078 & Sunny &  9 & 68 &  0\\\\\n",
       "\\end{tabular}\n"
      ],
      "text/markdown": [
       "\n",
       "A data.frame: 7 × 10\n",
       "\n",
       "| <!--/--> | date &lt;chr&gt; | all &lt;dbl&gt; | female &lt;dbl&gt; | male &lt;int&gt; | young &lt;int&gt; | adult &lt;dbl&gt; | weather &lt;chr&gt; | maxtemp &lt;int&gt; | RH &lt;int&gt; | maxwind &lt;int&gt; |\n",
       "|---|---|---|---|---|---|---|---|---|---|---|\n",
       "| 251 | 2013-12-15 | 4974 | 2299 | 2390 | 2680 | 2294 | Sunny | 11 | 83 | 35 |\n",
       "| 252 | 2013-12-16 | 3228 | 1442 | 1606 | 1625 | 1603 | Sunny | 10 | 87 | 32 |\n",
       "| 253 | 2013-12-17 | 3191 | 1427 | 1627 | 1688 | 1503 | Rain  | 11 | 90 | 24 |\n",
       "| 254 | 2013-12-18 | 4153 | 2035 | 1880 | 2208 | 1945 | Rain  | 10 | 93 |  0 |\n",
       "| 255 | 2013-12-19 | 4307 | 2043 | 2028 | 2282 | 2025 | Rain  | 12 | 86 | 74 |\n",
       "| 256 | 2013-12-20 | 4660 | 2207 | 2227 | 2441 | 2219 | Sunny |  9 | 69 |  0 |\n",
       "| 257 | 2013-12-21 | 6193 | 2894 | 2967 | 3115 | 3078 | Sunny |  9 | 68 |  0 |\n",
       "\n"
      ],
      "text/plain": [
       "    date       all  female male young adult weather maxtemp RH maxwind\n",
       "251 2013-12-15 4974 2299   2390 2680  2294  Sunny   11      83 35     \n",
       "252 2013-12-16 3228 1442   1606 1625  1603  Sunny   10      87 32     \n",
       "253 2013-12-17 3191 1427   1627 1688  1503  Rain    11      90 24     \n",
       "254 2013-12-18 4153 2035   1880 2208  1945  Rain    10      93  0     \n",
       "255 2013-12-19 4307 2043   2028 2282  2025  Rain    12      86 74     \n",
       "256 2013-12-20 4660 2207   2227 2441  2219  Sunny    9      69  0     \n",
       "257 2013-12-21 6193 2894   2967 3115  3078  Sunny    9      68  0     "
      ]
     },
     "metadata": {},
     "output_type": "display_data"
    }
   ],
   "source": [
    "tail(df,7)"
   ]
  },
  {
   "cell_type": "code",
   "execution_count": 5,
   "id": "f5068b7c",
   "metadata": {},
   "outputs": [],
   "source": [
    "days = weekdays(as.Date(df[251:257,1]))\n",
    "all = df[251:257,2]\n",
    "female = df[251:257,3]\n",
    "male = df[251:257,4]\n",
    "young = df[251:257,5]\n",
    "adult = df[251:257,6]"
   ]
  },
  {
   "cell_type": "code",
   "execution_count": 6,
   "id": "22aa5918",
   "metadata": {},
   "outputs": [],
   "source": [
    "getResults = function (pred, solution, days) {\n",
    "    s <- solution\n",
    "    mat = matrix(ncol = 8, nrow = 0)\n",
    "    results=data.frame(mat)\n",
    "    colnames(results) <- c(\"campanha\", days)\n",
    "\n",
    "    init = 1\n",
    "    end = 7\n",
    "    if (length(pred$all)>0) {\n",
    "        results[nrow(results) + 1,] = c(\"all\",s[init:end])\n",
    "        init = init + 7\n",
    "        end = end + 7\n",
    "    }\n",
    "    if (length(pred$female)>0) {\n",
    "        results[nrow(results) + 1,] = c(\"female\",s[init:end])\n",
    "        init = init + 7\n",
    "        end = end + 7\n",
    "    }\n",
    "    if (length(pred$male)>0) {\n",
    "        results[nrow(results) + 1,] = c(\"male\",s[init:end])\n",
    "        init = init + 7\n",
    "        end = end + 7\n",
    "    }\n",
    "    if (length(pred$young)>0) {\n",
    "        results[nrow(results) + 1,] = c(\"young\",s[init:end])\n",
    "        init = init + 7\n",
    "        end = end + 7\n",
    "    }\n",
    "    if (length(pred$adult)>0) {\n",
    "        results[nrow(results) + 1,] = c(\"adult\",s[init:end])\n",
    "        init = init + 7\n",
    "        end = end + 7\n",
    "    }\n",
    "    results\n",
    "}"
   ]
  },
  {
   "cell_type": "markdown",
   "id": "78a3f60f",
   "metadata": {},
   "source": [
    "## Objetivo 1"
   ]
  },
  {
   "cell_type": "code",
   "execution_count": 7,
   "id": "382eca4b",
   "metadata": {},
   "outputs": [
    {
     "name": "stdout",
     "output_type": "stream",
     "text": [
      "best solution: 0 0 0 0 0 0 1 1 1 0 1 1 1 1 1 0 1 0 0 1 1 1 1 1 1 0 0 1 0 1 1 1 1 1 1 evaluation function 1859.38 \n"
     ]
    }
   ],
   "source": [
    "# dimension\n",
    "pred=list(all=all, female=female, male=male, young=young, adult=adult)\n",
    "D = length(pred$all) + length(pred$female) + length(pred$male) + length(pred$young) + length(pred$adult)\n",
    "# solution=sample(c(0,1), replace=TRUE, size=D)\n",
    "\n",
    "# evaluation function:\n",
    "eval = function(x) profit(round(x))\n",
    "\n",
    "profit=function(x) \n",
    "{ \n",
    "    s = sales(pred)\n",
    "    cost = c(rep(350,length(pred$all)), rep(150,length(pred$female)), rep(100,length(pred$male)), rep(100,length(pred$young)), rep(120,length(pred$adult)))\n",
    "    p=sum(x*(s-cost))\n",
    "    return(p)\n",
    "}\n",
    "\n",
    "sales= function(pred)\n",
    "{\n",
    "    vec = c()\n",
    "    if (length(pred$all)>0) {\n",
    "        vec = c(vec, ifelse(pred$all<5000, pred$all*0.06, pred$all*0.09))\n",
    "    }\n",
    "    if (length(pred$female)>0) {\n",
    "        vec = c(vec, ifelse(pred$female<1800, pred$female*0.08, pred$female*0.13))\n",
    "    }\n",
    "    if (length(pred$male)>0) {\n",
    "        vec = c(vec, ifelse(pred$male<1800, pred$male*0.04, pred$male*0.07))\n",
    "    }\n",
    "    if (length(pred$young)>0) {\n",
    "        vec = c(vec, ifelse(pred$young<3000, pred$young*0.04, pred$young*0.05))\n",
    "    }\n",
    "    if (length(pred$adult)>0) {\n",
    "        vec = c(vec, ifelse(pred$adult<800, pred$adult*0.08, pred$adult*0.12))\n",
    "    }\n",
    "    return(vec)\n",
    "}\n",
    "\n",
    "# hill climbing search\n",
    "N=10000 # 100 searches\n",
    "REPORT=N/20 # report results\n",
    "lower=rep(0,D) # lower bounds\n",
    "upper=rep(1,D) #  upper bounds\n",
    "\n",
    "#set.seed(125)\n",
    "# slight change of a real par under a normal u(0,0.5) function:\n",
    "\n",
    "MC=mcsearch(fn=eval, lower=lower, upper=upper, N=N, type=\"max\")\n",
    "\n",
    "cat(\"best solution:\",round(MC$sol),\"evaluation function\",MC$eval,\"\\n\")"
   ]
  },
  {
   "cell_type": "code",
   "execution_count": 8,
   "id": "fd1b27af",
   "metadata": {},
   "outputs": [
    {
     "data": {
      "text/html": [
       "<table class=\"dataframe\">\n",
       "<caption>A data.frame: 5 × 8</caption>\n",
       "<thead>\n",
       "\t<tr><th></th><th scope=col>campanha</th><th scope=col>domingo</th><th scope=col>segunda-feira</th><th scope=col>terça-feira</th><th scope=col>quarta-feira</th><th scope=col>quinta-feira</th><th scope=col>sexta-feira</th><th scope=col>sábado</th></tr>\n",
       "\t<tr><th></th><th scope=col>&lt;chr&gt;</th><th scope=col>&lt;chr&gt;</th><th scope=col>&lt;chr&gt;</th><th scope=col>&lt;chr&gt;</th><th scope=col>&lt;chr&gt;</th><th scope=col>&lt;chr&gt;</th><th scope=col>&lt;chr&gt;</th><th scope=col>&lt;chr&gt;</th></tr>\n",
       "</thead>\n",
       "<tbody>\n",
       "\t<tr><th scope=row>1</th><td>all   </td><td>0</td><td>0</td><td>0</td><td>0</td><td>0</td><td>0</td><td>1</td></tr>\n",
       "\t<tr><th scope=row>2</th><td>female</td><td>1</td><td>1</td><td>0</td><td>1</td><td>1</td><td>1</td><td>1</td></tr>\n",
       "\t<tr><th scope=row>3</th><td>male  </td><td>1</td><td>0</td><td>1</td><td>0</td><td>0</td><td>1</td><td>1</td></tr>\n",
       "\t<tr><th scope=row>4</th><td>young </td><td>1</td><td>1</td><td>1</td><td>1</td><td>0</td><td>0</td><td>1</td></tr>\n",
       "\t<tr><th scope=row>5</th><td>adult </td><td>0</td><td>1</td><td>1</td><td>1</td><td>1</td><td>1</td><td>1</td></tr>\n",
       "</tbody>\n",
       "</table>\n"
      ],
      "text/latex": [
       "A data.frame: 5 × 8\n",
       "\\begin{tabular}{r|llllllll}\n",
       "  & campanha & domingo & segunda-feira & terça-feira & quarta-feira & quinta-feira & sexta-feira & sábado\\\\\n",
       "  & <chr> & <chr> & <chr> & <chr> & <chr> & <chr> & <chr> & <chr>\\\\\n",
       "\\hline\n",
       "\t1 & all    & 0 & 0 & 0 & 0 & 0 & 0 & 1\\\\\n",
       "\t2 & female & 1 & 1 & 0 & 1 & 1 & 1 & 1\\\\\n",
       "\t3 & male   & 1 & 0 & 1 & 0 & 0 & 1 & 1\\\\\n",
       "\t4 & young  & 1 & 1 & 1 & 1 & 0 & 0 & 1\\\\\n",
       "\t5 & adult  & 0 & 1 & 1 & 1 & 1 & 1 & 1\\\\\n",
       "\\end{tabular}\n"
      ],
      "text/markdown": [
       "\n",
       "A data.frame: 5 × 8\n",
       "\n",
       "| <!--/--> | campanha &lt;chr&gt; | domingo &lt;chr&gt; | segunda-feira &lt;chr&gt; | terça-feira &lt;chr&gt; | quarta-feira &lt;chr&gt; | quinta-feira &lt;chr&gt; | sexta-feira &lt;chr&gt; | sábado &lt;chr&gt; |\n",
       "|---|---|---|---|---|---|---|---|---|\n",
       "| 1 | all    | 0 | 0 | 0 | 0 | 0 | 0 | 1 |\n",
       "| 2 | female | 1 | 1 | 0 | 1 | 1 | 1 | 1 |\n",
       "| 3 | male   | 1 | 0 | 1 | 0 | 0 | 1 | 1 |\n",
       "| 4 | young  | 1 | 1 | 1 | 1 | 0 | 0 | 1 |\n",
       "| 5 | adult  | 0 | 1 | 1 | 1 | 1 | 1 | 1 |\n",
       "\n"
      ],
      "text/plain": [
       "  campanha domingo segunda-feira terça-feira quarta-feira quinta-feira\n",
       "1 all      0       0             0           0            0           \n",
       "2 female   1       1             0           1            1           \n",
       "3 male     1       0             1           0            0           \n",
       "4 young    1       1             1           1            0           \n",
       "5 adult    0       1             1           1            1           \n",
       "  sexta-feira sábado\n",
       "1 0           1     \n",
       "2 1           1     \n",
       "3 1           1     \n",
       "4 0           1     \n",
       "5 1           1     "
      ]
     },
     "metadata": {},
     "output_type": "display_data"
    }
   ],
   "source": [
    "getResults(pred, round(MC$sol), days)"
   ]
  },
  {
   "cell_type": "code",
   "execution_count": 9,
   "id": "7fe77a74",
   "metadata": {},
   "outputs": [],
   "source": [
    "?mcsearch"
   ]
  },
  {
   "cell_type": "markdown",
   "id": "b7825f1a",
   "metadata": {},
   "source": [
    "## Objetivo 2"
   ]
  },
  {
   "cell_type": "code",
   "execution_count": 10,
   "id": "a4e029a2",
   "metadata": {},
   "outputs": [
    {
     "name": "stdout",
     "output_type": "stream",
     "text": [
      "best solution: 0 1 0 0 0 0 1 0 0 0 0 1 1 0 0 0 0 1 1 0 0 0 0 0 0 0 0 0 1 0 0 1 0 1 1 evaluation function 1041.43 \n"
     ]
    }
   ],
   "source": [
    "# dimension\n",
    "pred=list(all=all, female=female, male=male, young=young, adult=adult)\n",
    "D = length(pred$all) + length(pred$female) + length(pred$male) + length(pred$young) + length(pred$adult)\n",
    "#solution=sample(c(0,1), replace=TRUE, size=D)\n",
    "solution=c(rep(0,35))\n",
    "\n",
    "# evaluation function:\n",
    "eval=function(x) profit(round(x))\n",
    "\n",
    "profit=function(x) \n",
    "{ \n",
    "    s = sales(pred)\n",
    "    cost = c(rep(350,length(pred$all)), rep(150,length(pred$female)), rep(100,length(pred$male)), rep(100,length(pred$young)), rep(120,length(pred$adult)))\n",
    "    p=sum(x*(s-cost))\n",
    "    v=sum(x==1)\n",
    "    if (v>10) {\n",
    "        p=-999\n",
    "    }\n",
    "    return(p)\n",
    "}\n",
    "\n",
    "sales= function(pred)\n",
    "{\n",
    "    vec = c()\n",
    "    if (length(pred$all)>0) {\n",
    "        vec = c(vec, ifelse(pred$all<5000, pred$all*0.06, pred$all*0.09))\n",
    "    }\n",
    "    if (length(pred$female)>0) {\n",
    "        vec = c(vec, ifelse(pred$female<1800, pred$female*0.08, pred$female*0.13))\n",
    "    }\n",
    "    if (length(pred$male)>0) {\n",
    "        vec = c(vec, ifelse(pred$male<1800, pred$male*0.04, pred$male*0.07))\n",
    "    }\n",
    "    if (length(pred$young)>0) {\n",
    "        vec = c(vec, ifelse(pred$young<3000, pred$young*0.04, pred$young*0.05))\n",
    "    }\n",
    "    if (length(pred$adult)>0) {\n",
    "        vec = c(vec, ifelse(pred$adult<800, pred$adult*0.08, pred$adult*0.12))\n",
    "    }\n",
    "    return(vec)\n",
    "}\n",
    "\n",
    "# hill climbing search\n",
    "N=20000 # 100 searches\n",
    "REPORT=N/20 # report results\n",
    "lower=rep(0,D) # lower bounds\n",
    "upper=rep(1,D) #  upper bounds\n",
    "\n",
    "#set.seed(125)\n",
    "# slight change of a real par under a normal u(0,0.5) function:\n",
    "MC=mcsearch(fn=eval, lower=lower, upper=upper, N=N, type=\"max\")\n",
    "\n",
    "cat(\"best solution:\",round(MC$sol),\"evaluation function\",MC$eval,\"\\n\")"
   ]
  },
  {
   "cell_type": "code",
   "execution_count": 11,
   "id": "48034bb8",
   "metadata": {},
   "outputs": [
    {
     "data": {
      "text/html": [
       "<table class=\"dataframe\">\n",
       "<caption>A data.frame: 5 × 8</caption>\n",
       "<thead>\n",
       "\t<tr><th></th><th scope=col>campanha</th><th scope=col>domingo</th><th scope=col>segunda-feira</th><th scope=col>terça-feira</th><th scope=col>quarta-feira</th><th scope=col>quinta-feira</th><th scope=col>sexta-feira</th><th scope=col>sábado</th></tr>\n",
       "\t<tr><th></th><th scope=col>&lt;chr&gt;</th><th scope=col>&lt;chr&gt;</th><th scope=col>&lt;chr&gt;</th><th scope=col>&lt;chr&gt;</th><th scope=col>&lt;chr&gt;</th><th scope=col>&lt;chr&gt;</th><th scope=col>&lt;chr&gt;</th><th scope=col>&lt;chr&gt;</th></tr>\n",
       "</thead>\n",
       "<tbody>\n",
       "\t<tr><th scope=row>1</th><td>all   </td><td>0</td><td>1</td><td>0</td><td>0</td><td>0</td><td>0</td><td>1</td></tr>\n",
       "\t<tr><th scope=row>2</th><td>female</td><td>0</td><td>0</td><td>0</td><td>0</td><td>1</td><td>1</td><td>0</td></tr>\n",
       "\t<tr><th scope=row>3</th><td>male  </td><td>0</td><td>0</td><td>0</td><td>1</td><td>1</td><td>0</td><td>0</td></tr>\n",
       "\t<tr><th scope=row>4</th><td>young </td><td>0</td><td>0</td><td>0</td><td>0</td><td>0</td><td>0</td><td>0</td></tr>\n",
       "\t<tr><th scope=row>5</th><td>adult </td><td>1</td><td>0</td><td>0</td><td>1</td><td>0</td><td>1</td><td>1</td></tr>\n",
       "</tbody>\n",
       "</table>\n"
      ],
      "text/latex": [
       "A data.frame: 5 × 8\n",
       "\\begin{tabular}{r|llllllll}\n",
       "  & campanha & domingo & segunda-feira & terça-feira & quarta-feira & quinta-feira & sexta-feira & sábado\\\\\n",
       "  & <chr> & <chr> & <chr> & <chr> & <chr> & <chr> & <chr> & <chr>\\\\\n",
       "\\hline\n",
       "\t1 & all    & 0 & 1 & 0 & 0 & 0 & 0 & 1\\\\\n",
       "\t2 & female & 0 & 0 & 0 & 0 & 1 & 1 & 0\\\\\n",
       "\t3 & male   & 0 & 0 & 0 & 1 & 1 & 0 & 0\\\\\n",
       "\t4 & young  & 0 & 0 & 0 & 0 & 0 & 0 & 0\\\\\n",
       "\t5 & adult  & 1 & 0 & 0 & 1 & 0 & 1 & 1\\\\\n",
       "\\end{tabular}\n"
      ],
      "text/markdown": [
       "\n",
       "A data.frame: 5 × 8\n",
       "\n",
       "| <!--/--> | campanha &lt;chr&gt; | domingo &lt;chr&gt; | segunda-feira &lt;chr&gt; | terça-feira &lt;chr&gt; | quarta-feira &lt;chr&gt; | quinta-feira &lt;chr&gt; | sexta-feira &lt;chr&gt; | sábado &lt;chr&gt; |\n",
       "|---|---|---|---|---|---|---|---|---|\n",
       "| 1 | all    | 0 | 1 | 0 | 0 | 0 | 0 | 1 |\n",
       "| 2 | female | 0 | 0 | 0 | 0 | 1 | 1 | 0 |\n",
       "| 3 | male   | 0 | 0 | 0 | 1 | 1 | 0 | 0 |\n",
       "| 4 | young  | 0 | 0 | 0 | 0 | 0 | 0 | 0 |\n",
       "| 5 | adult  | 1 | 0 | 0 | 1 | 0 | 1 | 1 |\n",
       "\n"
      ],
      "text/plain": [
       "  campanha domingo segunda-feira terça-feira quarta-feira quinta-feira\n",
       "1 all      0       1             0           0            0           \n",
       "2 female   0       0             0           0            1           \n",
       "3 male     0       0             0           1            1           \n",
       "4 young    0       0             0           0            0           \n",
       "5 adult    1       0             0           1            0           \n",
       "  sexta-feira sábado\n",
       "1 0           1     \n",
       "2 1           0     \n",
       "3 0           0     \n",
       "4 0           0     \n",
       "5 1           1     "
      ]
     },
     "metadata": {},
     "output_type": "display_data"
    }
   ],
   "source": [
    "getResults(pred, round(MC$sol), days)"
   ]
  },
  {
   "cell_type": "markdown",
   "id": "89d6e335",
   "metadata": {},
   "source": [
    "## Objetivo 3"
   ]
  },
  {
   "cell_type": "code",
   "execution_count": 12,
   "id": "9d911a92",
   "metadata": {},
   "outputs": [
    {
     "name": "stdout",
     "output_type": "stream",
     "text": [
      "best solution: 0 0 0 0 0 0 1 1 0 1 0 1 0 0 1 0 0 0 0 0 1 1 0 0 0 1 0 0 1 1 0 1 1 1 1 evaluation function 104.9386 \n"
     ]
    }
   ],
   "source": [
    "# dimension\n",
    "pred=list(all=all, female=female, male=male, young=young, adult=adult)\n",
    "D = length(pred$all) + length(pred$female) + length(pred$male) + length(pred$young) + length(pred$adult)\n",
    "solution=sample(c(0,1), replace=TRUE, size=D)\n",
    "\n",
    "# evaluation function:\n",
    "eval=function(x) profit(round(x))\n",
    "\n",
    "profit=function(x) \n",
    "{ \n",
    "    s = sales(pred)\n",
    "    cost = c(rep(350,length(pred$all)), rep(150,length(pred$female)), rep(100,length(pred$male)), rep(100,length(pred$young)), rep(120,length(pred$adult)))\n",
    "    p=sum(x*(s-cost))\n",
    "    v=sum(x==1)\n",
    "    p2=p/v\n",
    "    # nsja2\n",
    "    return(p2)\n",
    "}\n",
    "\n",
    "sales= function(pred)\n",
    "{\n",
    "    vec = c()\n",
    "    if (length(pred$all)>0) {\n",
    "        vec = c(vec, ifelse(pred$all<5000, pred$all*0.06, pred$all*0.09))\n",
    "    }\n",
    "    if (length(pred$female)>0) {\n",
    "        vec = c(vec, ifelse(pred$female<1800, pred$female*0.08, pred$female*0.13))\n",
    "    }\n",
    "    if (length(pred$male)>0) {\n",
    "        vec = c(vec, ifelse(pred$male<1800, pred$male*0.04, pred$male*0.07))\n",
    "    }\n",
    "    if (length(pred$young)>0) {\n",
    "        vec = c(vec, ifelse(pred$young<3000, pred$young*0.04, pred$young*0.05))\n",
    "    }\n",
    "    if (length(pred$adult)>0) {\n",
    "        vec = c(vec, ifelse(pred$adult<800, pred$adult*0.08, pred$adult*0.12))\n",
    "    }\n",
    "    return(vec)\n",
    "}\n",
    "\n",
    "# hill climbing search\n",
    "N=2000 # 100 searches\n",
    "REPORT=N/20 # report results\n",
    "lower=rep(0,D) # lower bounds\n",
    "upper=rep(1,D) #  upper bounds\n",
    "\n",
    "#set.seed(125)\n",
    "# slight change of a real par under a normal u(0,0.5) function:\n",
    "MC=mcsearch(fn=eval, lower=lower, upper=upper, N=N, type=\"max\")\n",
    "\n",
    "cat(\"best solution:\",round(MC$sol),\"evaluation function\",MC$eval,\"\\n\")"
   ]
  },
  {
   "cell_type": "code",
   "execution_count": 13,
   "id": "8043cd47",
   "metadata": {},
   "outputs": [
    {
     "data": {
      "text/html": [
       "<table class=\"dataframe\">\n",
       "<caption>A data.frame: 5 × 8</caption>\n",
       "<thead>\n",
       "\t<tr><th></th><th scope=col>campanha</th><th scope=col>domingo</th><th scope=col>segunda-feira</th><th scope=col>terça-feira</th><th scope=col>quarta-feira</th><th scope=col>quinta-feira</th><th scope=col>sexta-feira</th><th scope=col>sábado</th></tr>\n",
       "\t<tr><th></th><th scope=col>&lt;chr&gt;</th><th scope=col>&lt;chr&gt;</th><th scope=col>&lt;chr&gt;</th><th scope=col>&lt;chr&gt;</th><th scope=col>&lt;chr&gt;</th><th scope=col>&lt;chr&gt;</th><th scope=col>&lt;chr&gt;</th><th scope=col>&lt;chr&gt;</th></tr>\n",
       "</thead>\n",
       "<tbody>\n",
       "\t<tr><th scope=row>1</th><td>all   </td><td>0</td><td>0</td><td>0</td><td>0</td><td>0</td><td>0</td><td>1</td></tr>\n",
       "\t<tr><th scope=row>2</th><td>female</td><td>1</td><td>0</td><td>1</td><td>0</td><td>1</td><td>0</td><td>0</td></tr>\n",
       "\t<tr><th scope=row>3</th><td>male  </td><td>1</td><td>0</td><td>0</td><td>0</td><td>0</td><td>0</td><td>1</td></tr>\n",
       "\t<tr><th scope=row>4</th><td>young </td><td>1</td><td>0</td><td>0</td><td>0</td><td>1</td><td>0</td><td>0</td></tr>\n",
       "\t<tr><th scope=row>5</th><td>adult </td><td>1</td><td>1</td><td>0</td><td>1</td><td>1</td><td>1</td><td>1</td></tr>\n",
       "</tbody>\n",
       "</table>\n"
      ],
      "text/latex": [
       "A data.frame: 5 × 8\n",
       "\\begin{tabular}{r|llllllll}\n",
       "  & campanha & domingo & segunda-feira & terça-feira & quarta-feira & quinta-feira & sexta-feira & sábado\\\\\n",
       "  & <chr> & <chr> & <chr> & <chr> & <chr> & <chr> & <chr> & <chr>\\\\\n",
       "\\hline\n",
       "\t1 & all    & 0 & 0 & 0 & 0 & 0 & 0 & 1\\\\\n",
       "\t2 & female & 1 & 0 & 1 & 0 & 1 & 0 & 0\\\\\n",
       "\t3 & male   & 1 & 0 & 0 & 0 & 0 & 0 & 1\\\\\n",
       "\t4 & young  & 1 & 0 & 0 & 0 & 1 & 0 & 0\\\\\n",
       "\t5 & adult  & 1 & 1 & 0 & 1 & 1 & 1 & 1\\\\\n",
       "\\end{tabular}\n"
      ],
      "text/markdown": [
       "\n",
       "A data.frame: 5 × 8\n",
       "\n",
       "| <!--/--> | campanha &lt;chr&gt; | domingo &lt;chr&gt; | segunda-feira &lt;chr&gt; | terça-feira &lt;chr&gt; | quarta-feira &lt;chr&gt; | quinta-feira &lt;chr&gt; | sexta-feira &lt;chr&gt; | sábado &lt;chr&gt; |\n",
       "|---|---|---|---|---|---|---|---|---|\n",
       "| 1 | all    | 0 | 0 | 0 | 0 | 0 | 0 | 1 |\n",
       "| 2 | female | 1 | 0 | 1 | 0 | 1 | 0 | 0 |\n",
       "| 3 | male   | 1 | 0 | 0 | 0 | 0 | 0 | 1 |\n",
       "| 4 | young  | 1 | 0 | 0 | 0 | 1 | 0 | 0 |\n",
       "| 5 | adult  | 1 | 1 | 0 | 1 | 1 | 1 | 1 |\n",
       "\n"
      ],
      "text/plain": [
       "  campanha domingo segunda-feira terça-feira quarta-feira quinta-feira\n",
       "1 all      0       0             0           0            0           \n",
       "2 female   1       0             1           0            1           \n",
       "3 male     1       0             0           0            0           \n",
       "4 young    1       0             0           0            1           \n",
       "5 adult    1       1             0           1            1           \n",
       "  sexta-feira sábado\n",
       "1 0           1     \n",
       "2 0           0     \n",
       "3 0           1     \n",
       "4 0           0     \n",
       "5 1           1     "
      ]
     },
     "metadata": {},
     "output_type": "display_data"
    }
   ],
   "source": [
    "getResults(pred, round(MC$sol), days)"
   ]
  },
  {
   "cell_type": "code",
   "execution_count": null,
   "id": "0c953790",
   "metadata": {},
   "outputs": [],
   "source": []
  }
 ],
 "metadata": {
  "kernelspec": {
   "display_name": "R",
   "language": "R",
   "name": "ir"
  },
  "language_info": {
   "codemirror_mode": "r",
   "file_extension": ".r",
   "mimetype": "text/x-r-source",
   "name": "R",
   "pygments_lexer": "r",
   "version": "4.1.2"
  }
 },
 "nbformat": 4,
 "nbformat_minor": 5
}
