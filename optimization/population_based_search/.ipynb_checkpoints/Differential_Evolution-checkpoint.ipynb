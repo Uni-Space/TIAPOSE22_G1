{
 "cells": [
  {
   "cell_type": "code",
   "execution_count": 13,
   "id": "8d875969",
   "metadata": {},
   "outputs": [],
   "source": [
    "library(DEoptim)\n",
    "set.seed(125)"
   ]
  },
  {
   "cell_type": "code",
   "execution_count": 2,
   "id": "98865d92",
   "metadata": {},
   "outputs": [],
   "source": [
    "df = read.csv(\"../../data/store.csv\", header = TRUE, sep=\";\")\n",
    "days = weekdays(as.Date(df[251:257,1]))\n",
    "all = df[251:257,2]\n",
    "female = df[251:257,3]\n",
    "male = df[251:257,4]\n",
    "young = df[251:257,5]\n",
    "adult = df[251:257,6]"
   ]
  },
  {
   "cell_type": "code",
   "execution_count": 3,
   "id": "55918f06",
   "metadata": {},
   "outputs": [
    {
     "data": {
      "text/html": [
       "<table class=\"dataframe\">\n",
       "<caption>A data.frame: 7 × 10</caption>\n",
       "<thead>\n",
       "\t<tr><th></th><th scope=col>date</th><th scope=col>all</th><th scope=col>female</th><th scope=col>male</th><th scope=col>young</th><th scope=col>adult</th><th scope=col>weather</th><th scope=col>maxtemp</th><th scope=col>RH</th><th scope=col>maxwind</th></tr>\n",
       "\t<tr><th></th><th scope=col>&lt;chr&gt;</th><th scope=col>&lt;dbl&gt;</th><th scope=col>&lt;dbl&gt;</th><th scope=col>&lt;int&gt;</th><th scope=col>&lt;int&gt;</th><th scope=col>&lt;dbl&gt;</th><th scope=col>&lt;chr&gt;</th><th scope=col>&lt;int&gt;</th><th scope=col>&lt;int&gt;</th><th scope=col>&lt;int&gt;</th></tr>\n",
       "</thead>\n",
       "<tbody>\n",
       "\t<tr><th scope=row>251</th><td>2013-12-15</td><td>4974</td><td>2299</td><td>2390</td><td>2680</td><td>2294</td><td>Sunny</td><td>11</td><td>83</td><td>35</td></tr>\n",
       "\t<tr><th scope=row>252</th><td>2013-12-16</td><td>3228</td><td>1442</td><td>1606</td><td>1625</td><td>1603</td><td>Sunny</td><td>10</td><td>87</td><td>32</td></tr>\n",
       "\t<tr><th scope=row>253</th><td>2013-12-17</td><td>3191</td><td>1427</td><td>1627</td><td>1688</td><td>1503</td><td>Rain </td><td>11</td><td>90</td><td>24</td></tr>\n",
       "\t<tr><th scope=row>254</th><td>2013-12-18</td><td>4153</td><td>2035</td><td>1880</td><td>2208</td><td>1945</td><td>Rain </td><td>10</td><td>93</td><td> 0</td></tr>\n",
       "\t<tr><th scope=row>255</th><td>2013-12-19</td><td>4307</td><td>2043</td><td>2028</td><td>2282</td><td>2025</td><td>Rain </td><td>12</td><td>86</td><td>74</td></tr>\n",
       "\t<tr><th scope=row>256</th><td>2013-12-20</td><td>4660</td><td>2207</td><td>2227</td><td>2441</td><td>2219</td><td>Sunny</td><td> 9</td><td>69</td><td> 0</td></tr>\n",
       "\t<tr><th scope=row>257</th><td>2013-12-21</td><td>6193</td><td>2894</td><td>2967</td><td>3115</td><td>3078</td><td>Sunny</td><td> 9</td><td>68</td><td> 0</td></tr>\n",
       "</tbody>\n",
       "</table>\n"
      ],
      "text/latex": [
       "A data.frame: 7 × 10\n",
       "\\begin{tabular}{r|llllllllll}\n",
       "  & date & all & female & male & young & adult & weather & maxtemp & RH & maxwind\\\\\n",
       "  & <chr> & <dbl> & <dbl> & <int> & <int> & <dbl> & <chr> & <int> & <int> & <int>\\\\\n",
       "\\hline\n",
       "\t251 & 2013-12-15 & 4974 & 2299 & 2390 & 2680 & 2294 & Sunny & 11 & 83 & 35\\\\\n",
       "\t252 & 2013-12-16 & 3228 & 1442 & 1606 & 1625 & 1603 & Sunny & 10 & 87 & 32\\\\\n",
       "\t253 & 2013-12-17 & 3191 & 1427 & 1627 & 1688 & 1503 & Rain  & 11 & 90 & 24\\\\\n",
       "\t254 & 2013-12-18 & 4153 & 2035 & 1880 & 2208 & 1945 & Rain  & 10 & 93 &  0\\\\\n",
       "\t255 & 2013-12-19 & 4307 & 2043 & 2028 & 2282 & 2025 & Rain  & 12 & 86 & 74\\\\\n",
       "\t256 & 2013-12-20 & 4660 & 2207 & 2227 & 2441 & 2219 & Sunny &  9 & 69 &  0\\\\\n",
       "\t257 & 2013-12-21 & 6193 & 2894 & 2967 & 3115 & 3078 & Sunny &  9 & 68 &  0\\\\\n",
       "\\end{tabular}\n"
      ],
      "text/markdown": [
       "\n",
       "A data.frame: 7 × 10\n",
       "\n",
       "| <!--/--> | date &lt;chr&gt; | all &lt;dbl&gt; | female &lt;dbl&gt; | male &lt;int&gt; | young &lt;int&gt; | adult &lt;dbl&gt; | weather &lt;chr&gt; | maxtemp &lt;int&gt; | RH &lt;int&gt; | maxwind &lt;int&gt; |\n",
       "|---|---|---|---|---|---|---|---|---|---|---|\n",
       "| 251 | 2013-12-15 | 4974 | 2299 | 2390 | 2680 | 2294 | Sunny | 11 | 83 | 35 |\n",
       "| 252 | 2013-12-16 | 3228 | 1442 | 1606 | 1625 | 1603 | Sunny | 10 | 87 | 32 |\n",
       "| 253 | 2013-12-17 | 3191 | 1427 | 1627 | 1688 | 1503 | Rain  | 11 | 90 | 24 |\n",
       "| 254 | 2013-12-18 | 4153 | 2035 | 1880 | 2208 | 1945 | Rain  | 10 | 93 |  0 |\n",
       "| 255 | 2013-12-19 | 4307 | 2043 | 2028 | 2282 | 2025 | Rain  | 12 | 86 | 74 |\n",
       "| 256 | 2013-12-20 | 4660 | 2207 | 2227 | 2441 | 2219 | Sunny |  9 | 69 |  0 |\n",
       "| 257 | 2013-12-21 | 6193 | 2894 | 2967 | 3115 | 3078 | Sunny |  9 | 68 |  0 |\n",
       "\n"
      ],
      "text/plain": [
       "    date       all  female male young adult weather maxtemp RH maxwind\n",
       "251 2013-12-15 4974 2299   2390 2680  2294  Sunny   11      83 35     \n",
       "252 2013-12-16 3228 1442   1606 1625  1603  Sunny   10      87 32     \n",
       "253 2013-12-17 3191 1427   1627 1688  1503  Rain    11      90 24     \n",
       "254 2013-12-18 4153 2035   1880 2208  1945  Rain    10      93  0     \n",
       "255 2013-12-19 4307 2043   2028 2282  2025  Rain    12      86 74     \n",
       "256 2013-12-20 4660 2207   2227 2441  2219  Sunny    9      69  0     \n",
       "257 2013-12-21 6193 2894   2967 3115  3078  Sunny    9      68  0     "
      ]
     },
     "metadata": {},
     "output_type": "display_data"
    }
   ],
   "source": [
    "tail(df,7)"
   ]
  },
  {
   "cell_type": "code",
   "execution_count": 4,
   "id": "f5068b7c",
   "metadata": {},
   "outputs": [],
   "source": [
    "pred=list(all=all, female=female, male=male, young=young, adult=adult) # pred \n",
    "D = length(pred$all) + length(pred$female) + length(pred$male) + length(pred$young) + length(pred$adult) # size of the solution"
   ]
  },
  {
   "cell_type": "code",
   "execution_count": 5,
   "id": "22aa5918",
   "metadata": {},
   "outputs": [],
   "source": [
    "# Evaluation Functions and Report Function: ------------------------------\n",
    "source(\"../eval_functions.R\", encoding=\"UTF-8\")"
   ]
  },
  {
   "cell_type": "code",
   "execution_count": 6,
   "id": "bce6baa5",
   "metadata": {},
   "outputs": [],
   "source": [
    "# Differential Evolution Optimization Initial Settings: -------------------------\n",
    "lower=rep(0,D) # lower bounds\n",
    "upper=rep(1,D) #  upper bounds\n",
    "popSize=100 # population size\n",
    "iter=150 # maximum number of iterations\n",
    "report=30\n",
    "\n",
    "showbest=function(method,par,eval){ \n",
    "  cat(\"method:\",method,\"\\n > par:\",round(par),\"\\n > eval:\",abs(eval),\"\\n\") }"
   ]
  },
  {
   "cell_type": "markdown",
   "id": "3c18ad09",
   "metadata": {},
   "source": [
    "## Objetivo 1"
   ]
  },
  {
   "cell_type": "code",
   "execution_count": 7,
   "id": "d02bed0d",
   "metadata": {},
   "outputs": [
    {
     "name": "stdout",
     "output_type": "stream",
     "text": [
      "Iteration: 30 bestvalit: -2131.900000 bestmemit:    0.066252    0.341305    0.265641    0.490119    0.442246    0.823856    0.633651    0.640977    0.654758    0.445307    0.984358    0.556734    0.580347    0.681326    0.699515    0.038826    0.074689    0.677364    0.895628    0.511228    0.637064    0.621317    0.267097    0.192055    0.445584    0.313726    0.336403    0.811241    0.706791    0.513967    0.603857    0.895017    0.816370    0.835893    0.786079\n",
      "Iteration: 60 bestvalit: -2236.940000 bestmemit:    0.446773    0.139759    0.253818    0.127620    0.338084    0.039928    0.850549    0.577566    0.468066    0.343398    0.735508    0.850814    0.625379    0.763558    0.629370    0.061861    0.424988    0.599631    0.762419    0.803108    0.510964    0.772751    0.499629    0.279031    0.358785    0.230715    0.330652    0.720606    0.621855    0.525379    0.968437    0.691571    0.732748    0.664710    0.522346\n",
      "Iteration: 90 bestvalit: -2236.940000 bestmemit:    0.192154    0.221582    0.399321    0.448597    0.397271    0.100259    0.565326    0.685741    0.389857    0.263484    0.709306    0.567670    0.752647    0.504731    0.994677    0.335169    0.262736    0.808376    0.683113    0.726640    0.683470    0.528826    0.436888    0.197803    0.390694    0.425338    0.228638    0.796667    0.572079    0.758675    0.610499    0.752622    0.613618    0.773133    0.818098\n",
      "Iteration: 120 bestvalit: -2236.940000 bestmemit:    0.087535    0.135399    0.192069    0.181192    0.255094    0.115017    0.810243    0.902859    0.371688    0.167770    0.720451    0.558676    0.851421    0.534939    0.581460    0.431395    0.081320    0.743398    0.963771    0.547602    0.815612    0.600484    0.196239    0.267382    0.226405    0.477529    0.005143    0.831468    0.906366    0.993800    0.798683    0.519605    0.759532    0.876995    0.744128\n",
      "Iteration: 150 bestvalit: -2236.940000 bestmemit:    0.107310    0.448012    0.021302    0.067059    0.172963    0.144907    0.783719    0.668825    0.228008    0.278211    0.504160    0.781901    0.811262    0.887920    0.837372    0.357136    0.289487    0.712062    0.990835    0.772754    0.693797    0.593146    0.056303    0.083614    0.337077    0.355579    0.335313    0.657867    0.838356    0.698150    0.992597    0.704359    0.731229    0.695931    0.673286\n",
      "method: DEoptim \n",
      " > par: 0 0 0 0 0 0 1 1 0 0 1 1 1 1 1 0 0 1 1 1 1 1 0 0 0 0 0 1 1 1 1 1 1 1 1 \n",
      " > eval: 2236.94 \n"
     ]
    }
   ],
   "source": [
    "# Differential Evolution Optimization Objective 1: -------------------------   \n",
    "evalN = function(x) -profitObj1(x)\n",
    "\n",
    "#CR -> crossover probability \n",
    "#F -> differential weighting factor \n",
    "#trace -> int as report results\n",
    "C=DEoptim.control(strategy=2,NP=popSize,itermax=iter,CR=0.9,F=0.8,trace=report,storepopfrom=1,storepopfreq=1)\n",
    "    \n",
    "# Differential Evolution Optimization: -------------------------\n",
    "de=suppressWarnings(DEoptim(fn=evalN,lower=lower,upper=upper,control=C))\n",
    "    \n",
    "# show result:\n",
    "showbest(\"DEoptim\",de$optim$bestmem,de$optim$bestval)\n",
    "results = round(de$optim$bestmem)"
   ]
  },
  {
   "cell_type": "code",
   "execution_count": 8,
   "id": "47d77567",
   "metadata": {},
   "outputs": [
    {
     "data": {
      "text/html": [
       "<table class=\"dataframe\">\n",
       "<caption>A data.frame: 5 × 8</caption>\n",
       "<thead>\n",
       "\t<tr><th></th><th scope=col>campaign</th><th scope=col>domingo</th><th scope=col>segunda-feira</th><th scope=col>terça-feira</th><th scope=col>quarta-feira</th><th scope=col>quinta-feira</th><th scope=col>sexta-feira</th><th scope=col>sábado</th></tr>\n",
       "\t<tr><th></th><th scope=col>&lt;chr&gt;</th><th scope=col>&lt;chr&gt;</th><th scope=col>&lt;chr&gt;</th><th scope=col>&lt;chr&gt;</th><th scope=col>&lt;chr&gt;</th><th scope=col>&lt;chr&gt;</th><th scope=col>&lt;chr&gt;</th><th scope=col>&lt;chr&gt;</th></tr>\n",
       "</thead>\n",
       "<tbody>\n",
       "\t<tr><th scope=row>1</th><td>all   </td><td>N/A       </td><td>N/A      </td><td>N/A      </td><td>N/A       </td><td>N/A       </td><td>N/A       </td><td>+ 207.37 €</td></tr>\n",
       "\t<tr><th scope=row>2</th><td>female</td><td>+ 148.87 €</td><td>N/A      </td><td>N/A      </td><td>+ 114.55 €</td><td>+ 115.59 €</td><td>+ 136.91 €</td><td>+ 226.22 €</td></tr>\n",
       "\t<tr><th scope=row>3</th><td>male  </td><td>+ 67.3 €  </td><td>N/A      </td><td>N/A      </td><td>+ 31.6 €  </td><td>+ 41.96 € </td><td>+ 55.89 € </td><td>+ 107.69 €</td></tr>\n",
       "\t<tr><th scope=row>4</th><td>young </td><td>+ 7.2 €   </td><td>N/A      </td><td>N/A      </td><td>N/A       </td><td>N/A       </td><td>N/A       </td><td>+ 55.75 € </td></tr>\n",
       "\t<tr><th scope=row>5</th><td>adult </td><td>+ 155.28 €</td><td>+ 72.36 €</td><td>+ 60.36 €</td><td>+ 113.4 € </td><td>+ 123 €   </td><td>+ 146.28 €</td><td>+ 249.36 €</td></tr>\n",
       "</tbody>\n",
       "</table>\n"
      ],
      "text/latex": [
       "A data.frame: 5 × 8\n",
       "\\begin{tabular}{r|llllllll}\n",
       "  & campaign & domingo & segunda-feira & terça-feira & quarta-feira & quinta-feira & sexta-feira & sábado\\\\\n",
       "  & <chr> & <chr> & <chr> & <chr> & <chr> & <chr> & <chr> & <chr>\\\\\n",
       "\\hline\n",
       "\t1 & all    & N/A        & N/A       & N/A       & N/A        & N/A        & N/A        & + 207.37 €\\\\\n",
       "\t2 & female & + 148.87 € & N/A       & N/A       & + 114.55 € & + 115.59 € & + 136.91 € & + 226.22 €\\\\\n",
       "\t3 & male   & + 67.3 €   & N/A       & N/A       & + 31.6 €   & + 41.96 €  & + 55.89 €  & + 107.69 €\\\\\n",
       "\t4 & young  & + 7.2 €    & N/A       & N/A       & N/A        & N/A        & N/A        & + 55.75 € \\\\\n",
       "\t5 & adult  & + 155.28 € & + 72.36 € & + 60.36 € & + 113.4 €  & + 123 €    & + 146.28 € & + 249.36 €\\\\\n",
       "\\end{tabular}\n"
      ],
      "text/markdown": [
       "\n",
       "A data.frame: 5 × 8\n",
       "\n",
       "| <!--/--> | campaign &lt;chr&gt; | domingo &lt;chr&gt; | segunda-feira &lt;chr&gt; | terça-feira &lt;chr&gt; | quarta-feira &lt;chr&gt; | quinta-feira &lt;chr&gt; | sexta-feira &lt;chr&gt; | sábado &lt;chr&gt; |\n",
       "|---|---|---|---|---|---|---|---|---|\n",
       "| 1 | all    | N/A        | N/A       | N/A       | N/A        | N/A        | N/A        | + 207.37 € |\n",
       "| 2 | female | + 148.87 € | N/A       | N/A       | + 114.55 € | + 115.59 € | + 136.91 € | + 226.22 € |\n",
       "| 3 | male   | + 67.3 €   | N/A       | N/A       | + 31.6 €   | + 41.96 €  | + 55.89 €  | + 107.69 € |\n",
       "| 4 | young  | + 7.2 €    | N/A       | N/A       | N/A        | N/A        | N/A        | + 55.75 €  |\n",
       "| 5 | adult  | + 155.28 € | + 72.36 € | + 60.36 € | + 113.4 €  | + 123 €    | + 146.28 € | + 249.36 € |\n",
       "\n"
      ],
      "text/plain": [
       "  campaign domingo    segunda-feira terça-feira quarta-feira quinta-feira\n",
       "1 all      N/A        N/A           N/A         N/A          N/A         \n",
       "2 female   + 148.87 \\200 N/A           N/A         + 114.55 \\200   + 115.59 \\200  \n",
       "3 male     + 67.3 \\200   N/A           N/A         + 31.6 \\200     + 41.96 \\200   \n",
       "4 young    + 7.2 \\200    N/A           N/A         N/A          N/A         \n",
       "5 adult    + 155.28 \\200 + 72.36 \\200     + 60.36 \\200   + 113.4 \\200    + 123 \\200     \n",
       "  sexta-feira sábado    \n",
       "1 N/A         + 207.37 \\200\n",
       "2 + 136.91 \\200  + 226.22 \\200\n",
       "3 + 55.89 \\200   + 107.69 \\200\n",
       "4 N/A         + 55.75 \\200 \n",
       "5 + 146.28 \\200  + 249.36 \\200"
      ]
     },
     "metadata": {},
     "output_type": "display_data"
    },
    {
     "name": "stdout",
     "output_type": "stream",
     "text": [
      "Total Sales: 4876.94 €\n",
      "Total Costs: - 2640 €\n",
      "Total Profit: 2236.94 €"
     ]
    }
   ],
   "source": [
    "formatCampaigns(pred, results, days)\n",
    "totalSales <- sum(sales(pred, results))\n",
    "totalCosts <- sum(costs(pred, results))\n",
    "cat(\"Total Sales:\", totalSales, \"€\\n\")\n",
    "cat(\"Total Costs: -\", totalCosts, \"€\\n\")\n",
    "cat(\"Total Profit:\", totalSales - totalCosts, \"€\")"
   ]
  },
  {
   "cell_type": "markdown",
   "id": "733ef879",
   "metadata": {},
   "source": [
    "## Objetivo 2"
   ]
  },
  {
   "cell_type": "code",
   "execution_count": 9,
   "id": "b2f035a6",
   "metadata": {},
   "outputs": [
    {
     "name": "stdout",
     "output_type": "stream",
     "text": [
      "Iteration: 30 bestvalit: -1208.320000 bestmemit:    0.382610    0.260386    0.199928    0.275877    0.128599    0.322183    0.832530    0.624878    0.351997    0.472040    0.723874    0.889131    0.439773    0.469838    0.718824    0.584843    0.386101    0.426718    0.350880    0.433457    0.414094    0.310702    0.166180    0.052735    0.115781    0.378331    0.185225    0.316381    0.963896    0.625348    0.074185    0.754695    0.146120    0.139223    0.919693\n",
      "Iteration: 60 bestvalit: -1454.360000 bestmemit:    0.465574    0.032298    0.260738    0.299617    0.002570    0.426264    0.898717    0.895546    0.079307    0.292846    0.027448    0.278724    0.511846    0.631964    0.739829    0.445561    0.170717    0.054734    0.957137    0.341211    0.567019    0.007779    0.488519    0.263188    0.284065    0.286004    0.268990    0.138716    0.893869    0.153295    0.457205    0.527990    0.337447    0.394884    0.708672\n",
      "Iteration: 90 bestvalit: -1623.430000 bestmemit:    0.460703    0.385734    0.178066    0.131956    0.316887    0.296603    0.731449    0.801386    0.030349    0.103243    0.718993    0.543467    0.654569    0.637871    0.306438    0.027233    0.303663    0.039309    0.174784    0.335709    0.100483    0.330452    0.368536    0.329586    0.250518    0.126019    0.047504    0.261224    0.688729    0.413957    0.336821    0.147781    0.705659    0.874807    0.676371\n",
      "Iteration: 120 bestvalit: -1623.430000 bestmemit:    0.252062    0.096096    0.148484    0.045441    0.098376    0.345065    0.809417    0.993219    0.331315    0.219913    0.676978    0.662986    0.608898    0.798890    0.430680    0.123055    0.136479    0.243365    0.413312    0.484184    0.442227    0.239297    0.499545    0.350872    0.070014    0.346407    0.223002    0.002401    0.620502    0.087594    0.234171    0.297795    0.521564    0.961602    0.866661\n",
      "Iteration: 150 bestvalit: -1623.430000 bestmemit:    0.224285    0.328843    0.017713    0.279936    0.264631    0.372070    0.923771    0.901623    0.283961    0.283370    0.983546    0.543467    0.629530    0.884620    0.119932    0.448824    0.248353    0.185159    0.392519    0.248554    0.243025    0.472823    0.337007    0.150291    0.020865    0.126019    0.047504    0.261224    0.688729    0.413957    0.336821    0.147781    0.705659    0.566928    0.799791\n",
      "method: DEoptim \n",
      " > par: 0 0 0 0 0 0 1 1 0 0 1 1 1 1 0 0 0 0 0 0 0 0 0 0 0 0 0 0 1 0 0 0 1 1 1 \n",
      " > eval: 1623.43 \n"
     ]
    }
   ],
   "source": [
    "# Differential Evolution Optimization Objective 2: -------------------------   \n",
    "evalN = function(x) -profitObj2(x)\n",
    "\n",
    "#CR -> crossover probability \n",
    "#F -> differential weighting factor \n",
    "#trace -> int as report results\n",
    "C=DEoptim.control(strategy=2,NP=popSize,itermax=iter,CR=0.9,F=0.8,trace=report,storepopfrom=1,storepopfreq=1)\n",
    "    \n",
    "# Differential Evolution Optimization: -------------------------\n",
    "de=suppressWarnings(DEoptim(fn=evalN,lower=lower,upper=upper,control=C))\n",
    "    \n",
    "# show result:\n",
    "showbest(\"DEoptim\",repairMethod(round(de$optim$bestmem)),de$optim$bestval)\n",
    "results = repairMethod(round(de$optim$bestmem))"
   ]
  },
  {
   "cell_type": "code",
   "execution_count": 10,
   "id": "8124ea39",
   "metadata": {},
   "outputs": [
    {
     "data": {
      "text/html": [
       "<table class=\"dataframe\">\n",
       "<caption>A data.frame: 5 × 8</caption>\n",
       "<thead>\n",
       "\t<tr><th></th><th scope=col>campaign</th><th scope=col>domingo</th><th scope=col>segunda-feira</th><th scope=col>terça-feira</th><th scope=col>quarta-feira</th><th scope=col>quinta-feira</th><th scope=col>sexta-feira</th><th scope=col>sábado</th></tr>\n",
       "\t<tr><th></th><th scope=col>&lt;chr&gt;</th><th scope=col>&lt;chr&gt;</th><th scope=col>&lt;chr&gt;</th><th scope=col>&lt;chr&gt;</th><th scope=col>&lt;chr&gt;</th><th scope=col>&lt;chr&gt;</th><th scope=col>&lt;chr&gt;</th><th scope=col>&lt;chr&gt;</th></tr>\n",
       "</thead>\n",
       "<tbody>\n",
       "\t<tr><th scope=row>1</th><td>all   </td><td>N/A       </td><td>N/A</td><td>N/A</td><td>N/A       </td><td>N/A       </td><td>N/A       </td><td>+ 207.37 €</td></tr>\n",
       "\t<tr><th scope=row>2</th><td>female</td><td>+ 148.87 €</td><td>N/A</td><td>N/A</td><td>+ 114.55 €</td><td>+ 115.59 €</td><td>+ 136.91 €</td><td>+ 226.22 €</td></tr>\n",
       "\t<tr><th scope=row>3</th><td>male  </td><td>N/A       </td><td>N/A</td><td>N/A</td><td>N/A       </td><td>N/A       </td><td>N/A       </td><td>N/A       </td></tr>\n",
       "\t<tr><th scope=row>4</th><td>young </td><td>N/A       </td><td>N/A</td><td>N/A</td><td>N/A       </td><td>N/A       </td><td>N/A       </td><td>N/A       </td></tr>\n",
       "\t<tr><th scope=row>5</th><td>adult </td><td>+ 155.28 €</td><td>N/A</td><td>N/A</td><td>N/A       </td><td>+ 123 €   </td><td>+ 146.28 €</td><td>+ 249.36 €</td></tr>\n",
       "</tbody>\n",
       "</table>\n"
      ],
      "text/latex": [
       "A data.frame: 5 × 8\n",
       "\\begin{tabular}{r|llllllll}\n",
       "  & campaign & domingo & segunda-feira & terça-feira & quarta-feira & quinta-feira & sexta-feira & sábado\\\\\n",
       "  & <chr> & <chr> & <chr> & <chr> & <chr> & <chr> & <chr> & <chr>\\\\\n",
       "\\hline\n",
       "\t1 & all    & N/A        & N/A & N/A & N/A        & N/A        & N/A        & + 207.37 €\\\\\n",
       "\t2 & female & + 148.87 € & N/A & N/A & + 114.55 € & + 115.59 € & + 136.91 € & + 226.22 €\\\\\n",
       "\t3 & male   & N/A        & N/A & N/A & N/A        & N/A        & N/A        & N/A       \\\\\n",
       "\t4 & young  & N/A        & N/A & N/A & N/A        & N/A        & N/A        & N/A       \\\\\n",
       "\t5 & adult  & + 155.28 € & N/A & N/A & N/A        & + 123 €    & + 146.28 € & + 249.36 €\\\\\n",
       "\\end{tabular}\n"
      ],
      "text/markdown": [
       "\n",
       "A data.frame: 5 × 8\n",
       "\n",
       "| <!--/--> | campaign &lt;chr&gt; | domingo &lt;chr&gt; | segunda-feira &lt;chr&gt; | terça-feira &lt;chr&gt; | quarta-feira &lt;chr&gt; | quinta-feira &lt;chr&gt; | sexta-feira &lt;chr&gt; | sábado &lt;chr&gt; |\n",
       "|---|---|---|---|---|---|---|---|---|\n",
       "| 1 | all    | N/A        | N/A | N/A | N/A        | N/A        | N/A        | + 207.37 € |\n",
       "| 2 | female | + 148.87 € | N/A | N/A | + 114.55 € | + 115.59 € | + 136.91 € | + 226.22 € |\n",
       "| 3 | male   | N/A        | N/A | N/A | N/A        | N/A        | N/A        | N/A        |\n",
       "| 4 | young  | N/A        | N/A | N/A | N/A        | N/A        | N/A        | N/A        |\n",
       "| 5 | adult  | + 155.28 € | N/A | N/A | N/A        | + 123 €    | + 146.28 € | + 249.36 € |\n",
       "\n"
      ],
      "text/plain": [
       "  campaign domingo    segunda-feira terça-feira quarta-feira quinta-feira\n",
       "1 all      N/A        N/A           N/A         N/A          N/A         \n",
       "2 female   + 148.87 \\200 N/A           N/A         + 114.55 \\200   + 115.59 \\200  \n",
       "3 male     N/A        N/A           N/A         N/A          N/A         \n",
       "4 young    N/A        N/A           N/A         N/A          N/A         \n",
       "5 adult    + 155.28 \\200 N/A           N/A         N/A          + 123 \\200     \n",
       "  sexta-feira sábado    \n",
       "1 N/A         + 207.37 \\200\n",
       "2 + 136.91 \\200  + 226.22 \\200\n",
       "3 N/A         N/A       \n",
       "4 N/A         N/A       \n",
       "5 + 146.28 \\200  + 249.36 \\200"
      ]
     },
     "metadata": {},
     "output_type": "display_data"
    },
    {
     "name": "stdout",
     "output_type": "stream",
     "text": [
      "Total Sales: 3203.43 €\n",
      "Total Costs: - 1580 €\n",
      "Total Profit: 1623.43 €"
     ]
    }
   ],
   "source": [
    "formatCampaigns(pred, results, days)\n",
    "totalSales <- sum(sales(pred, results))\n",
    "totalCosts <- sum(costs(pred, results))\n",
    "cat(\"Total Sales:\", totalSales, \"€\\n\")\n",
    "cat(\"Total Costs: -\", totalCosts, \"€\\n\")\n",
    "cat(\"Total Profit:\", totalSales - totalCosts, \"€\")"
   ]
  },
  {
   "cell_type": "markdown",
   "id": "f8319a77",
   "metadata": {},
   "source": [
    "## Objetivo 3"
   ]
  },
  {
   "cell_type": "code",
   "execution_count": 11,
   "id": "25fa24a3",
   "metadata": {},
   "outputs": [
    {
     "name": "stdout",
     "output_type": "stream",
     "text": [
      "Iteration: 30 bestvalit: -744.860000 bestmemit:    0.327714    0.457679    0.359654    0.148766    0.408420    0.424760    0.756273    0.732085    0.031400    0.289389    0.694091    0.624295    0.783512    0.544844    0.678405    0.162796    0.146116    0.617085    0.600705    0.899417    0.540707    0.602777    0.314866    0.064171    0.177681    0.280244    0.710288    0.645219    0.644745    0.583481    0.834187    0.783541    0.644984    0.810195    0.805299\n",
      "Iteration: 60 bestvalit: -751.070316 bestmemit:    0.061007    0.036066    0.429052    0.247746    0.246406    0.383410    0.602107    0.654061    0.305025    0.383607    0.976085    0.596610    0.701270    0.806490    0.556042    0.325715    0.052453    0.724369    0.839833    0.859777    0.623922    0.373776    0.377586    0.358109    0.280624    0.421692    0.391224    0.860830    0.828435    0.730958    0.797491    0.682718    0.686068    0.895035    0.839622\n",
      "Iteration: 90 bestvalit: -751.070316 bestmemit:    0.107331    0.102228    0.005329    0.297393    0.387227    0.295721    0.574966    0.769296    0.196967    0.460612    0.837082    0.607855    0.731738    0.827927    0.536164    0.217817    0.119637    0.659964    0.940178    0.911046    0.658204    0.025957    0.065669    0.022894    0.182737    0.323940    0.183552    0.549569    0.710525    0.707507    0.679786    0.589296    0.901473    0.691771    0.921927\n",
      "Iteration: 120 bestvalit: -751.070316 bestmemit:    0.219413    0.324580    0.179181    0.338178    0.197550    0.030026    0.617203    0.653336    0.206685    0.218331    0.946170    0.645933    0.696274    0.833449    0.911400    0.407370    0.231186    0.824106    0.966073    0.904786    0.521121    0.126979    0.026952    0.056536    0.237123    0.148819    0.187226    0.774355    0.560456    0.732706    0.569657    0.511283    0.818249    0.512067    0.530063\n",
      "Iteration: 150 bestvalit: -751.070316 bestmemit:    0.044861    0.309362    0.179181    0.327443    0.197550    0.030026    0.617203    0.653336    0.206685    0.218331    0.946170    0.645933    0.696274    0.722965    0.662602    0.384383    0.231186    0.824106    0.966073    0.664943    0.644186    0.070807    0.336874    0.299978    0.235604    0.139969    0.266191    0.774355    0.640382    0.733310    0.569657    0.511283    0.818249    0.512067    0.594480\n",
      "method: DEoptim \n",
      " > par: 0 0 0 0 0 0 1 1 0 0 1 1 1 1 1 0 0 1 1 1 1 0 0 0 0 0 0 1 1 1 1 1 1 1 1 \n",
      " > eval: 751.0703 \n"
     ]
    }
   ],
   "source": [
    "# Differential Evolution Optimization Objective 3: -------------------------   \n",
    "evalN = function(x) -profitObj3(x)\n",
    "\n",
    "#CR -> crossover probability \n",
    "#F -> differential weighting factor \n",
    "#trace -> int as report results\n",
    "C=DEoptim.control(strategy=2,NP=popSize,itermax=iter,CR=0.9,F=0.8,trace=report,storepopfrom=1,storepopfreq=1)\n",
    "    \n",
    "# Differential Evolution Optimization: -------------------------\n",
    "de=suppressWarnings(DEoptim(fn=evalN,lower=lower,upper=upper,control=C))\n",
    "    \n",
    "# show result:\n",
    "showbest(\"DEoptim\",de$optim$bestmem,de$optim$bestval)\n",
    "results = round(de$optim$bestmem)\n",
    "score = abs(de$optim$bestval)"
   ]
  },
  {
   "cell_type": "code",
   "execution_count": 12,
   "id": "fb6fb47a",
   "metadata": {},
   "outputs": [
    {
     "data": {
      "text/html": [
       "<table class=\"dataframe\">\n",
       "<caption>A data.frame: 5 × 8</caption>\n",
       "<thead>\n",
       "\t<tr><th></th><th scope=col>campaign</th><th scope=col>domingo</th><th scope=col>segunda-feira</th><th scope=col>terça-feira</th><th scope=col>quarta-feira</th><th scope=col>quinta-feira</th><th scope=col>sexta-feira</th><th scope=col>sábado</th></tr>\n",
       "\t<tr><th></th><th scope=col>&lt;chr&gt;</th><th scope=col>&lt;chr&gt;</th><th scope=col>&lt;chr&gt;</th><th scope=col>&lt;chr&gt;</th><th scope=col>&lt;chr&gt;</th><th scope=col>&lt;chr&gt;</th><th scope=col>&lt;chr&gt;</th><th scope=col>&lt;chr&gt;</th></tr>\n",
       "</thead>\n",
       "<tbody>\n",
       "\t<tr><th scope=row>1</th><td>all   </td><td>N/A       </td><td>N/A      </td><td>N/A      </td><td>N/A       </td><td>N/A       </td><td>N/A       </td><td>+ 207.37 €</td></tr>\n",
       "\t<tr><th scope=row>2</th><td>female</td><td>+ 148.87 €</td><td>N/A      </td><td>N/A      </td><td>+ 114.55 €</td><td>+ 115.59 €</td><td>+ 136.91 €</td><td>+ 226.22 €</td></tr>\n",
       "\t<tr><th scope=row>3</th><td>male  </td><td>+ 67.3 €  </td><td>N/A      </td><td>N/A      </td><td>+ 31.6 €  </td><td>+ 41.96 € </td><td>+ 55.89 € </td><td>+ 107.69 €</td></tr>\n",
       "\t<tr><th scope=row>4</th><td>young </td><td>N/A       </td><td>N/A      </td><td>N/A      </td><td>N/A       </td><td>N/A       </td><td>N/A       </td><td>+ 55.75 € </td></tr>\n",
       "\t<tr><th scope=row>5</th><td>adult </td><td>+ 155.28 €</td><td>+ 72.36 €</td><td>+ 60.36 €</td><td>+ 113.4 € </td><td>+ 123 €   </td><td>+ 146.28 €</td><td>+ 249.36 €</td></tr>\n",
       "</tbody>\n",
       "</table>\n"
      ],
      "text/latex": [
       "A data.frame: 5 × 8\n",
       "\\begin{tabular}{r|llllllll}\n",
       "  & campaign & domingo & segunda-feira & terça-feira & quarta-feira & quinta-feira & sexta-feira & sábado\\\\\n",
       "  & <chr> & <chr> & <chr> & <chr> & <chr> & <chr> & <chr> & <chr>\\\\\n",
       "\\hline\n",
       "\t1 & all    & N/A        & N/A       & N/A       & N/A        & N/A        & N/A        & + 207.37 €\\\\\n",
       "\t2 & female & + 148.87 € & N/A       & N/A       & + 114.55 € & + 115.59 € & + 136.91 € & + 226.22 €\\\\\n",
       "\t3 & male   & + 67.3 €   & N/A       & N/A       & + 31.6 €   & + 41.96 €  & + 55.89 €  & + 107.69 €\\\\\n",
       "\t4 & young  & N/A        & N/A       & N/A       & N/A        & N/A        & N/A        & + 55.75 € \\\\\n",
       "\t5 & adult  & + 155.28 € & + 72.36 € & + 60.36 € & + 113.4 €  & + 123 €    & + 146.28 € & + 249.36 €\\\\\n",
       "\\end{tabular}\n"
      ],
      "text/markdown": [
       "\n",
       "A data.frame: 5 × 8\n",
       "\n",
       "| <!--/--> | campaign &lt;chr&gt; | domingo &lt;chr&gt; | segunda-feira &lt;chr&gt; | terça-feira &lt;chr&gt; | quarta-feira &lt;chr&gt; | quinta-feira &lt;chr&gt; | sexta-feira &lt;chr&gt; | sábado &lt;chr&gt; |\n",
       "|---|---|---|---|---|---|---|---|---|\n",
       "| 1 | all    | N/A        | N/A       | N/A       | N/A        | N/A        | N/A        | + 207.37 € |\n",
       "| 2 | female | + 148.87 € | N/A       | N/A       | + 114.55 € | + 115.59 € | + 136.91 € | + 226.22 € |\n",
       "| 3 | male   | + 67.3 €   | N/A       | N/A       | + 31.6 €   | + 41.96 €  | + 55.89 €  | + 107.69 € |\n",
       "| 4 | young  | N/A        | N/A       | N/A       | N/A        | N/A        | N/A        | + 55.75 €  |\n",
       "| 5 | adult  | + 155.28 € | + 72.36 € | + 60.36 € | + 113.4 €  | + 123 €    | + 146.28 € | + 249.36 € |\n",
       "\n"
      ],
      "text/plain": [
       "  campaign domingo    segunda-feira terça-feira quarta-feira quinta-feira\n",
       "1 all      N/A        N/A           N/A         N/A          N/A         \n",
       "2 female   + 148.87 \\200 N/A           N/A         + 114.55 \\200   + 115.59 \\200  \n",
       "3 male     + 67.3 \\200   N/A           N/A         + 31.6 \\200     + 41.96 \\200   \n",
       "4 young    N/A        N/A           N/A         N/A          N/A         \n",
       "5 adult    + 155.28 \\200 + 72.36 \\200     + 60.36 \\200   + 113.4 \\200    + 123 \\200     \n",
       "  sexta-feira sábado    \n",
       "1 N/A         + 207.37 \\200\n",
       "2 + 136.91 \\200  + 226.22 \\200\n",
       "3 + 55.89 \\200   + 107.69 \\200\n",
       "4 N/A         + 55.75 \\200 \n",
       "5 + 146.28 \\200  + 249.36 \\200"
      ]
     },
     "metadata": {},
     "output_type": "display_data"
    },
    {
     "name": "stdout",
     "output_type": "stream",
     "text": [
      "Total Sales: 4769.74 €\n",
      "Total Costs: - 2540 €\n",
      "Total Profit: 2229.74 €\n",
      "Score (70% Profit per Campaign && 30% Total Profit): 751.0703"
     ]
    }
   ],
   "source": [
    "formatCampaigns(pred, results, days)\n",
    "totalSales <- sum(sales(pred, results))\n",
    "totalCosts <- sum(costs(pred, results))\n",
    "cat(\"Total Sales:\", totalSales, \"€\\n\")\n",
    "cat(\"Total Costs: -\", totalCosts, \"€\\n\")\n",
    "cat(\"Total Profit:\", totalSales - totalCosts, \"€\\n\")\n",
    "cat(\"Score (70% Profit per Campaign && 30% Total Profit):\", score)"
   ]
  },
  {
   "cell_type": "code",
   "execution_count": null,
   "id": "db79adfd",
   "metadata": {},
   "outputs": [],
   "source": []
  }
 ],
 "metadata": {
  "kernelspec": {
   "display_name": "R",
   "language": "R",
   "name": "ir"
  },
  "language_info": {
   "codemirror_mode": "r",
   "file_extension": ".r",
   "mimetype": "text/x-r-source",
   "name": "R",
   "pygments_lexer": "r",
   "version": "4.1.2"
  }
 },
 "nbformat": 4,
 "nbformat_minor": 5
}
