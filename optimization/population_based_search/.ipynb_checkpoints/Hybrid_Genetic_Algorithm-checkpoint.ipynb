{
 "cells": [
  {
   "cell_type": "code",
   "execution_count": 15,
   "id": "8d875969",
   "metadata": {},
   "outputs": [],
   "source": [
    "library(GA)"
   ]
  },
  {
   "cell_type": "code",
   "execution_count": 2,
   "id": "98865d92",
   "metadata": {},
   "outputs": [],
   "source": [
    "df = read.csv(\"../../data/store.csv\", header = TRUE, sep=\";\")\n",
    "days = weekdays(as.Date(df[251:257,1]))\n",
    "all = df[251:257,2]\n",
    "female = df[251:257,3]\n",
    "male = df[251:257,4]\n",
    "young = df[251:257,5]\n",
    "adult = df[251:257,6]"
   ]
  },
  {
   "cell_type": "code",
   "execution_count": 3,
   "id": "55918f06",
   "metadata": {
    "scrolled": true
   },
   "outputs": [
    {
     "data": {
      "text/html": [
       "<table class=\"dataframe\">\n",
       "<caption>A data.frame: 7 × 10</caption>\n",
       "<thead>\n",
       "\t<tr><th></th><th scope=col>date</th><th scope=col>all</th><th scope=col>female</th><th scope=col>male</th><th scope=col>young</th><th scope=col>adult</th><th scope=col>weather</th><th scope=col>maxtemp</th><th scope=col>RH</th><th scope=col>maxwind</th></tr>\n",
       "\t<tr><th></th><th scope=col>&lt;chr&gt;</th><th scope=col>&lt;dbl&gt;</th><th scope=col>&lt;dbl&gt;</th><th scope=col>&lt;int&gt;</th><th scope=col>&lt;int&gt;</th><th scope=col>&lt;dbl&gt;</th><th scope=col>&lt;chr&gt;</th><th scope=col>&lt;int&gt;</th><th scope=col>&lt;int&gt;</th><th scope=col>&lt;int&gt;</th></tr>\n",
       "</thead>\n",
       "<tbody>\n",
       "\t<tr><th scope=row>251</th><td>2013-12-15</td><td>4974</td><td>2299</td><td>2390</td><td>2680</td><td>2294</td><td>Sunny</td><td>11</td><td>83</td><td>35</td></tr>\n",
       "\t<tr><th scope=row>252</th><td>2013-12-16</td><td>3228</td><td>1442</td><td>1606</td><td>1625</td><td>1603</td><td>Sunny</td><td>10</td><td>87</td><td>32</td></tr>\n",
       "\t<tr><th scope=row>253</th><td>2013-12-17</td><td>3191</td><td>1427</td><td>1627</td><td>1688</td><td>1503</td><td>Rain </td><td>11</td><td>90</td><td>24</td></tr>\n",
       "\t<tr><th scope=row>254</th><td>2013-12-18</td><td>4153</td><td>2035</td><td>1880</td><td>2208</td><td>1945</td><td>Rain </td><td>10</td><td>93</td><td> 0</td></tr>\n",
       "\t<tr><th scope=row>255</th><td>2013-12-19</td><td>4307</td><td>2043</td><td>2028</td><td>2282</td><td>2025</td><td>Rain </td><td>12</td><td>86</td><td>74</td></tr>\n",
       "\t<tr><th scope=row>256</th><td>2013-12-20</td><td>4660</td><td>2207</td><td>2227</td><td>2441</td><td>2219</td><td>Sunny</td><td> 9</td><td>69</td><td> 0</td></tr>\n",
       "\t<tr><th scope=row>257</th><td>2013-12-21</td><td>6193</td><td>2894</td><td>2967</td><td>3115</td><td>3078</td><td>Sunny</td><td> 9</td><td>68</td><td> 0</td></tr>\n",
       "</tbody>\n",
       "</table>\n"
      ],
      "text/latex": [
       "A data.frame: 7 × 10\n",
       "\\begin{tabular}{r|llllllllll}\n",
       "  & date & all & female & male & young & adult & weather & maxtemp & RH & maxwind\\\\\n",
       "  & <chr> & <dbl> & <dbl> & <int> & <int> & <dbl> & <chr> & <int> & <int> & <int>\\\\\n",
       "\\hline\n",
       "\t251 & 2013-12-15 & 4974 & 2299 & 2390 & 2680 & 2294 & Sunny & 11 & 83 & 35\\\\\n",
       "\t252 & 2013-12-16 & 3228 & 1442 & 1606 & 1625 & 1603 & Sunny & 10 & 87 & 32\\\\\n",
       "\t253 & 2013-12-17 & 3191 & 1427 & 1627 & 1688 & 1503 & Rain  & 11 & 90 & 24\\\\\n",
       "\t254 & 2013-12-18 & 4153 & 2035 & 1880 & 2208 & 1945 & Rain  & 10 & 93 &  0\\\\\n",
       "\t255 & 2013-12-19 & 4307 & 2043 & 2028 & 2282 & 2025 & Rain  & 12 & 86 & 74\\\\\n",
       "\t256 & 2013-12-20 & 4660 & 2207 & 2227 & 2441 & 2219 & Sunny &  9 & 69 &  0\\\\\n",
       "\t257 & 2013-12-21 & 6193 & 2894 & 2967 & 3115 & 3078 & Sunny &  9 & 68 &  0\\\\\n",
       "\\end{tabular}\n"
      ],
      "text/markdown": [
       "\n",
       "A data.frame: 7 × 10\n",
       "\n",
       "| <!--/--> | date &lt;chr&gt; | all &lt;dbl&gt; | female &lt;dbl&gt; | male &lt;int&gt; | young &lt;int&gt; | adult &lt;dbl&gt; | weather &lt;chr&gt; | maxtemp &lt;int&gt; | RH &lt;int&gt; | maxwind &lt;int&gt; |\n",
       "|---|---|---|---|---|---|---|---|---|---|---|\n",
       "| 251 | 2013-12-15 | 4974 | 2299 | 2390 | 2680 | 2294 | Sunny | 11 | 83 | 35 |\n",
       "| 252 | 2013-12-16 | 3228 | 1442 | 1606 | 1625 | 1603 | Sunny | 10 | 87 | 32 |\n",
       "| 253 | 2013-12-17 | 3191 | 1427 | 1627 | 1688 | 1503 | Rain  | 11 | 90 | 24 |\n",
       "| 254 | 2013-12-18 | 4153 | 2035 | 1880 | 2208 | 1945 | Rain  | 10 | 93 |  0 |\n",
       "| 255 | 2013-12-19 | 4307 | 2043 | 2028 | 2282 | 2025 | Rain  | 12 | 86 | 74 |\n",
       "| 256 | 2013-12-20 | 4660 | 2207 | 2227 | 2441 | 2219 | Sunny |  9 | 69 |  0 |\n",
       "| 257 | 2013-12-21 | 6193 | 2894 | 2967 | 3115 | 3078 | Sunny |  9 | 68 |  0 |\n",
       "\n"
      ],
      "text/plain": [
       "    date       all  female male young adult weather maxtemp RH maxwind\n",
       "251 2013-12-15 4974 2299   2390 2680  2294  Sunny   11      83 35     \n",
       "252 2013-12-16 3228 1442   1606 1625  1603  Sunny   10      87 32     \n",
       "253 2013-12-17 3191 1427   1627 1688  1503  Rain    11      90 24     \n",
       "254 2013-12-18 4153 2035   1880 2208  1945  Rain    10      93  0     \n",
       "255 2013-12-19 4307 2043   2028 2282  2025  Rain    12      86 74     \n",
       "256 2013-12-20 4660 2207   2227 2441  2219  Sunny    9      69  0     \n",
       "257 2013-12-21 6193 2894   2967 3115  3078  Sunny    9      68  0     "
      ]
     },
     "metadata": {},
     "output_type": "display_data"
    }
   ],
   "source": [
    "tail(df,7)"
   ]
  },
  {
   "cell_type": "code",
   "execution_count": 4,
   "id": "f5068b7c",
   "metadata": {},
   "outputs": [],
   "source": [
    "pred=list(all=all, female=female, male=male, young=young, adult=adult) # pred \n",
    "D = length(pred$all) + length(pred$female) + length(pred$male) + length(pred$young) + length(pred$adult) # size of the solution"
   ]
  },
  {
   "cell_type": "code",
   "execution_count": 5,
   "id": "22aa5918",
   "metadata": {},
   "outputs": [],
   "source": [
    "# Evaluation Functions and Report Function: ------------------------------\n",
    "source(\"../eval_functions.R\", encoding=\"UTF-8\")"
   ]
  },
  {
   "cell_type": "code",
   "execution_count": 6,
   "id": "358f18bc",
   "metadata": {},
   "outputs": [],
   "source": [
    "# Hybrid Genetic Algorithm Initial Settings: -------------------------\n",
    "lower=rep(0,D) # lower bounds\n",
    "upper=rep(1,D) #  upper bounds\n",
    "popSize=100 # population size\n",
    "iter=50 # maximum number of iterations\n",
    "\n",
    "showbest=function(method,par,eval){ \n",
    "  cat(\"method:\",method,\"\\n > par:\",round(par),\"\\n > eval:\",abs(eval),\"\\n\") }"
   ]
  },
  {
   "cell_type": "markdown",
   "id": "b00f8b0a",
   "metadata": {},
   "source": [
    "## Objetivo 1"
   ]
  },
  {
   "cell_type": "code",
   "execution_count": 7,
   "id": "b2f5a476",
   "metadata": {},
   "outputs": [
    {
     "name": "stdout",
     "output_type": "stream",
     "text": [
      "method: rbga \n",
      " > par: 0 0 0 0 0 0 1 1 0 0 1 1 1 1 1 0 0 1 1 1 1 1 0 0 0 0 0 1 1 1 1 1 1 1 1 \n",
      " > eval: 2236.94 \n"
     ]
    }
   ],
   "source": [
    "# Hybrid Genetic Algorithm Objective 1: ------------------------------\n",
    "eval = function(x) profitObj1(x)\n",
    "\n",
    "optimArgs = list(method = \"SANN\", \n",
    "                 poptim = 0.5,\n",
    "                 pressel = 0.8,\n",
    "                 control = list(maxit=iter,temp=10,tmax=1,fnscale = -1)) #fnscale = -1 maximização\n",
    "\n",
    "GA <- ga(type = \"binary\", \n",
    "         fitness = eval,\n",
    "         lower = lower, upper = upper, nBits = 35,\n",
    "         popSize = popSize, maxiter = iter,\n",
    "         optim = TRUE, optimArgs = optimArgs, elitism=10, seed=10)\n",
    "\n",
    "results <- round(as.vector(GA@solution))\n",
    "showbest(\"rbga\",results,GA@fitnessValue)"
   ]
  },
  {
   "cell_type": "code",
   "execution_count": 8,
   "id": "3e7513b3",
   "metadata": {
    "scrolled": false
   },
   "outputs": [
    {
     "data": {
      "text/plain": [
       "-- \u001b[1mGenetic Algorithm\u001b[22m ------------------- \n",
       "\n",
       "GA settings: \n",
       "Type                  =  binary \n",
       "Population size       =  100 \n",
       "Number of generations =  50 \n",
       "Elitism               =  10 \n",
       "Crossover probability =  0.8 \n",
       "Mutation probability  =  0.1 \n",
       "\n",
       "GA results: \n",
       "Iterations             = 50 \n",
       "Fitness function value = 2236.94 \n",
       "Solution = \n",
       "     x1 x2 x3 x4 x5 x6 x7 x8 x9 x10  ...  x34 x35\n",
       "[1,]  0  0  0  0  0  0  1  1  0   0         1   1"
      ]
     },
     "metadata": {},
     "output_type": "display_data"
    }
   ],
   "source": [
    "summary(GA)"
   ]
  },
  {
   "cell_type": "code",
   "execution_count": 9,
   "id": "a3bbed79",
   "metadata": {},
   "outputs": [
    {
     "data": {
      "image/png": "[encoded data removed]",
      "text/plain": [
       "plot without title"
      ]
     },
     "metadata": {
      "image/png": {
       "height": 420,
       "width": 420
      }
     },
     "output_type": "display_data"
    }
   ],
   "source": [
    "plot(GA)"
   ]
  },
  {
   "cell_type": "code",
   "execution_count": 10,
   "id": "dcdff1cf",
   "metadata": {},
   "outputs": [
    {
     "data": {
      "text/html": [
       "<table class=\"dataframe\">\n",
       "<caption>A data.frame: 5 × 8</caption>\n",
       "<thead>\n",
       "\t<tr><th></th><th scope=col>campaign</th><th scope=col>domingo</th><th scope=col>segunda-feira</th><th scope=col>terça-feira</th><th scope=col>quarta-feira</th><th scope=col>quinta-feira</th><th scope=col>sexta-feira</th><th scope=col>sábado</th></tr>\n",
       "\t<tr><th></th><th scope=col>&lt;chr&gt;</th><th scope=col>&lt;chr&gt;</th><th scope=col>&lt;chr&gt;</th><th scope=col>&lt;chr&gt;</th><th scope=col>&lt;chr&gt;</th><th scope=col>&lt;chr&gt;</th><th scope=col>&lt;chr&gt;</th><th scope=col>&lt;chr&gt;</th></tr>\n",
       "</thead>\n",
       "<tbody>\n",
       "\t<tr><th scope=row>1</th><td>all   </td><td>N/A       </td><td>N/A      </td><td>N/A      </td><td>N/A       </td><td>N/A       </td><td>N/A       </td><td>+ 207.37 €</td></tr>\n",
       "\t<tr><th scope=row>2</th><td>female</td><td>+ 148.87 €</td><td>N/A      </td><td>N/A      </td><td>+ 114.55 €</td><td>+ 115.59 €</td><td>+ 136.91 €</td><td>+ 226.22 €</td></tr>\n",
       "\t<tr><th scope=row>3</th><td>male  </td><td>+ 67.3 €  </td><td>N/A      </td><td>N/A      </td><td>+ 31.6 €  </td><td>+ 41.96 € </td><td>+ 55.89 € </td><td>+ 107.69 €</td></tr>\n",
       "\t<tr><th scope=row>4</th><td>young </td><td>+ 7.2 €   </td><td>N/A      </td><td>N/A      </td><td>N/A       </td><td>N/A       </td><td>N/A       </td><td>+ 55.75 € </td></tr>\n",
       "\t<tr><th scope=row>5</th><td>adult </td><td>+ 155.28 €</td><td>+ 72.36 €</td><td>+ 60.36 €</td><td>+ 113.4 € </td><td>+ 123 €   </td><td>+ 146.28 €</td><td>+ 249.36 €</td></tr>\n",
       "</tbody>\n",
       "</table>\n"
      ],
      "text/latex": [
       "A data.frame: 5 × 8\n",
       "\\begin{tabular}{r|llllllll}\n",
       "  & campaign & domingo & segunda-feira & terça-feira & quarta-feira & quinta-feira & sexta-feira & sábado\\\\\n",
       "  & <chr> & <chr> & <chr> & <chr> & <chr> & <chr> & <chr> & <chr>\\\\\n",
       "\\hline\n",
       "\t1 & all    & N/A        & N/A       & N/A       & N/A        & N/A        & N/A        & + 207.37 €\\\\\n",
       "\t2 & female & + 148.87 € & N/A       & N/A       & + 114.55 € & + 115.59 € & + 136.91 € & + 226.22 €\\\\\n",
       "\t3 & male   & + 67.3 €   & N/A       & N/A       & + 31.6 €   & + 41.96 €  & + 55.89 €  & + 107.69 €\\\\\n",
       "\t4 & young  & + 7.2 €    & N/A       & N/A       & N/A        & N/A        & N/A        & + 55.75 € \\\\\n",
       "\t5 & adult  & + 155.28 € & + 72.36 € & + 60.36 € & + 113.4 €  & + 123 €    & + 146.28 € & + 249.36 €\\\\\n",
       "\\end{tabular}\n"
      ],
      "text/markdown": [
       "\n",
       "A data.frame: 5 × 8\n",
       "\n",
       "| <!--/--> | campaign &lt;chr&gt; | domingo &lt;chr&gt; | segunda-feira &lt;chr&gt; | terça-feira &lt;chr&gt; | quarta-feira &lt;chr&gt; | quinta-feira &lt;chr&gt; | sexta-feira &lt;chr&gt; | sábado &lt;chr&gt; |\n",
       "|---|---|---|---|---|---|---|---|---|\n",
       "| 1 | all    | N/A        | N/A       | N/A       | N/A        | N/A        | N/A        | + 207.37 € |\n",
       "| 2 | female | + 148.87 € | N/A       | N/A       | + 114.55 € | + 115.59 € | + 136.91 € | + 226.22 € |\n",
       "| 3 | male   | + 67.3 €   | N/A       | N/A       | + 31.6 €   | + 41.96 €  | + 55.89 €  | + 107.69 € |\n",
       "| 4 | young  | + 7.2 €    | N/A       | N/A       | N/A        | N/A        | N/A        | + 55.75 €  |\n",
       "| 5 | adult  | + 155.28 € | + 72.36 € | + 60.36 € | + 113.4 €  | + 123 €    | + 146.28 € | + 249.36 € |\n",
       "\n"
      ],
      "text/plain": [
       "  campaign domingo    segunda-feira terça-feira quarta-feira quinta-feira\n",
       "1 all      N/A        N/A           N/A         N/A          N/A         \n",
       "2 female   + 148.87 \\200 N/A           N/A         + 114.55 \\200   + 115.59 \\200  \n",
       "3 male     + 67.3 \\200   N/A           N/A         + 31.6 \\200     + 41.96 \\200   \n",
       "4 young    + 7.2 \\200    N/A           N/A         N/A          N/A         \n",
       "5 adult    + 155.28 \\200 + 72.36 \\200     + 60.36 \\200   + 113.4 \\200    + 123 \\200     \n",
       "  sexta-feira sábado    \n",
       "1 N/A         + 207.37 \\200\n",
       "2 + 136.91 \\200  + 226.22 \\200\n",
       "3 + 55.89 \\200   + 107.69 \\200\n",
       "4 N/A         + 55.75 \\200 \n",
       "5 + 146.28 \\200  + 249.36 \\200"
      ]
     },
     "metadata": {},
     "output_type": "display_data"
    },
    {
     "name": "stdout",
     "output_type": "stream",
     "text": [
      "Total Sales: 4876.94 €\n",
      "Total Costs: - 2640 €\n",
      "Total Profit: 2236.94 €"
     ]
    }
   ],
   "source": [
    "formatCampaigns(pred, results, days)\n",
    "totalSales <- sum(sales(pred, results))\n",
    "totalCosts <- sum(costs(pred, results))\n",
    "cat(\"Total Sales:\", totalSales, \"€\\n\")\n",
    "cat(\"Total Costs: -\", totalCosts, \"€\\n\")\n",
    "cat(\"Total Profit:\", totalSales - totalCosts, \"€\")"
   ]
  },
  {
   "cell_type": "markdown",
   "id": "b7c9b943",
   "metadata": {},
   "source": [
    "## Objetivo 2"
   ]
  },
  {
   "cell_type": "code",
   "execution_count": 11,
   "id": "dcb59e03",
   "metadata": {},
   "outputs": [
    {
     "name": "stdout",
     "output_type": "stream",
     "text": [
      "method: rbga \n",
      " > par: 0 0 0 0 0 0 1 0 0 0 0 1 1 1 0 0 0 0 0 0 1 0 0 0 0 0 0 0 1 0 0 1 1 1 1 \n",
      " > eval: 1581.1 \n"
     ]
    }
   ],
   "source": [
    "# Hybrid Genetic Algorithm Objective 2: ------------------------------\n",
    "evalN = function(x) profitObj2(x)\n",
    "\n",
    "optimArgs = list(method = \"SANN\", \n",
    "                 poptim = 0.05,\n",
    "                 pressel = 0.5,\n",
    "                 control = list(maxit=100,temp=10,tmax=1,fnscale = -1)) #fnscale = -1 maximização\n",
    "\n",
    "GA <- ga(type = \"binary\", \n",
    "         fitness = evalN,\n",
    "         lower = lower, upper = upper, nBits = 35,\n",
    "         popSize = popSize, maxiter = iter,\n",
    "         optim = TRUE, optimArgs = optimArgs, seed=10, elitism=10)\n",
    "\n",
    "results <- round(as.vector(GA@solution))\n",
    "results = repairMethod(results)\n",
    "showbest(\"rbga\",results,GA@fitnessValue)"
   ]
  },
  {
   "cell_type": "code",
   "execution_count": 12,
   "id": "7a4c0307",
   "metadata": {},
   "outputs": [
    {
     "data": {
      "text/html": [
       "<table class=\"dataframe\">\n",
       "<caption>A data.frame: 5 × 8</caption>\n",
       "<thead>\n",
       "\t<tr><th></th><th scope=col>campaign</th><th scope=col>domingo</th><th scope=col>segunda-feira</th><th scope=col>terça-feira</th><th scope=col>quarta-feira</th><th scope=col>quinta-feira</th><th scope=col>sexta-feira</th><th scope=col>sábado</th></tr>\n",
       "\t<tr><th></th><th scope=col>&lt;chr&gt;</th><th scope=col>&lt;chr&gt;</th><th scope=col>&lt;chr&gt;</th><th scope=col>&lt;chr&gt;</th><th scope=col>&lt;chr&gt;</th><th scope=col>&lt;chr&gt;</th><th scope=col>&lt;chr&gt;</th><th scope=col>&lt;chr&gt;</th></tr>\n",
       "</thead>\n",
       "<tbody>\n",
       "\t<tr><th scope=row>1</th><td>all   </td><td>N/A       </td><td>N/A</td><td>N/A</td><td>N/A      </td><td>N/A       </td><td>N/A       </td><td>+ 207.37 €</td></tr>\n",
       "\t<tr><th scope=row>2</th><td>female</td><td>N/A       </td><td>N/A</td><td>N/A</td><td>N/A      </td><td>+ 115.59 €</td><td>+ 136.91 €</td><td>+ 226.22 €</td></tr>\n",
       "\t<tr><th scope=row>3</th><td>male  </td><td>N/A       </td><td>N/A</td><td>N/A</td><td>N/A      </td><td>N/A       </td><td>N/A       </td><td>+ 107.69 €</td></tr>\n",
       "\t<tr><th scope=row>4</th><td>young </td><td>N/A       </td><td>N/A</td><td>N/A</td><td>N/A      </td><td>N/A       </td><td>N/A       </td><td>N/A       </td></tr>\n",
       "\t<tr><th scope=row>5</th><td>adult </td><td>+ 155.28 €</td><td>N/A</td><td>N/A</td><td>+ 113.4 €</td><td>+ 123 €   </td><td>+ 146.28 €</td><td>+ 249.36 €</td></tr>\n",
       "</tbody>\n",
       "</table>\n"
      ],
      "text/latex": [
       "A data.frame: 5 × 8\n",
       "\\begin{tabular}{r|llllllll}\n",
       "  & campaign & domingo & segunda-feira & terça-feira & quarta-feira & quinta-feira & sexta-feira & sábado\\\\\n",
       "  & <chr> & <chr> & <chr> & <chr> & <chr> & <chr> & <chr> & <chr>\\\\\n",
       "\\hline\n",
       "\t1 & all    & N/A        & N/A & N/A & N/A       & N/A        & N/A        & + 207.37 €\\\\\n",
       "\t2 & female & N/A        & N/A & N/A & N/A       & + 115.59 € & + 136.91 € & + 226.22 €\\\\\n",
       "\t3 & male   & N/A        & N/A & N/A & N/A       & N/A        & N/A        & + 107.69 €\\\\\n",
       "\t4 & young  & N/A        & N/A & N/A & N/A       & N/A        & N/A        & N/A       \\\\\n",
       "\t5 & adult  & + 155.28 € & N/A & N/A & + 113.4 € & + 123 €    & + 146.28 € & + 249.36 €\\\\\n",
       "\\end{tabular}\n"
      ],
      "text/markdown": [
       "\n",
       "A data.frame: 5 × 8\n",
       "\n",
       "| <!--/--> | campaign &lt;chr&gt; | domingo &lt;chr&gt; | segunda-feira &lt;chr&gt; | terça-feira &lt;chr&gt; | quarta-feira &lt;chr&gt; | quinta-feira &lt;chr&gt; | sexta-feira &lt;chr&gt; | sábado &lt;chr&gt; |\n",
       "|---|---|---|---|---|---|---|---|---|\n",
       "| 1 | all    | N/A        | N/A | N/A | N/A       | N/A        | N/A        | + 207.37 € |\n",
       "| 2 | female | N/A        | N/A | N/A | N/A       | + 115.59 € | + 136.91 € | + 226.22 € |\n",
       "| 3 | male   | N/A        | N/A | N/A | N/A       | N/A        | N/A        | + 107.69 € |\n",
       "| 4 | young  | N/A        | N/A | N/A | N/A       | N/A        | N/A        | N/A        |\n",
       "| 5 | adult  | + 155.28 € | N/A | N/A | + 113.4 € | + 123 €    | + 146.28 € | + 249.36 € |\n",
       "\n"
      ],
      "text/plain": [
       "  campaign domingo    segunda-feira terça-feira quarta-feira quinta-feira\n",
       "1 all      N/A        N/A           N/A         N/A          N/A         \n",
       "2 female   N/A        N/A           N/A         N/A          + 115.59 \\200  \n",
       "3 male     N/A        N/A           N/A         N/A          N/A         \n",
       "4 young    N/A        N/A           N/A         N/A          N/A         \n",
       "5 adult    + 155.28 \\200 N/A           N/A         + 113.4 \\200    + 123 \\200     \n",
       "  sexta-feira sábado    \n",
       "1 N/A         + 207.37 \\200\n",
       "2 + 136.91 \\200  + 226.22 \\200\n",
       "3 N/A         + 107.69 \\200\n",
       "4 N/A         N/A       \n",
       "5 + 146.28 \\200  + 249.36 \\200"
      ]
     },
     "metadata": {},
     "output_type": "display_data"
    },
    {
     "name": "stdout",
     "output_type": "stream",
     "text": [
      "Total Sales: 3081.1 €\n",
      "Total Costs: - 1500 €\n",
      "Total Profit: 1581.1 €"
     ]
    }
   ],
   "source": [
    "formatCampaigns(pred, results, days)\n",
    "totalSales <- sum(sales(pred, results))\n",
    "totalCosts <- sum(costs(pred, results))\n",
    "cat(\"Total Sales:\", totalSales, \"€\\n\")\n",
    "cat(\"Total Costs: -\", totalCosts, \"€\\n\")\n",
    "cat(\"Total Profit:\", totalSales - totalCosts, \"€\")"
   ]
  },
  {
   "cell_type": "markdown",
   "id": "4835c02e",
   "metadata": {},
   "source": [
    "## Objetivo 3"
   ]
  },
  {
   "cell_type": "code",
   "execution_count": 13,
   "id": "22efb754",
   "metadata": {},
   "outputs": [
    {
     "name": "stdout",
     "output_type": "stream",
     "text": [
      "method: rbga \n",
      " > par: 0 0 0 0 0 0 1 1 0 0 1 1 1 1 1 0 0 1 1 1 1 0 0 0 0 0 0 1 1 1 1 1 1 1 1 \n",
      " > eval: 751.0703 \n"
     ]
    }
   ],
   "source": [
    "# Hybrid Genetic Algorithm Objective 3: ------------------------------\n",
    "evalN = function(x) profitObj3(x)\n",
    "\n",
    "optimArgs = list(method = \"SANN\", \n",
    "                 poptim = 0.1,\n",
    "                 pressel = 0.5,\n",
    "                 control = list(maxit=100,temp=10,tmax=1,fnscale = -1)) #fnscale = -1 maximização\n",
    "\n",
    "GA <- ga(type = \"binary\", \n",
    "         fitness = evalN,\n",
    "         lower = lower, upper = upper, nBits = 35,\n",
    "         popSize = popSize, maxiter = iter,\n",
    "         optim = TRUE, optimArgs = optimArgs, seed=10, elitism=10)\n",
    "\n",
    "results <- round(as.vector(GA@solution))\n",
    "showbest(\"rbga\",results,GA@fitnessValue)\n",
    "score <- GA@fitnessValue"
   ]
  },
  {
   "cell_type": "code",
   "execution_count": 14,
   "id": "3051553e",
   "metadata": {},
   "outputs": [
    {
     "data": {
      "text/html": [
       "<table class=\"dataframe\">\n",
       "<caption>A data.frame: 5 × 8</caption>\n",
       "<thead>\n",
       "\t<tr><th></th><th scope=col>campaign</th><th scope=col>domingo</th><th scope=col>segunda-feira</th><th scope=col>terça-feira</th><th scope=col>quarta-feira</th><th scope=col>quinta-feira</th><th scope=col>sexta-feira</th><th scope=col>sábado</th></tr>\n",
       "\t<tr><th></th><th scope=col>&lt;chr&gt;</th><th scope=col>&lt;chr&gt;</th><th scope=col>&lt;chr&gt;</th><th scope=col>&lt;chr&gt;</th><th scope=col>&lt;chr&gt;</th><th scope=col>&lt;chr&gt;</th><th scope=col>&lt;chr&gt;</th><th scope=col>&lt;chr&gt;</th></tr>\n",
       "</thead>\n",
       "<tbody>\n",
       "\t<tr><th scope=row>1</th><td>all   </td><td>N/A       </td><td>N/A      </td><td>N/A      </td><td>N/A       </td><td>N/A       </td><td>N/A       </td><td>+ 207.37 €</td></tr>\n",
       "\t<tr><th scope=row>2</th><td>female</td><td>+ 148.87 €</td><td>N/A      </td><td>N/A      </td><td>+ 114.55 €</td><td>+ 115.59 €</td><td>+ 136.91 €</td><td>+ 226.22 €</td></tr>\n",
       "\t<tr><th scope=row>3</th><td>male  </td><td>+ 67.3 €  </td><td>N/A      </td><td>N/A      </td><td>+ 31.6 €  </td><td>+ 41.96 € </td><td>+ 55.89 € </td><td>+ 107.69 €</td></tr>\n",
       "\t<tr><th scope=row>4</th><td>young </td><td>N/A       </td><td>N/A      </td><td>N/A      </td><td>N/A       </td><td>N/A       </td><td>N/A       </td><td>+ 55.75 € </td></tr>\n",
       "\t<tr><th scope=row>5</th><td>adult </td><td>+ 155.28 €</td><td>+ 72.36 €</td><td>+ 60.36 €</td><td>+ 113.4 € </td><td>+ 123 €   </td><td>+ 146.28 €</td><td>+ 249.36 €</td></tr>\n",
       "</tbody>\n",
       "</table>\n"
      ],
      "text/latex": [
       "A data.frame: 5 × 8\n",
       "\\begin{tabular}{r|llllllll}\n",
       "  & campaign & domingo & segunda-feira & terça-feira & quarta-feira & quinta-feira & sexta-feira & sábado\\\\\n",
       "  & <chr> & <chr> & <chr> & <chr> & <chr> & <chr> & <chr> & <chr>\\\\\n",
       "\\hline\n",
       "\t1 & all    & N/A        & N/A       & N/A       & N/A        & N/A        & N/A        & + 207.37 €\\\\\n",
       "\t2 & female & + 148.87 € & N/A       & N/A       & + 114.55 € & + 115.59 € & + 136.91 € & + 226.22 €\\\\\n",
       "\t3 & male   & + 67.3 €   & N/A       & N/A       & + 31.6 €   & + 41.96 €  & + 55.89 €  & + 107.69 €\\\\\n",
       "\t4 & young  & N/A        & N/A       & N/A       & N/A        & N/A        & N/A        & + 55.75 € \\\\\n",
       "\t5 & adult  & + 155.28 € & + 72.36 € & + 60.36 € & + 113.4 €  & + 123 €    & + 146.28 € & + 249.36 €\\\\\n",
       "\\end{tabular}\n"
      ],
      "text/markdown": [
       "\n",
       "A data.frame: 5 × 8\n",
       "\n",
       "| <!--/--> | campaign &lt;chr&gt; | domingo &lt;chr&gt; | segunda-feira &lt;chr&gt; | terça-feira &lt;chr&gt; | quarta-feira &lt;chr&gt; | quinta-feira &lt;chr&gt; | sexta-feira &lt;chr&gt; | sábado &lt;chr&gt; |\n",
       "|---|---|---|---|---|---|---|---|---|\n",
       "| 1 | all    | N/A        | N/A       | N/A       | N/A        | N/A        | N/A        | + 207.37 € |\n",
       "| 2 | female | + 148.87 € | N/A       | N/A       | + 114.55 € | + 115.59 € | + 136.91 € | + 226.22 € |\n",
       "| 3 | male   | + 67.3 €   | N/A       | N/A       | + 31.6 €   | + 41.96 €  | + 55.89 €  | + 107.69 € |\n",
       "| 4 | young  | N/A        | N/A       | N/A       | N/A        | N/A        | N/A        | + 55.75 €  |\n",
       "| 5 | adult  | + 155.28 € | + 72.36 € | + 60.36 € | + 113.4 €  | + 123 €    | + 146.28 € | + 249.36 € |\n",
       "\n"
      ],
      "text/plain": [
       "  campaign domingo    segunda-feira terça-feira quarta-feira quinta-feira\n",
       "1 all      N/A        N/A           N/A         N/A          N/A         \n",
       "2 female   + 148.87 \\200 N/A           N/A         + 114.55 \\200   + 115.59 \\200  \n",
       "3 male     + 67.3 \\200   N/A           N/A         + 31.6 \\200     + 41.96 \\200   \n",
       "4 young    N/A        N/A           N/A         N/A          N/A         \n",
       "5 adult    + 155.28 \\200 + 72.36 \\200     + 60.36 \\200   + 113.4 \\200    + 123 \\200     \n",
       "  sexta-feira sábado    \n",
       "1 N/A         + 207.37 \\200\n",
       "2 + 136.91 \\200  + 226.22 \\200\n",
       "3 + 55.89 \\200   + 107.69 \\200\n",
       "4 N/A         + 55.75 \\200 \n",
       "5 + 146.28 \\200  + 249.36 \\200"
      ]
     },
     "metadata": {},
     "output_type": "display_data"
    },
    {
     "name": "stdout",
     "output_type": "stream",
     "text": [
      "Total Sales: 4769.74 €\n",
      "Total Costs: - 2540 €\n",
      "Total Profit: 2229.74 €\n",
      "Score (70% Profit per Campaign && 30% Total Profit): 751.0703"
     ]
    }
   ],
   "source": [
    "formatCampaigns(pred, results, days)\n",
    "totalSales <- sum(sales(pred, results))\n",
    "totalCosts <- sum(costs(pred, results))\n",
    "cat(\"Total Sales:\", totalSales, \"€\\n\")\n",
    "cat(\"Total Costs: -\", totalCosts, \"€\\n\")\n",
    "cat(\"Total Profit:\", totalSales - totalCosts, \"€\\n\")\n",
    "cat(\"Score (70% Profit per Campaign && 30% Total Profit):\", score)"
   ]
  },
  {
   "cell_type": "code",
   "execution_count": null,
   "id": "7f03788d",
   "metadata": {},
   "outputs": [],
   "source": []
  }
 ],
 "metadata": {
  "kernelspec": {
   "display_name": "R",
   "language": "R",
   "name": "ir"
  },
  "language_info": {
   "codemirror_mode": "r",
   "file_extension": ".r",
   "mimetype": "text/x-r-source",
   "name": "R",
   "pygments_lexer": "r",
   "version": "4.1.2"
  }
 },
 "nbformat": 4,
 "nbformat_minor": 5
}
